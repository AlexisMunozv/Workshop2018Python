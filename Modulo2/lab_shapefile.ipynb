{
 "cells": [
  {
   "cell_type": "markdown",
   "metadata": {},
   "source": [
    "# shapefile\n",
    "\n",
    "https://gis.stackexchange.com/questions/113799/how-to-read-a-shapefile-in-python\n",
    "https://macwright.org/2012/10/31/gis-with-python-shapely-fiona.html\n",
    "\n",
    "https://chrishavlin.wordpress.com/2016/11/16/shapefiles-tutorial/"
   ]
  },
  {
   "cell_type": "code",
   "execution_count": 16,
   "metadata": {},
   "outputs": [],
   "source": [
    "import numpy as np\n",
    "import matplotlib.pyplot as plt\n",
    "import matplotlib\n",
    "params = {'font.size'     : 18,\n",
    "          'figure.figsize':(11.0, 6.0), # 'figure.figsize':(ncols, nfilas)\n",
    "          'lines.linewidth': 2.,\n",
    "          'lines.markersize': 15,\n",
    "          'lines.linestyle' : \"-\",\n",
    "          'lines.marker' : 'o'}\n",
    "matplotlib.rcParams.update(params)"
   ]
  },
  {
   "cell_type": "code",
   "execution_count": 34,
   "metadata": {},
   "outputs": [
    {
     "name": "stdout",
     "output_type": "stream",
     "text": [
      "[0] \n",
      "\n"
     ]
    }
   ],
   "source": [
    "# Usando PyShp\n",
    "import shapefile as shp\n",
    "\n",
    "sf = shp.Reader('./data/shp/Countries_Shape/ne_10m_admin_0_countries.shp')\n",
    "\n",
    "shapes = sf.shapeRecords()\n",
    "#primero = shapes.shape.__geo_interface__\n",
    "primero = shapes[1].shape.parts\n",
    "print(primero,\"\\n\")\n",
    "\"\"\"\n",
    "tipo = primero[\"type\"]\n",
    "coordenadas = primero[\"coordinates\"]\n",
    "print(tipo)\n",
    "#print(coordenadas)\n",
    "#print(coordenadas[0])\n",
    "for i in coordenadas[0]:\n",
    "    #print(i)\n",
    "    plt.plot(i[0],i[1])\n",
    "plt.show()\n",
    "\"\"\"\n",
    "for shape in sf.shapeRecords():    \n",
    "    # indexando cada componente del mapa \n",
    "    l = shape.shape.parts\n",
    "    len_l = len(l)  # cantidad de paises i.e. islas y continentes\n",
    "    xsh = [i[0] for i in shape.shape.points[:]] # lista de latitudes\n",
    "    ysh = [i[1] for i in shape.shape.points[:]] # lista de longitudes"
   ]
  },
  {
   "cell_type": "code",
   "execution_count": null,
   "metadata": {},
   "outputs": [],
   "source": []
  },
  {
   "cell_type": "code",
   "execution_count": 11,
   "metadata": {},
   "outputs": [
    {
     "name": "stdout",
     "output_type": "stream",
     "text": [
      "<class 'list'>\n",
      "255\n"
     ]
    }
   ],
   "source": [
    "fig = plt.figure(facecolor='w')\n",
    "ax =fig.add_axes([0.1,0.1,0.78,0.85])\n",
    "\n",
    "for shape in sf.shapeRecords():    \n",
    "    # indexando cada componente del mapa \n",
    "    l = shape.shape.parts\n",
    "    \n",
    "    len_l = len(l)  # cantidad de paises i.e. islas y continentes\n",
    "    xsh = [i[0] for i in shape.shape.points[:]] # lista de latitudes\n",
    "    ysh = [i[1] for i in shape.shape.points[:]] # lista de longitudes\n",
    "    l.append(len(xsh)) # asegurar el cierre del último componente\n",
    "    for k in range(len_l):\n",
    "        # graficar cada componente del mapa\n",
    "        # l[k] a l[k + 1] es el conjunto puntos que forman cada componente\n",
    "        ax.plot(xsh[l[k]:l[k + 1]],ysh[l[k]:l[k + 1]], 'k-')\n",
    "    \n",
    "plt.show()"
   ]
  },
  {
   "cell_type": "code",
   "execution_count": 1,
   "metadata": {},
   "outputs": [
    {
     "ename": "ImportError",
     "evalue": "/home/vrojas/anaconda3/lib/python3.6/site-packages/fiona/../../.././libkea.so.1.4: undefined symbol: _ZNK2H58H5Object13openAttributeERKSs",
     "output_type": "error",
     "traceback": [
      "\u001b[0;31m---------------------------------------------------------------------------\u001b[0m",
      "\u001b[0;31mImportError\u001b[0m                               Traceback (most recent call last)",
      "\u001b[0;32m<ipython-input-1-c0044c9e56b3>\u001b[0m in \u001b[0;36m<module>\u001b[0;34m()\u001b[0m\n\u001b[1;32m      3\u001b[0m \u001b[0;34m\u001b[0m\u001b[0m\n\u001b[1;32m      4\u001b[0m \u001b[0;31m# usando fiona\u001b[0m\u001b[0;34m\u001b[0m\u001b[0;34m\u001b[0m\u001b[0m\n\u001b[0;32m----> 5\u001b[0;31m \u001b[0;32mimport\u001b[0m \u001b[0mfiona\u001b[0m\u001b[0;34m\u001b[0m\u001b[0m\n\u001b[0m\u001b[1;32m      6\u001b[0m \u001b[0;34m\u001b[0m\u001b[0m\n\u001b[1;32m      7\u001b[0m \u001b[0mshapef\u001b[0m \u001b[0;34m=\u001b[0m \u001b[0mfiona\u001b[0m\u001b[0;34m.\u001b[0m\u001b[0mopen\u001b[0m\u001b[0;34m(\u001b[0m\u001b[0;34m'./data/shp/Countries_Shape/ne_10m_admin_0_countries.shp'\u001b[0m\u001b[0;34m)\u001b[0m\u001b[0;34m\u001b[0m\u001b[0m\n",
      "\u001b[0;32m~/anaconda3/lib/python3.6/site-packages/fiona/__init__.py\u001b[0m in \u001b[0;36m<module>\u001b[0;34m()\u001b[0m\n\u001b[1;32m     67\u001b[0m \u001b[0;32mfrom\u001b[0m \u001b[0msix\u001b[0m \u001b[0;32mimport\u001b[0m \u001b[0mstring_types\u001b[0m\u001b[0;34m\u001b[0m\u001b[0m\n\u001b[1;32m     68\u001b[0m \u001b[0;34m\u001b[0m\u001b[0m\n\u001b[0;32m---> 69\u001b[0;31m \u001b[0;32mfrom\u001b[0m \u001b[0mfiona\u001b[0m\u001b[0;34m.\u001b[0m\u001b[0mcollection\u001b[0m \u001b[0;32mimport\u001b[0m \u001b[0mCollection\u001b[0m\u001b[0;34m,\u001b[0m \u001b[0mBytesCollection\u001b[0m\u001b[0;34m,\u001b[0m \u001b[0mvsi_path\u001b[0m\u001b[0;34m\u001b[0m\u001b[0m\n\u001b[0m\u001b[1;32m     70\u001b[0m \u001b[0;32mfrom\u001b[0m \u001b[0mfiona\u001b[0m\u001b[0;34m.\u001b[0m\u001b[0m_drivers\u001b[0m \u001b[0;32mimport\u001b[0m \u001b[0mdriver_count\u001b[0m\u001b[0;34m,\u001b[0m \u001b[0mGDALEnv\u001b[0m\u001b[0;34m\u001b[0m\u001b[0m\n\u001b[1;32m     71\u001b[0m \u001b[0;32mfrom\u001b[0m \u001b[0mfiona\u001b[0m\u001b[0;34m.\u001b[0m\u001b[0mdrvsupport\u001b[0m \u001b[0;32mimport\u001b[0m \u001b[0msupported_drivers\u001b[0m\u001b[0;34m\u001b[0m\u001b[0m\n",
      "\u001b[0;32m~/anaconda3/lib/python3.6/site-packages/fiona/collection.py\u001b[0m in \u001b[0;36m<module>\u001b[0;34m()\u001b[0m\n\u001b[1;32m      7\u001b[0m \u001b[0;34m\u001b[0m\u001b[0m\n\u001b[1;32m      8\u001b[0m \u001b[0;32mfrom\u001b[0m \u001b[0mfiona\u001b[0m \u001b[0;32mimport\u001b[0m \u001b[0mcompat\u001b[0m\u001b[0;34m\u001b[0m\u001b[0m\n\u001b[0;32m----> 9\u001b[0;31m \u001b[0;32mfrom\u001b[0m \u001b[0mfiona\u001b[0m\u001b[0;34m.\u001b[0m\u001b[0mogrext\u001b[0m \u001b[0;32mimport\u001b[0m \u001b[0mIterator\u001b[0m\u001b[0;34m,\u001b[0m \u001b[0mItemsIterator\u001b[0m\u001b[0;34m,\u001b[0m \u001b[0mKeysIterator\u001b[0m\u001b[0;34m\u001b[0m\u001b[0m\n\u001b[0m\u001b[1;32m     10\u001b[0m \u001b[0;32mfrom\u001b[0m \u001b[0mfiona\u001b[0m\u001b[0;34m.\u001b[0m\u001b[0mogrext\u001b[0m \u001b[0;32mimport\u001b[0m \u001b[0mSession\u001b[0m\u001b[0;34m,\u001b[0m \u001b[0mWritingSession\u001b[0m\u001b[0;34m\u001b[0m\u001b[0m\n\u001b[1;32m     11\u001b[0m from fiona.ogrext import (\n",
      "\u001b[0;31mImportError\u001b[0m: /home/vrojas/anaconda3/lib/python3.6/site-packages/fiona/../../.././libkea.so.1.4: undefined symbol: _ZNK2H58H5Object13openAttributeERKSs"
     ]
    }
   ],
   "source": [
    "\"\"\"\n",
    "# Usando ogr\n",
    "#from osgeo import ogr\n",
    "from osgeo import ogr\n",
    "file = ogr.Open(\"my_shapefile.shp\")\n",
    "shape = file.GetLayer(0)\n",
    "#first feature of the shapefile\n",
    "feature = shape.GetFeature(0)\n",
    "first = feature.ExportToJson()\n",
    "print first # (GeoJSON format)\n",
    "\n",
    "# usando fiona\n",
    "#import fiona\n",
    "#shapef = fiona.open('./data/shp/Countries_Shape/ne_10m_admin_0_countries.shp')\n",
    "#print(shapef.shema)\n",
    "#first feature of the shapefile\n",
    "first = shape.next()\n",
    "print first # (GeoJSON format)\n",
    "\"\"\"\n",
    "\n",
    "# Usando shapely\n",
    "from shapely.geometry import shape\n",
    "\n",
    "shp_geo = shape(first[\"geometry\"])\n",
    "print(shp_geo)"
   ]
  }
 ],
 "metadata": {
  "kernelspec": {
   "display_name": "Python 3",
   "language": "python",
   "name": "python3"
  },
  "language_info": {
   "codemirror_mode": {
    "name": "ipython",
    "version": 3
   },
   "file_extension": ".py",
   "mimetype": "text/x-python",
   "name": "python",
   "nbconvert_exporter": "python",
   "pygments_lexer": "ipython3",
   "version": "3.6.5"
  }
 },
 "nbformat": 4,
 "nbformat_minor": 2
}
