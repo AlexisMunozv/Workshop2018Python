{
 "cells": [
  {
   "cell_type": "markdown",
   "metadata": {},
   "source": [
    "# Python para Geociencias\n",
    "\n",
    "### Víctor Rojas\n",
    "#### vr.rojaspozo@gmail.com\n",
    "\n",
    "Esto es parte de las notas de [**Python para Geociencias**](https://github.com/vrrp/Workshop2018Python)  "
   ]
  },
  {
   "cell_type": "markdown",
   "metadata": {},
   "source": [
    "# 10. Introducción a la estadística\n",
    "\n",
    "La estadística es una disciplina que usa las matemáticas como herramienta para la gestión y análisis de datos obtenidos de la realidad, con la finalidad de inferir conclusiones respecto a ellos. Los estadísticos más importantes que veremos a continuación son:\n",
    "* La media muestral $(\\mathbf{\\bar{X}})$\n",
    "* La desviación típica muestral $(\\mathbf{\\sigma})$\n",
    "* La varianza muestral $(\\mathbf{\\sigma}^{2})$\n",
    "* La covarianza muestral $(\\mathbf{s}_{XY})$\n",
    "* Coeficiente de correlación lineal de Pearson $(\\mathbf{r}_{XY})$\n",
    "* Regresión lineal.\n",
    "\n",
    "En el directorio **data** se encuentra el archivo **resist_temp.csv** que contiene mediciones de un termistor a diferentes temperaturas. Estos datos serán el conjunto de datos muestral."
   ]
  },
  {
   "cell_type": "code",
   "execution_count": 3,
   "metadata": {},
   "outputs": [
    {
     "name": "stdout",
     "output_type": "stream",
     "text": [
      "LECTURAS   TEMPERATURAS    R1\n",
      "1          0               1426\n",
      "2          5               1177\n",
      "3          10              930\n",
      "4          15              750\n",
      "5          20              563\n",
      "6          25              523\n",
      "7          30              382\n",
      "8          35              320\n",
      "9          40              273\n",
      "10         45              223\n",
      "11         50              187\n",
      "12         55              160\n",
      "13         60              134\n",
      "14         65              117\n",
      "15         70              101\n",
      "16         75              87\n",
      "1                        0 1426\n",
      "2                        5 1177\n",
      "3                       10 930\n",
      "4                       15 750\n",
      "5                       20 563\n",
      "6                       25 523\n",
      "7                       30 382\n",
      "8                       35 320\n",
      "9                       40 273\n",
      "10                      45 223\n",
      "11                      50 187\n",
      "12                      55 160\n",
      "13                      60 134\n",
      "14                      65 117\n",
      "15                      70 101\n",
      "16                      75 87\n"
     ]
    }
   ],
   "source": [
    "import numpy as np\n",
    "#x, y = np.loadtxt(\"./data/resist_temp.csv\", delimiter=',',skiprows=0, usecols=(0, 2), unpack=True)\n",
    "\n",
    "filename = \"./data/resist_temp.csv\"\n",
    "def getDataCol(filename, ncol):\n",
    "    fillValue = 999\n",
    "    file = open(filename,'r')\n",
    "    dataCol = []\n",
    "    for line in file.readlines():\n",
    "        l = line.replace('\\n','').split(',')\n",
    "        if type(l[ncol])==\"str\":\n",
    "            try:\n",
    "                dataCol.append(float(l[ncol]))\n",
    "            except (RuntimeError, ValueError, TypeError, NameError):\n",
    "                dataCol.append(fillValue)\n",
    "        else: dataCol.append(l[ncol])                \n",
    "    return dataCol\n",
    "\n",
    "col0 = getDataCol(filename, 0)        \n",
    "col1 = getDataCol(filename, 1)\n",
    "col2 = getDataCol(filename, 2)\n",
    "\n",
    "for i,j,k in zip(col0,col1,col2):\n",
    "    print(\"{0:10} {1:15} {2}\".format(i,j,k))\n",
    "    \n",
    "col0 = np.array(col0[1:])\n",
    "temp = np.array(col1[1:], np.int32)\n",
    "r1 = np.array(col2[1:], np.int32)\n",
    "\n",
    "for i,j,k in zip(col0, temp, r1):\n",
    "    print(\"{0:10} {1:15} {2}\".format(i,j,k))\n"
   ]
  },
  {
   "cell_type": "markdown",
   "metadata": {},
   "source": [
    "Una representación gráfica de los datos facilita su análisis  e interpretación. Para este fin se hará uso del  paquete **matplotlib**, el cual se tratará con mayor detalle en el capítulo 10."
   ]
  },
  {
   "cell_type": "markdown",
   "metadata": {
    "collapsed": true
   },
   "source": [
    "## * La media muestral $(\\mathbf{\\bar{X}})$\n",
    "Son las medidas de tendencia central ampliamente usadas para describir una variable. Nos indica en donde se ubican los valores centrales de ls datos.\n",
    "\n",
    "### $$\\mathbf{\\bar{X}} = \\frac{1}{n} \\sum_{i=1}^{n}x_{i} \n",
    " $$"
   ]
  },
  {
   "cell_type": "code",
   "execution_count": 52,
   "metadata": {},
   "outputs": [
    {
     "name": "stdout",
     "output_type": "stream",
     "text": [
      "temp =  [ 0  5 10 15 20 25 30 35 40 45 50 55 60 65 70 75]\n",
      "media(temp) =  37.5\n",
      "\n",
      "numpy: media(temp) =  37.5\n"
     ]
    }
   ],
   "source": [
    "def media(muestra):\n",
    "    total = 0\n",
    "    for i in muestra:\n",
    "        total += i\n",
    "    media = total / len(muestra)\n",
    "    return media\n",
    "\n",
    "print(\"temp = \", temp)\n",
    "print(\"media(temp) = \", media(temp))\n",
    "\n",
    "print(\"\\nnumpy: media(temp) = \", np.mean(temp))\n"
   ]
  },
  {
   "cell_type": "markdown",
   "metadata": {},
   "source": [
    "## * Desviación típica muestral $(\\mathbf{\\sigma}_{x})$\n",
    "Es una medida del **grado de dispersión** de los datos con respecto al valor promedio.\n",
    "\n",
    "### $$ \\mathbf{\\sigma}_{x} = \\sqrt{\\frac{\\sum_{i=1}^{n}(x_{i} - \\bar{X})^{2}}{n}}\n",
    " $$"
   ]
  },
  {
   "cell_type": "code",
   "execution_count": 41,
   "metadata": {},
   "outputs": [
    {
     "name": "stdout",
     "output_type": "stream",
     "text": [
      "[1426 1182  940  765  583  548  412  355  313  268  237  215  194  182  171\n",
      "  162]\n"
     ]
    }
   ],
   "source": [
    "def des_estandar(muestra):\n",
    "    total = 0\n",
    "    print(muestra)\n",
    "    \n",
    "    for i in muestra:\n",
    "        total += i\n",
    "    media = total / len(muestra)\n",
    "    total = 0\n",
    "    for i in muestra:\n",
    "        total += (i - media) ** 2\n",
    "    desviacion = (total / len(muestra)) ** 0.5\n",
    "    return desviacion"
   ]
  },
  {
   "cell_type": "markdown",
   "metadata": {},
   "source": [
    "## * Varianza muestral $(\\mathbf{S}_{x})$\n",
    "La varianza muestral también es una medida de dispersión de un conjunto de datos y está definida por la siguinetne expresión.\n",
    "\n",
    "\n",
    "### $$ \\mathbf{S}_{x}=\\mathbf{\\sigma}^{2}_{x} = \\frac{\\sum_{i=1}^{n}(x_{i} - \\bar{X})^{2}}{n}\n",
    "$$"
   ]
  },
  {
   "cell_type": "code",
   "execution_count": null,
   "metadata": {
    "collapsed": true
   },
   "outputs": [],
   "source": [
    "def varianza(muestra):\n",
    "    total = 0\n",
    "    print(muestra)\n",
    "    \n",
    "    for i in muestra:\n",
    "        total += i\n",
    "    media = total / len(muestra)\n",
    "    total = 0\n",
    "    for i in muestra:\n",
    "        total += (i - media) ** 2\n",
    "    varianza = (total / len(muestra)) \n",
    "    return varianza"
   ]
  },
  {
   "cell_type": "markdown",
   "metadata": {},
   "source": [
    "## * Covarianza $(\\mathbf{S}_{xy})$\n",
    "La covarianza mide la relación lineal entre dos variables.\n",
    "Se dice que dos variables están **variando conjuntamente, y en el mismo sentido**, cuando al crecer los valores de una de las variables tmabién aumenta los de la otra.\n",
    "En cambio, están **variando conjuntamente, pero en sentido contrario**, cuando al aumentar los valores de una, los de la otra disminuyen.\n",
    "\n",
    "$$ \\mathbf{S}_{xy} = \\frac{\\sum_{i=1}^{n}(x_{i} - \\bar{X})(y_{i} - \\bar{Y})}{n} = \\frac{1}{n}\\sum_{i=1}^{n}x_{i}y_{i} - \\bar{x} . \\bar{y}\n",
    "$$\n",
    "La **covarianza**, puede ser utilizada como una medida inicial de la asociación lineal entre las dos variables, de modo que si éstqa es positiva, nos indica una relación directa entre ellas y si es negativa, nos indica una relación inversa. Si las variables son independientes, entonces la covarianza es aproximadamente cero.\n",
    "<img src=\"util/cov.gif\" height=\"650\" width=\"650\">\n"
   ]
  },
  {
   "cell_type": "code",
   "execution_count": 96,
   "metadata": {},
   "outputs": [
    {
     "data": {
      "image/png": "[encoded data removed]",
      "text/plain": [
       "<matplotlib.figure.Figure at 0x7fd15f975320>"
      ]
     },
     "metadata": {},
     "output_type": "display_data"
    }
   ],
   "source": [
    "import matplotlib.pyplot as plt\n",
    "\n",
    "plt.plot(temp, r1, \"o\")\n",
    "plt.xlabel(\"temperatura (°C)\")\n",
    "plt.ylabel(\"resistencia (ohms)\")\n",
    "plt.show()"
   ]
  },
  {
   "cell_type": "code",
   "execution_count": 4,
   "metadata": {},
   "outputs": [
    {
     "name": "stdout",
     "output_type": "stream",
     "text": [
      "-8372.65625\n",
      "\n",
      "Numpy:\n",
      "\n",
      "[[   566.66666667  -8930.83333333]\n",
      " [ -8930.83333333 169340.39583333]]\n",
      "\n",
      "\n",
      "[[   531.25        -8372.65625   ]\n",
      " [ -8372.65625    158756.62109375]]\n",
      "\n",
      "\n",
      "[[   531.25        -8372.65625   ]\n",
      " [ -8372.65625    158756.62109375]]\n",
      "-8372.65625\n",
      "-8372.65625\n"
     ]
    }
   ],
   "source": [
    "def covar(x,y):\n",
    "    if len(x) != len(x):\n",
    "        return\n",
    "    xtotal = 0\n",
    "    ytotal = 0\n",
    "    \n",
    "    for ix,iy in zip(x,y):\n",
    "        xtotal += ix\n",
    "        ytotal += iy\n",
    "        \n",
    "    xmedia = xtotal / len(x)\n",
    "    ymedia = ytotal / len(y)\n",
    "    \n",
    "    total = 0    \n",
    "    for ix,iy in zip(x,y):\n",
    "        total += (ix - xmedia)*(iy - ymedia)\n",
    "    covarianza = (total / len(x)) \n",
    "    return covarianza\n",
    "\n",
    "\n",
    "print(covar(temp,r1))\n",
    "\n",
    "print(\"\\nNumpy:\")\n",
    "X = np.stack((temp, r1), axis=0)\n",
    "print()\n",
    "print(np.cov(X))\n",
    "print(\"\\n\")\n",
    "print(np.cov(X, bias=True))\n",
    "print(\"\\n\")\n",
    "print(np.cov(X, ddof=0))\n",
    "print(np.cov(X, bias=True)[0][1])\n",
    "print(np.cov(temp, r1, ddof=0)[0][1])"
   ]
  },
  {
   "cell_type": "markdown",
   "metadata": {},
   "source": [
    "Aunque la covarianza es similar a la correlación entre dos variables, difieren de las siguiente manera:\n",
    "* Los coeficientes de **correlación** están estandarizado. Por tanto, una correlación perfecta da como resultado un coeficinete de 1. La correlación mide tanto la fuerza como la dirección de la relación entre dos variables.\n",
    "* Los valores de **covarianza** no están estandarizados. Por consiguiente, la covarianza pude ir desde infinito negativo hasta infinito positivo. Por lo tanto, el valor de una relación perfecta depende de los datos. Puesto que los datos no están estandarizados, es difícil determinar la fuerza de la relación entre las variables."
   ]
  },
  {
   "cell_type": "markdown",
   "metadata": {},
   "source": [
    "## * Coeficiente de correlación lineal de Pearson $(\\mathbf{r}_{xy})$\n",
    "En estadística, el **coeficiente de correlación de Pearson** es una medida de la relación lineal entre dos variables aleatorias cuantivativas. A diferencia de la covarianza, la correlación de **Pearson** es independiente de la escala de medida de las variables.\n",
    "\n",
    "De manera menos formal, el coeficiente de **Pearson** se define como un índice que pueda utilizarse para medir el grado de relación de dos variables siempre y cuando ambas sean cuantitativas y continuas.\n",
    "\n",
    "$$ \\mathbf{r}_{xy} = \\frac{\\mathbf{S}_{xy}}{\\mathbf{S}_{x}\\mathbf{S}_{y}} = \\frac{n\\sum_{i=1}^{n}x_{i}y_{i} - \\sum_{i=1}^{n}x_{i}\\sum_{i=1}^{n}y_{i}}{\\sqrt{n\\sum{x_{i}^{2}}- (\\sum{x_{i}})^{2} } \\sqrt{n\\sum{y_{i}^{2}}- (\\sum{y_{i}})^{2} }}$$\n",
    "\n",
    "### Interpretación\n",
    "El valor del índice de correlación **$(\\mathbf{r}_{xy})$** varía en el intérvalo $[-1, 1]$, donde el signo indica el sentido de la relación:\n",
    "\n",
    "* Si **r = 1**, existe una correlación positiva perfecta. El índice indica una dependencia total entre las dos variables denominada relación directa: cuando una de ellas aumenta, la otra también lo hace en proporción constante.\n",
    "* Si **0 < r < 1**, existe una correlación positiva.\n",
    "* Si **r = 0**, no existe relación lineal. Pero esto no necesariamente implica que las variables son independientes: pueden existir todavía relaciones no lineales entre las dos variables.\n",
    "* Si **-1 < r < 0**, existe una correlación negativa.\n",
    "* Si **r = -1**, existe una correlación negativa perfecta. El índice indica una dependencia total entre las dos variables llamada relación inversa: cuando una de ellas aumenta, la otra disminuye en proporción constante.\n",
    "\n",
    "(Fuente: **Wikipedia**)"
   ]
  },
  {
   "cell_type": "code",
   "execution_count": 92,
   "metadata": {},
   "outputs": [
    {
     "name": "stdout",
     "output_type": "stream",
     "text": [
      "-0.911691416633\n",
      "[[ 1.         -0.91169142]\n",
      " [-0.91169142  1.        ]]\n"
     ]
    }
   ],
   "source": [
    "def cPearson(xx,yy,type):\n",
    "    n = len(xx)\n",
    "    x = np.zeros(n);   y = np.zeros(n)\n",
    "    x2 = np.zeros(n); y2 = np.zeros(n)\n",
    "    xy = np.zeros(n)\n",
    "    \n",
    "    lny= np.zeros(n)\n",
    "    lny2= np.zeros(n)\n",
    "    xlny= np.zeros(n)\n",
    "    for i in range(n):\n",
    "        x[i]=float(xx[i])\n",
    "        y[i]=float(yy[i])\n",
    "    sum_x, sum_y = (sum(x), sum(y))\n",
    "    \n",
    "    if(type=='lineal'):\n",
    "        for i in range(n):\n",
    "            xy[i]  = x[i]*y[i]\n",
    "            x2[i]  = x[i]*x[i]\n",
    "            y2[i]  = y[i]*y[i]\n",
    "        sum_x2  = sum(x2); sum_y2  = sum(y2); sum_xy  = sum(xy)\n",
    "        \n",
    "        r = (n*sum_xy - sum_x*sum_y)/(np.sqrt(n*sum_x2 - sum_x**2)*np.sqrt(n*sum_y2 - sum_y**2))\n",
    "        return r\n",
    "    \n",
    "        \n",
    "p = cPearson(temp,r1,\"lineal\")\n",
    "print(p)\n",
    "\n",
    "pp = np.corrcoef(temp, r1)\n",
    "print(pp)"
   ]
  },
  {
   "cell_type": "markdown",
   "metadata": {},
   "source": [
    "## * Regresión lineal\n",
    "\n",
    "En estadística la **regresión lineal ** o **ajuste lineal** es un modelo matemático usado para aproximar la relación de dependencia entre una variable dependiente **y** e independiente **x**. Esta puede ser una dependencia causa efecto, por ejemplo, la cantidad de lluvia (causa), da lugar al aumento de la producción agrícola (efecto).\n",
    "\n",
    "Si la distribución de los datos presentata una distribución lineal, entonces el modelo matemático está dado por la siguiente relación.\n",
    "\n",
    "$y = ax + b$\n",
    "\n",
    "donde de:\n",
    "$$ \\mathbf{a}=\\frac{n\\sum_{i=1}^{n}x_{i}y_{i} - \\sum_{i=1}^{n}x_{i} \\sum_{i=1}^{n}y_{i}}{n\\sum_{i=1}^{n}x_{i}^{2} -(\\sum_{i=1}^{n}x_{i})^{2}}\n",
    "$$\n",
    "\n",
    "$$ \\mathbf{b}=\\frac{\\sum_{i=1}^{n}x_{i}^{2} \\sum_{i=1}^{n}y_{i}  - \\sum_{i=1}^{n}x_{i}y_{i}\\sum_{i=1}^{n}x_{i}}{n\\sum_{i=1}^{n}x_{i}^{2} -(\\sum_{i=1}^{n}x_{i})^{2}}\n",
    "$$\n",
    "\n",
    "Si la distribución de los datos presentata una distribución nolineal, entonces el modelo matemático está dado por la siguiente relación.\n",
    "\n",
    "$y = be^{ax}$\n",
    "\n",
    "Esta relación es posible linealizar haciendo las siguientes operaciones:\n",
    "$y = be^{ax}$\n",
    "\n",
    "$ln(y = be^{ax})$\n",
    "\n",
    "$lny = lnb + lne^{ax}$\n",
    "\n",
    "$lny = ax + lnb$\n"
   ]
  },
  {
   "cell_type": "code",
   "execution_count": 5,
   "metadata": {},
   "outputs": [
    {
     "name": "stderr",
     "output_type": "stream",
     "text": [
      "/home/vrojas/anaconda3/lib/python3.6/site-packages/ipykernel_launcher.py:8: RuntimeWarning: divide by zero encountered in log\n",
      "  \n"
     ]
    },
    {
     "data": {
      "image/png": "[encoded data removed]",
      "text/plain": [
       "<matplotlib.figure.Figure at 0x7f569c008080>"
      ]
     },
     "metadata": {},
     "output_type": "display_data"
    },
    {
     "data": {
      "image/png": "[encoded data removed]",
      "text/plain": [
       "<matplotlib.figure.Figure at 0x7f569c008748>"
      ]
     },
     "metadata": {},
     "output_type": "display_data"
    }
   ],
   "source": [
    "import matplotlib.pyplot as plt\n",
    "plt.figure()\n",
    "plt.plot(temp, r1, \"o\")\n",
    "plt.xlabel(\"temperatura (°C)\")\n",
    "plt.ylabel(\"resistencia (ohms)\")\n",
    "\n",
    "plt.figure()\n",
    "plt.plot(np.log(temp), r1, \"o\")\n",
    "plt.xlabel(\"temperatura (°C)\")\n",
    "plt.ylabel(\"resistencia (ohms)\")\n",
    "plt.show()"
   ]
  },
  {
   "cell_type": "code",
   "execution_count": null,
   "metadata": {
    "collapsed": true
   },
   "outputs": [],
   "source": []
  }
 ],
 "metadata": {
  "kernelspec": {
   "display_name": "Python 3",
   "language": "python",
   "name": "python3"
  },
  "language_info": {
   "codemirror_mode": {
    "name": "ipython",
    "version": 3
   },
   "file_extension": ".py",
   "mimetype": "text/x-python",
   "name": "python",
   "nbconvert_exporter": "python",
   "pygments_lexer": "ipython3",
   "version": "3.6.4"
  }
 },
 "nbformat": 4,
 "nbformat_minor": 2
}
