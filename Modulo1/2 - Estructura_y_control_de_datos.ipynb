{
 "cells": [
  {
   "cell_type": "markdown",
   "metadata": {},
   "source": [
    "# Python para Geociencias"
   ]
  },
  {
   "cell_type": "markdown",
   "metadata": {},
   "source": [
    "### Víctor Rojas\n",
    "#### vr.rojaspozo@gmail.com"
   ]
  },
  {
   "cell_type": "markdown",
   "metadata": {},
   "source": [
    "Esto es parte de las notas de [**Python para Geociencias**](https://github.com/koldunovn/python_for_geosciences) notes."
   ]
  },
  {
   "cell_type": "markdown",
   "metadata": {
    "collapsed": true
   },
   "source": [
    "# 2. Estructuras y control de datos"
   ]
  },
  {
   "cell_type": "markdown",
   "metadata": {},
   "source": [
    "## 2.1. Tipos de variables"
   ]
  },
  {
   "cell_type": "markdown",
   "metadata": {},
   "source": [
    "Los tipos de variables posibles en Python son:\n",
    "\n",
    "### Números:\n",
    "\n",
    "* string     (str): Son caracteres, no tienen valor numerico.\n",
    "* interger   (int): Números enteros ó naturales\n",
    "* float      (float): Numeros flotantes ó reales"
   ]
  },
  {
   "cell_type": "code",
   "execution_count": 1,
   "metadata": {
    "collapsed": false
   },
   "outputs": [
    {
     "name": "stdout",
     "output_type": "stream",
     "text": [
      "a es:  <class 'int'>\n",
      "3\n",
      "\n",
      "b es:  <class 'float'>\n",
      "39.747\n",
      "\n",
      "z es:  <class 'complex'>\n",
      "(4+6j)\n",
      "\n",
      "a+b= 42.747\n",
      "\n",
      "str2 + a =  126\n",
      "<class 'int'>\n"
     ]
    }
   ],
   "source": [
    "a = 3        # esto es un número entero [int].\n",
    "print(\"a es: \", type(a))\n",
    "print(a)\n",
    "\n",
    "b = 39.747  # esto es un número de coma flotante (float)\n",
    "print(\"\\nb es: \", type(b))\n",
    "print(b)\n",
    "\n",
    "z = 4 + 6j   # esto es un número complejo \n",
    "print(\"\\nz es: \", type(z))\n",
    "print(z)\n",
    "\n",
    "str1 = 'hola'\n",
    "\n",
    "str2 = int(\"123\")\n",
    "\n",
    "print(\"\\na+b=\", a + b)\n",
    "print(\"\\nstr2 + a = \", str2 + a)\n",
    "print(type(str2))\n"
   ]
  },
  {
   "cell_type": "markdown",
   "metadata": {},
   "source": [
    "### Cadena de texto: "
   ]
  },
  {
   "cell_type": "code",
   "execution_count": 2,
   "metadata": {
    "collapsed": false
   },
   "outputs": [
    {
     "name": "stdout",
     "output_type": "stream",
     "text": [
      "c1 es:  <class 'str'>\n",
      "Bienvenido año nuevo \n",
      "\n",
      "c2 es:  <class 'str'>\n",
      "2018\n",
      "\n",
      "c3 es:  <class 'str'>\n",
      "Bienvenido año nuevo 2018\n",
      "\n",
      "c3 tiene  25 caracteres\n"
     ]
    }
   ],
   "source": [
    "c1 = \"Bienvenido año nuevo \"    # esto es una cadena de caracteres.\n",
    "print(\"c1 es: \", type(c1))\n",
    "print(c1)\n",
    "\n",
    "c2 = \"2018\"          # esto es una cadena de caracteres. \n",
    "print(\"\\nc2 es: \", type(c2))\n",
    "print(c2)\n",
    "\n",
    "c3 = c1 + c2         # concatenación de dos cadenas de caracteres\n",
    "print(\"\\nc3 es: \", type(c3))\n",
    "print(c3)\n",
    "print(\"\\nc3 tiene \", len(c3), \"caracteres\") # La función [len] devuelve el número de caracteres de una cadena.\n",
    "\n"
   ]
  },
  {
   "cell_type": "markdown",
   "metadata": {},
   "source": [
    "### Booleanos:\n",
    "El tipo booleano sólo puede tener dos valores: True (cierto) y False (falso). Estos valores son especialmente importantes para las expresiones condicionales y los bucles."
   ]
  },
  {
   "cell_type": "code",
   "execution_count": 19,
   "metadata": {
    "collapsed": false
   },
   "outputs": [
    {
     "data": {
      "text/plain": [
       "True"
      ]
     },
     "execution_count": 19,
     "metadata": {},
     "output_type": "execute_result"
    }
   ],
   "source": [
    "# Conjunción\n",
    "True and True\n",
    "#True and False\n"
   ]
  },
  {
   "cell_type": "code",
   "execution_count": 17,
   "metadata": {
    "collapsed": false
   },
   "outputs": [
    {
     "data": {
      "text/plain": [
       "False"
      ]
     },
     "execution_count": 17,
     "metadata": {},
     "output_type": "execute_result"
    }
   ],
   "source": [
    "# Disyunción\n",
    "#True or True\n",
    "#True or False\n",
    "False or False"
   ]
  },
  {
   "cell_type": "markdown",
   "metadata": {},
   "source": [
    "### Ejemplos:"
   ]
  },
  {
   "cell_type": "code",
   "execution_count": 21,
   "metadata": {
    "collapsed": false
   },
   "outputs": [
    {
     "name": "stdout",
     "output_type": "stream",
     "text": [
      "dd es:  False\n"
     ]
    }
   ],
   "source": [
    "dd= not True\n",
    "print(\"dd es: \", dd)\n"
   ]
  },
  {
   "cell_type": "code",
   "execution_count": 22,
   "metadata": {
    "collapsed": false
   },
   "outputs": [
    {
     "data": {
      "text/plain": [
       "False"
      ]
     },
     "execution_count": 22,
     "metadata": {},
     "output_type": "execute_result"
    }
   ],
   "source": [
    "not not not not not True"
   ]
  },
  {
   "cell_type": "code",
   "execution_count": 19,
   "metadata": {
    "collapsed": false
   },
   "outputs": [
    {
     "data": {
      "text/plain": [
       "True"
      ]
     },
     "execution_count": 19,
     "metadata": {},
     "output_type": "execute_result"
    }
   ],
   "source": [
    "(4 < 5) and (5 < 6)"
   ]
  },
  {
   "cell_type": "code",
   "execution_count": 20,
   "metadata": {
    "collapsed": false
   },
   "outputs": [
    {
     "data": {
      "text/plain": [
       "False"
      ]
     },
     "execution_count": 20,
     "metadata": {},
     "output_type": "execute_result"
    }
   ],
   "source": [
    "(4 < 5 ) and (9 < 6)"
   ]
  },
  {
   "cell_type": "code",
   "execution_count": 24,
   "metadata": {
    "collapsed": false
   },
   "outputs": [
    {
     "name": "stdout",
     "output_type": "stream",
     "text": [
      "x1 es:  True\n",
      "x2 es:  False\n"
     ]
    }
   ],
   "source": [
    "x1 = (1 == 2) or (2 == 2)\n",
    "x2 = (1 == 2) and (2 == 2)\n",
    "\n",
    "print(\"x1 es: \", x1)\n",
    "print(\"x2 es: \", x2)"
   ]
  },
  {
   "cell_type": "code",
   "execution_count": 22,
   "metadata": {
    "collapsed": false
   },
   "outputs": [
    {
     "data": {
      "text/plain": [
       "True"
      ]
     },
     "execution_count": 22,
     "metadata": {},
     "output_type": "execute_result"
    }
   ],
   "source": [
    "2 + 2 == 4 and not 2 + 2 == 5 and 2 * 2 == 2 + 2"
   ]
  },
  {
   "cell_type": "markdown",
   "metadata": {},
   "source": [
    "## 2.2. Métodos de cadenas\n",
    "\n",
    "En otros lenguajes de programación es necesario escribir o declarar variables antes que puedan almacenar\n",
    "cualquier cosa en ellas. Esto no es necesario cuando trabajas con cadenas de caracteres en Python."
   ]
  },
  {
   "cell_type": "code",
   "execution_count": 27,
   "metadata": {
    "collapsed": false
   },
   "outputs": [
    {
     "name": "stdout",
     "output_type": "stream",
     "text": [
      "Interacción océano atmósfera\n"
     ]
    }
   ],
   "source": [
    "cadena1 = \"océano \"\n",
    "cadena2 = \"atmósfera\"\n",
    "\n",
    "cadena = \"Interacción \"+cadena1 + cadena2\n",
    "print(cadena)\n"
   ]
  },
  {
   "cell_type": "code",
   "execution_count": 25,
   "metadata": {
    "collapsed": false
   },
   "outputs": [
    {
     "name": "stdout",
     "output_type": "stream",
     "text": [
      "Interacción océano atmósfera\n",
      "----\n",
      "Interacción océano \n",
      "atmósfera\n"
     ]
    }
   ],
   "source": [
    "cadena1 = \"océano \"\n",
    "cadena2 = \"atmósfera\"\n",
    "\n",
    "cadena = \"Interacción \"+cadena1 + cadena2\n",
    "print(cadena)\n",
    "print(\"--\"*2)\n",
    "\n",
    "cadena1 = \"océano \\n\"\n",
    "cadena2 = \"atmósfera\"\n",
    "cadena = \"Interacción \"+cadena1 + cadena2\n",
    "print(cadena)\n"
   ]
  },
  {
   "cell_type": "code",
   "execution_count": 26,
   "metadata": {
    "collapsed": false
   },
   "outputs": [
    {
     "name": "stdout",
     "output_type": "stream",
     "text": [
      "123123\n"
     ]
    }
   ],
   "source": [
    "cadena = \"123\"\n",
    "numero = str(123)\n",
    "c = cadena + numero\n",
    "print(c)"
   ]
  },
  {
   "cell_type": "markdown",
   "metadata": {},
   "source": [
    "### Indexación de cadenas"
   ]
  },
  {
   "cell_type": "code",
   "execution_count": 28,
   "metadata": {
    "collapsed": false
   },
   "outputs": [
    {
     "name": "stdout",
     "output_type": "stream",
     "text": [
      "Interacción océano atmósfera\n",
      "\n",
      "\n",
      "índice [0]: I\n",
      "índice [:] al [4]: Inte\n",
      "------------------------------------------------\n",
      "índice [-1]: a\n",
      "índice [-1] al [-4]: fera\n"
     ]
    }
   ],
   "source": [
    "cadena1 = \"océano \"\n",
    "cadena2 = \"atmósfera\"\n",
    "\n",
    "cadena = \"Interacción \"+cadena1 + cadena2\n",
    "print(cadena)\n",
    "print(\"\\n\")\n",
    "\n",
    "print(\"índice [0]:\", cadena[0])\n",
    "print(\"índice [:] al [4]:\", cadena[:4])\n",
    "print(\"------------------------------------------------\")\n",
    "\n",
    "print(\"índice [-1]:\", cadena[-1])\n",
    "print(\"índice [-1] al [-4]:\", cadena[-4:])\n"
   ]
  },
  {
   "cell_type": "markdown",
   "metadata": {},
   "source": [
    "### Multiplicar cadena"
   ]
  },
  {
   "cell_type": "code",
   "execution_count": 47,
   "metadata": {
    "collapsed": false
   },
   "outputs": [
    {
     "name": "stdout",
     "output_type": "stream",
     "text": [
      "Interacción Interacción Interacción océano atmósfera\n",
      "\n",
      "\n",
      "Interacción Interacción Interacción Interacción Interacción Interacción océano atmósfera\n"
     ]
    }
   ],
   "source": [
    "cadena1 = \"océano \"\n",
    "cadena2 = \"atmósfera\"\n",
    "\n",
    "cadena = \"Interacción \"*3 + cadena1 + cadena2\n",
    "print(cadena)\n",
    "\n",
    "print(\"\\n\")\n",
    "cadena = \"Interacción \"*6 + cadena1 + cadena2\n",
    "print(cadena)\n"
   ]
  },
  {
   "cell_type": "markdown",
   "metadata": {},
   "source": [
    "### Añadir caracteres a una cadena"
   ]
  },
  {
   "cell_type": "code",
   "execution_count": 29,
   "metadata": {
    "collapsed": false
   },
   "outputs": [
    {
     "name": "stdout",
     "output_type": "stream",
     "text": [
      "Interacción océano atmósfera\n",
      "\n",
      "\n",
      "Interacción océano atmósfera continente\n"
     ]
    }
   ],
   "source": [
    "cadena1 = \"océano \"\n",
    "cadena2 = \"atmósfera\"\n",
    "\n",
    "cadena = \"Interacción \" + cadena1 + cadena2\n",
    "print(cadena)\n",
    "\n",
    "print(\"\\n\")\n",
    "cadena += \" continente\"\n",
    "print(cadena)\n"
   ]
  },
  {
   "cell_type": "markdown",
   "metadata": {},
   "source": [
    "### Determinar el número de caracteres de una cadena\n",
    "\n",
    "La función [len] devuelve el número de caracteres de una cadena. Esto es considerando\n",
    "la cantidad de caracteres y espacios en blanco."
   ]
  },
  {
   "cell_type": "code",
   "execution_count": 52,
   "metadata": {
    "collapsed": false
   },
   "outputs": [
    {
     "name": "stdout",
     "output_type": "stream",
     "text": [
      "7\n",
      "9\n",
      "28\n"
     ]
    }
   ],
   "source": [
    "cadena1 = \"océano \"\n",
    "print(len(cadena1))\n",
    "\n",
    "cadena2 = \"atmósfera\"\n",
    "print(len(cadena2))\n",
    "\n",
    "cadena = \"Interacción \" + cadena1 + cadena2\n",
    "print(len(cadena))\n"
   ]
  },
  {
   "cell_type": "markdown",
   "metadata": {},
   "source": [
    "### Buscar sub-cadenas\n",
    "\n",
    "Es posible recorrer todas las sub cadenas de una cadena, utilizando el método\n",
    "[find], quién devuelve el índice de inicio de la sub-cadena."
   ]
  },
  {
   "cell_type": "code",
   "execution_count": 54,
   "metadata": {
    "collapsed": false
   },
   "outputs": [
    {
     "name": "stdout",
     "output_type": "stream",
     "text": [
      "Interacción océano atmósfera\n",
      "19\n"
     ]
    }
   ],
   "source": [
    "cadena1 = \"océano \"\n",
    "cadena2 = \"atmósfera\"\n",
    "\n",
    "cadena = \"Interacción \" + cadena1 + cadena2\n",
    "print(cadena)\n",
    "\n",
    "buscarSC = cadena.find(\"atmósfera\")\n",
    "print(buscarSC)\n"
   ]
  },
  {
   "cell_type": "markdown",
   "metadata": {},
   "source": [
    "Si la sub-cadena no se encuentra dentro de la cadena, el método [find] devolverá el valor -1"
   ]
  },
  {
   "cell_type": "code",
   "execution_count": 30,
   "metadata": {
    "collapsed": false
   },
   "outputs": [
    {
     "name": "stdout",
     "output_type": "stream",
     "text": [
      "Interacción océano atmósfera\n",
      "5\n"
     ]
    }
   ],
   "source": [
    "cadena1 = \"océano \"\n",
    "cadena2 = \"atmósfera\"\n",
    "\n",
    "cadena = \"Interacción \" + cadena1 + cadena2\n",
    "print(cadena)\n",
    "\n",
    "buscarSC = cadena.find(\"acción océ\")\n",
    "print(buscarSC)"
   ]
  },
  {
   "cell_type": "markdown",
   "metadata": {},
   "source": [
    "### Convertir: minúsculas y mayusculas"
   ]
  },
  {
   "cell_type": "code",
   "execution_count": 31,
   "metadata": {
    "collapsed": false
   },
   "outputs": [
    {
     "name": "stdout",
     "output_type": "stream",
     "text": [
      "Interacción océano atmósfera\n",
      "INTERACCIÓN OCÉANO ATMÓSFERA\n",
      "interacción océano atmósfera\n"
     ]
    }
   ],
   "source": [
    "cadena1 = \"océano \"\n",
    "cadena2 = \"atmósfera\"\n",
    "\n",
    "cadena = \"Interacción \" + cadena1 + cadena2\n",
    "\n",
    "print(cadena)\n",
    "print(cadena.upper())\n",
    "print(cadena.lower())"
   ]
  },
  {
   "cell_type": "markdown",
   "metadata": {},
   "source": [
    "### Reemplazar caracteres"
   ]
  },
  {
   "cell_type": "code",
   "execution_count": 60,
   "metadata": {
    "collapsed": false
   },
   "outputs": [
    {
     "name": "stdout",
     "output_type": "stream",
     "text": [
      "Interacción océano atmósfera\n",
      "Interacción landcéanland atmósfera\n"
     ]
    }
   ],
   "source": [
    "cadena1 = \"océano \"\n",
    "cadena2 = \"atmósfera\"\n",
    "\n",
    "cadena = \"Interacción \" + cadena1 + cadena2\n",
    "print(cadena)\n",
    "\n",
    "newCad = cadena.replace(\"o\", \"land\")\n",
    "print(newCad)\n",
    "\n"
   ]
  },
  {
   "cell_type": "markdown",
   "metadata": {},
   "source": [
    "## 2.4. Tuplas\n",
    "\n",
    "Al igual que las cadenas de caracteres, las tuplas son una secuencia de elementos ordenados.\n",
    "La diferencia de una tupla radica en que sus elementos no son necesariamente caracteres. Los elementos\n",
    "individuales pueden ser de cualquier tipo (str, int, float). Además, las tuplas son objetos inmutables."
   ]
  },
  {
   "cell_type": "code",
   "execution_count": 35,
   "metadata": {
    "collapsed": false
   },
   "outputs": [
    {
     "name": "stdout",
     "output_type": "stream",
     "text": [
      "t1 \t=  1\n",
      "t2 \t=  (1, 'a', 34.55, (3+4j), 'Hello world!', 1)\n",
      "<class 'int'>\n",
      "<class 'tuple'> \n",
      "\n",
      "t \t=  (1, 'a', 34.55, (3+4j), 'Hello world!', 1, 'two', 'rain')\n",
      "t[3] \t=  (3+4j)\n",
      "t[2:5] \t =  (34.55, (3+4j), 'Hello world!')\n",
      "------------------------------------------------------------\n",
      "len(t) 8\n"
     ]
    }
   ],
   "source": [
    "t1 = (1)\n",
    "print(\"t1 \\t= \",t1)\n",
    "\n",
    "t2 = (1, 'a', 34.55, 3 + 4j, 'Hello world!', t1)\n",
    "print(\"t2 \\t= \", t2)\n",
    "print(type(t1))\n",
    "print(type(t2), \"\\n\")\n",
    "\n",
    "t3= (\"two\",\"rain\")\n",
    "t = t2 + t3\n",
    "\n",
    "print(\"t \\t= \", t)\n",
    "print(\"t[3] \\t= \", t[3])\n",
    "print(\"t[2:5] \\t = \",t[2:5])\n",
    "\n",
    "print(\"---\"*20)\n",
    "print(\"len(t)\", len(t))\n",
    "\n"
   ]
  },
  {
   "cell_type": "markdown",
   "metadata": {},
   "source": [
    "## 2.3 Listas\n",
    "\n",
    "Al igual que una tupla, una lista es una secuencia de valores ordenados, donde cada valor es identificado por un\n",
    "índice. La sintaxis para expresar una lista es literalmente igual al de una tupla; la diferencia está en el uso \n",
    "de brackets ([]) en lugar de paréntesis y su mutabilidad."
   ]
  },
  {
   "cell_type": "code",
   "execution_count": 41,
   "metadata": {
    "collapsed": false
   },
   "outputs": [
    {
     "name": "stdout",
     "output_type": "stream",
     "text": [
      "l1 \t=  ['wind']\n",
      "l2 \t=  [1, 'a', 34.55, (3+4j), 'Hello world!', ['wind']]\n",
      "l \t=  [1, 'a', 34.55, (3+4j), 'Hello world!', 'hola', 'two', 'rain']\n",
      "l[3] \t=  (3+4j)\n",
      "l[3:5] \t =  [(3+4j), 'Hello world!']\n",
      "------------------------------------------------------------\n",
      "len(l) 8\n"
     ]
    }
   ],
   "source": [
    "l1 = [\"wind\"]\n",
    "print(\"l1 \\t= \",l1)\n",
    "\n",
    "l2 = [1, 'a', 34.55, 3 + 4j, 'Hello world!', l1]\n",
    "print(\"l2 \\t= \", l2)\n",
    "l2[-1]=\"hola\"\n",
    "\n",
    "l3= [\"two\",\"rain\"]\n",
    "l = l2 + l3\n",
    "print(\"l \\t= \", l)\n",
    "\n",
    "print(\"l[3] \\t= \", l[3])\n",
    "print(\"l[3:5] \\t = \",l[3:5])\n",
    "\n",
    "print(\"---\"*20)\n",
    "print(\"len(l)\", len(l))"
   ]
  },
  {
   "cell_type": "markdown",
   "metadata": {},
   "source": [
    "### Mutabilidad de una lista\n",
    "\n",
    "### Algunos métodos de las listas\n",
    "* lista[i]: Devuelve el elemento que está en la posición i de la lista.\n",
    "* lista.pop(i): Devuelve el elemento en la posición i de una lista y luego lo borra.\n",
    "* lista.append(elemento): Añade elemento al final de la lista.\n",
    "* lista.insert(i, elemento): Inserta elemento en la posición i.\n",
    "* lista.extend(lista2): Fusiona lista con lista2.\n",
    "* lista.remove(elemento): Elimina la primera vez que aparece elemento.\n",
    "* lista.count(e): Devuelve el número de veces que se repite (e) dentro de lista\n",
    "* lista.sort(): Ordena los elementos de la lista en orden ascendente\n",
    "* lista.reverse(): Invierte el orden de los elementos de la lista"
   ]
  },
  {
   "cell_type": "code",
   "execution_count": 89,
   "metadata": {
    "collapsed": false
   },
   "outputs": [
    {
     "name": "stdout",
     "output_type": "stream",
     "text": [
      "l1 \t=  ['wind']\n",
      "l2 \t=  [1, 'a', 34.55, (3+4j), 'Hello world!', ['wind']]\n",
      "\n",
      "Ejemplos de mutabilidad\n",
      "\n",
      "l2 \t=  [100, 'a', 34.55, (3+4j), 'Hello world!', ['wind', 'sst']]\n"
     ]
    }
   ],
   "source": [
    "l1 = [\"wind\"]\n",
    "print(\"l1 \\t= \",l1)\n",
    "\n",
    "l2 = [1, 'a', 34.55, 3 + 4j, 'Hello world!', l1]\n",
    "print(\"l2 \\t= \", l2)\n",
    "\n",
    "print(\"\\nEjemplos de mutabilidad\\n\")\n",
    "l2[0]=100\n",
    "l2[-1].append(\"sst\")\n",
    "print(\"l2 \\t= \", l2)"
   ]
  },
  {
   "cell_type": "markdown",
   "metadata": {},
   "source": [
    "### Convertir una cadena de caracteres en una lista"
   ]
  },
  {
   "cell_type": "code",
   "execution_count": 111,
   "metadata": {
    "collapsed": false
   },
   "outputs": [
    {
     "name": "stdout",
     "output_type": "stream",
     "text": [
      "Interacción océano atmósfera\n",
      "['Interacción', 'océano', 'atmósfera']\n",
      "['Interacción ', 'céan', ' atmósfera']\n",
      "Interacción\n",
      "océano\n",
      "atmósfera\n"
     ]
    }
   ],
   "source": [
    "cadena1 = \"océano \"\n",
    "cadena2 = \"atmósfera\"\n",
    "\n",
    "cadena = \"Interacción \" + cadena1 + cadena2\n",
    "print(cadena)\n",
    "\n",
    "lista1 = cadena.split(\" \")\n",
    "print(lista1)\n",
    "\n",
    "lista2 = cadena.split(\"o\")\n",
    "print(lista2)"
   ]
  },
  {
   "cell_type": "code",
   "execution_count": 112,
   "metadata": {
    "collapsed": false
   },
   "outputs": [
    {
     "name": "stdout",
     "output_type": "stream",
     "text": [
      "Interacción\n",
      "océano\n",
      "atmósfera\n"
     ]
    }
   ],
   "source": [
    "elem1, elem2, elem3 = lista1\n",
    "print(elem1)\n",
    "print(elem2)\n",
    "print(elem3)"
   ]
  },
  {
   "cell_type": "markdown",
   "metadata": {},
   "source": [
    "### Convertir una lista en una cadena de caracteres"
   ]
  },
  {
   "cell_type": "code",
   "execution_count": 109,
   "metadata": {
    "collapsed": false
   },
   "outputs": [
    {
     "name": "stdout",
     "output_type": "stream",
     "text": [
      "['Interacción', 'océano', 'atmósfera']\n",
      "Interacción -> océano -> atmósfera\n"
     ]
    }
   ],
   "source": [
    "print(lista1)\n",
    "s=\" -> \"\n",
    "newCadena = s.join(lista1)\n",
    "print(newCadena)"
   ]
  },
  {
   "cell_type": "markdown",
   "metadata": {},
   "source": [
    "## 2.5. Diccionarios\n",
    "\n",
    "De la misma forma como sucede con un diccionario  convencional, un diccionario en\n",
    "Python es un objeto que tiene asociado algo.\n",
    "\n",
    "Se crean poniendo sus elementos entre llaves:\n",
    "\n",
    "#### dic = {\"key\":\"value\", ...}\n",
    "\n",
    "#### Donde:\n",
    "\n",
    "#### \"key\"  : son numeros enteros o cadenas de caracteres.\n",
    "#### \"value\": numeros enteros, cadenas de caracteres, tuplas, listas, arrays. \n"
   ]
  },
  {
   "cell_type": "code",
   "execution_count": 117,
   "metadata": {
    "collapsed": false
   },
   "outputs": [
    {
     "name": "stdout",
     "output_type": "stream",
     "text": [
      "{'region': 'costa', 'superficie': '2672km2', 'altura': 154, 'lat': -12, 'lon': -77}\n",
      "<class 'dict'>\n"
     ]
    }
   ],
   "source": [
    "lima = {\"region\":\"costa\",\"superficie\":\"2672km2\",\"altura\": 154, \"lat\": -12, \"lon\":-77}\n",
    "print(lima)\n",
    "print(type(lima))\n",
    "#print(\"\\n\\n\")"
   ]
  },
  {
   "cell_type": "markdown",
   "metadata": {},
   "source": [
    "### Agregar elementos en diccionarios"
   ]
  },
  {
   "cell_type": "code",
   "execution_count": 115,
   "metadata": {
    "collapsed": false
   },
   "outputs": [
    {
     "name": "stdout",
     "output_type": "stream",
     "text": [
      "{'region': 'costa', 'superficie': '2672km2', 'altura': 154, 'lat': -12, 'lon': -77}\n"
     ]
    }
   ],
   "source": [
    "print(lima)"
   ]
  },
  {
   "cell_type": "code",
   "execution_count": 118,
   "metadata": {
    "collapsed": false
   },
   "outputs": [
    {
     "name": "stdout",
     "output_type": "stream",
     "text": [
      "{'region': 'costa', 'superficie': '2672km2', 'altura': 154, 'lat': -12, 'lon': -77, 'idioma': 'español', 'fundacion': '18 de enero de 1535', 'poblacion': [8574974, '3878928 mujeres', '3726814 hombres']}\n"
     ]
    }
   ],
   "source": [
    "lima[\"idioma\"]= \"español\"\n",
    "lima[\"fundacion\"]=\"18 de enero de 1535\"\n",
    "lima[\"poblacion\"]= [8574974,\"3878928 mujeres\", \"3726814 hombres\"]\n",
    "\n",
    "print(lima)"
   ]
  },
  {
   "cell_type": "markdown",
   "metadata": {},
   "source": [
    "### Estructura de un diccionario"
   ]
  },
  {
   "cell_type": "code",
   "execution_count": 135,
   "metadata": {
    "collapsed": false
   },
   "outputs": [
    {
     "name": "stdout",
     "output_type": "stream",
     "text": [
      "dict_keys(['region', 'superficie', 'altura', 'lat', 'lon', 'fundacion', 'poblacion'])\n",
      "\n",
      "\n",
      "dict_values(['costa', '2672km2', 154, -12, -77, '18 de enero de 1535', [8574974, '3878928 mujeres', '3726814 hombres']])\n",
      "\n",
      "\n",
      "[('region', 'costa'), ('superficie', '2672km2'), ('altura', 154), ('lat', -12), ('lon', -77), ('fundacion', '18 de enero de 1535'), ('poblacion', [8574974, '3878928 mujeres', '3726814 hombres'])]\n",
      "<class 'list'>\n",
      "('region', 'costa')\n"
     ]
    }
   ],
   "source": [
    "keys  = lima.keys()\n",
    "values= lima.values()\n",
    "items = list(lima.items())\n",
    "print(keys)\n",
    "print(\"\\n\")\n",
    "print(values)\n",
    "print(\"\\n\")\n",
    "print(items)\n",
    "print(type(items))\n",
    "print(items[0])"
   ]
  },
  {
   "cell_type": "markdown",
   "metadata": {},
   "source": [
    "### Operaciones con diccionarios\n",
    "\n",
    "* #### diccionario.get(‘key’): Devuelve el valor que corresponde con la key introducida.\n",
    "* #### diccionario.pop(‘key’): Devuelve el valor que corresponde con la key introducida, y luego borra la key y el valor.\n",
    "* #### diccionario.update({‘key’:’valor’}): Inserta una determinada key o actualiza su valor si ya existiera.\n",
    "* #### “key” in diccionario: Devuelve verdadero (True) o falso (False) si la key (no los valores) existe en el diccionario.\n",
    "* #### “definicion” in diccionario.values(): Devuelve verdadero (True) o falso (False) si definición existe en el diccionario (no como key).\n",
    "\n"
   ]
  },
  {
   "cell_type": "code",
   "execution_count": 125,
   "metadata": {
    "collapsed": false
   },
   "outputs": [
    {
     "name": "stdout",
     "output_type": "stream",
     "text": [
      "{'region': 'costa', 'superficie': '2672km2', 'altura': 154, 'lat': -12, 'lon': -77, 'idioma': 'español', 'fundacion': '18 de enero de 1535', 'poblacion': [8574974, '3878928 mujeres', '3726814 hombres']}\n",
      "\n",
      "idioma de lima ->  español\n"
     ]
    }
   ],
   "source": [
    "dic=lima\n",
    "print(dic)\n",
    "idioma = dic.get(\"idioma\")\n",
    "print(\"\\nidioma de lima -> \",idioma)"
   ]
  },
  {
   "cell_type": "code",
   "execution_count": 126,
   "metadata": {
    "collapsed": false
   },
   "outputs": [
    {
     "name": "stdout",
     "output_type": "stream",
     "text": [
      "{'region': 'costa', 'superficie': '2672km2', 'altura': 154, 'lat': -12, 'lon': -77, 'idioma': 'español', 'fundacion': '18 de enero de 1535', 'poblacion': [8574974, '3878928 mujeres', '3726814 hombres']}\n",
      "\n",
      "idioma de lima ->  español\n",
      "{'region': 'costa', 'superficie': '2672km2', 'altura': 154, 'lat': -12, 'lon': -77, 'fundacion': '18 de enero de 1535', 'poblacion': [8574974, '3878928 mujeres', '3726814 hombres']}\n"
     ]
    }
   ],
   "source": [
    "dic=lima\n",
    "print(dic)\n",
    "idioma = dic.pop(\"idioma\")\n",
    "print(\"\\nidioma de lima -> \",idioma)\n",
    "print(dic)"
   ]
  },
  {
   "cell_type": "code",
   "execution_count": null,
   "metadata": {
    "collapsed": true
   },
   "outputs": [],
   "source": []
  }
 ],
 "metadata": {
  "kernelspec": {
   "display_name": "Python 3",
   "language": "python",
   "name": "python3"
  },
  "language_info": {
   "codemirror_mode": {
    "name": "ipython",
    "version": 3
   },
   "file_extension": ".py",
   "mimetype": "text/x-python",
   "name": "python",
   "nbconvert_exporter": "python",
   "pygments_lexer": "ipython3",
   "version": "3.6.0"
  }
 },
 "nbformat": 4,
 "nbformat_minor": 1
}
