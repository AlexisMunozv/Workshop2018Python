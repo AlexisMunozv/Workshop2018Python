{
 "cells": [
  {
   "cell_type": "markdown",
   "metadata": {
    "slideshow": {
     "slide_type": "slide"
    }
   },
   "source": [
    "# Python para Geociencias"
   ]
  },
  {
   "cell_type": "markdown",
   "metadata": {
    "slideshow": {
     "slide_type": "fragment"
    }
   },
   "source": [
    "Víctor Rojas\n",
    "\n",
    "\n",
    "vr.rojaspozo@gmail.com"
   ]
  },
  {
   "cell_type": "markdown",
   "metadata": {
    "slideshow": {
     "slide_type": "skip"
    }
   },
   "source": [
    "Esto es parte de las notas de [**Python para Geociencias**](https://github.com/koldunovn/python_for_geosciences)."
   ]
  },
  {
   "cell_type": "markdown",
   "metadata": {
    "slideshow": {
     "slide_type": "slide"
    }
   },
   "source": [
    "# Porque usar python?"
   ]
  },
  {
   "cell_type": "markdown",
   "metadata": {
    "slideshow": {
     "slide_type": "fragment"
    }
   },
   "source": [
    "## - Es fácil de aprender, fácil de leer y potente para desarrollar"
   ]
  },
  {
   "cell_type": "markdown",
   "metadata": {
    "slideshow": {
     "slide_type": "fragment"
    }
   },
   "source": [
    "Python se caraceriza por tener módulos y paquetes incluidos, esto significa que dentro de la instalación básica del lenguaje, ya se encuentran incluidas muchas funciones que ayudan a realizar tareas complejas sin la necesidad de instalar paquetes ó módulos adicionales de terceros.\n",
    "\n",
    "La sintaxis que ofrece Python es una de sus características más notorias. En Python, un bloque de código interno (condicionales,loops), se crea a través de indentaciones, lo que fuerza al desarrollador a indentar su código fuente garantizando una sintaxis ordenada y ordenada."
   ]
  },
  {
   "cell_type": "markdown",
   "metadata": {
    "slideshow": {
     "slide_type": "slide"
    }
   },
   "source": [
    "##  - Es libre y de código abierto. "
   ]
  },
  {
   "cell_type": "markdown",
   "metadata": {
    "slideshow": {
     "slide_type": "fragment"
    }
   },
   "source": [
    "Python cuenta con licencia Python Software Foundation License, licencia muy parecida a la de GPL, con la excepción de que se puede distribuir los binarios del lenguaje sin tener que anexar las fuentes.\n",
    "\n",
    "La General license Public (GLP), permite a los usuarios usar modificar y redistribuir el software sin restricción alguna y garantizar la no apropiación del software."
   ]
  },
  {
   "cell_type": "markdown",
   "metadata": {
    "slideshow": {
     "slide_type": "slide"
    }
   },
   "source": [
    "## - Es multiplataforma."
   ]
  },
  {
   "cell_type": "markdown",
   "metadata": {
    "slideshow": {
     "slide_type": "fragment"
    }
   },
   "source": [
    "Python es un lenguaje de programación interpretado y es compatible con cualquier tipo de sistema operativo (Linux, Mac y Windows) que integre su interpretador. Asimismo, es posible utilizar executalbes compilados en Fortran, C++ y Java."
   ]
  },
  {
   "cell_type": "markdown",
   "metadata": {
    "slideshow": {
     "slide_type": "slide"
    }
   },
   "source": [
    "## - Es un lenguaje de propósito general."
   ]
  },
  {
   "cell_type": "markdown",
   "metadata": {
    "slideshow": {
     "slide_type": "fragment"
    }
   },
   "source": [
    "Python no sólo es multiplataforma, sino que también tiene la capacidad  y potencia para desarrollar aplicaciones web, apps y base de datos. Para estos fines Python cuenta con frameworks, los cuales permiten desarrollar algoritmos científicos de cálculo avanzado, hasta el desarrollo de juegos. Cabe resaltar que empresas prestigiosas, utilizan Python para programar todo tipo de aplicaciones y servicios. Los usuarios más distinguidos son Google, YouTube o Facebook."
   ]
  },
  {
   "cell_type": "markdown",
   "metadata": {
    "slideshow": {
     "slide_type": "slide"
    }
   },
   "source": [
    "# Desventajas:"
   ]
  },
  {
   "cell_type": "markdown",
   "metadata": {
    "slideshow": {
     "slide_type": "fragment"
    }
   },
   "source": [
    "## - Hay una base pequeña de código heredada"
   ]
  },
  {
   "cell_type": "markdown",
   "metadata": {
    "slideshow": {
     "slide_type": "fragment"
    }
   },
   "source": [
    "FORTRAN and Matlab are used for decades, and have a lot of libraries for all kinds of scientific needs. Although now main functionality is covered by python modules, there are still many specific areas where no python solution is available. This problem can be partly solved by python's integration with other languages ([MLabWrap](http://mlabwrap.sourceforge.net/), [F2py](http://www.f2py.com/))."
   ]
  },
  {
   "cell_type": "markdown",
   "metadata": {
    "slideshow": {
     "slide_type": "slide"
    }
   },
   "source": [
    "## - Es lento"
   ]
  },
  {
   "cell_type": "markdown",
   "metadata": {
    "slideshow": {
     "slide_type": "fragment"
    }
   },
   "source": [
    "... if you don't use vectorization or [Cython](http://www.cython.org/) or [numba](https://numba.pydata.org/) when loops are inevitable, or [dask](https://dask.pydata.org/en/latest/) when you have to work with parallel code. Critical parts still can be written in FORTRAN or C.  "
   ]
  },
  {
   "cell_type": "markdown",
   "metadata": {
    "slideshow": {
     "slide_type": "slide"
    }
   },
   "source": [
    "More reading on this topic:\n",
    "\n",
    "*  [10 Reasons Python Rocks for Research (And a Few Reasons it Doesn’t)](http://www.stat.washington.edu/~hoytak/blog/whypython.html)\n",
    "*  [I used Matlab. Now I use Python](http://stevetjoa.com/305/)\n",
    "*  [Eight Advantages of Python Over Matlab](http://phillipmfeldman.org/Python/Advantages_of_Python_Over_Matlab.html)"
   ]
  },
  {
   "cell_type": "markdown",
   "metadata": {
    "slideshow": {
     "slide_type": "slide"
    }
   },
   "source": [
    "# Usando Python en Ciencias de la Tierra"
   ]
  },
  {
   "cell_type": "markdown",
   "metadata": {
    "slideshow": {
     "slide_type": "fragment"
    }
   },
   "source": [
    "Lin, J. W.-B. (2012). [**Why Python Is the Next Wave in Earth Sciences Computing**](http://journals.ametsoc.org/doi/full/10.1175/BAMS-D-12-00148.1). *Bulletin of the American Meteorological Society*, 93(12), 1823–1824. doi:10.1175/BAMS-D-12-00148.1"
   ]
  },
  {
   "cell_type": "markdown",
   "metadata": {
    "slideshow": {
     "slide_type": "fragment"
    }
   },
   "source": [
    "- Though it has been around for two decades, it exploded into use in the atmospheric sciences just a few years ago after the development community converged upon the standard scientific packages (e.g., array handling) needed for atmospheric sciences work.\n",
    "\n",
    "- Much more robust and flexible workflow. Everything from data download to data analysys, visualization and finally writing a paper can be done in one environment."
   ]
  },
  {
   "cell_type": "markdown",
   "metadata": {
    "slideshow": {
     "slide_type": "slide"
    }
   },
   "source": [
    "- Ability to access innovations from industries outside of the Earth sciences (cloud computing, big data, mobile computing).\n",
    "\n",
    "- Institutional support includes groups at Lawrence Livermore National Laboratory’s Program for Climate Model Diagnosis and Intercomparison, NCAR’s Computer Information Systems Laboratory, and the British Atmospheric Data Centre."
   ]
  },
  {
   "cell_type": "markdown",
   "metadata": {
    "slideshow": {
     "slide_type": "slide"
    }
   },
   "source": [
    "## Otras lecturas:"
   ]
  },
  {
   "cell_type": "markdown",
   "metadata": {
    "slideshow": {
     "slide_type": "fragment"
    }
   },
   "source": [
    "*  [Lectures on Scientific Computing with Python.](https://github.com/jrjohansson/scientific-python-lectures#online-read-only-versions)\n",
    "*  [Python Scientific Lecture Notes](http://scipy-lectures.github.io/)\n",
    "*  [NumPy for Matlab Users](http://wiki.scipy.org/NumPy_for_Matlab_Users)\n",
    "*  [Python data tools just keep getting better](http://strata.oreilly.com/2013/03/python-data-tools-just-keep-getting-better.html)\n",
    "*  [Third Symposium on Advances in Modeling and Analysis Using Python](http://annual.ametsoc.org/2013/index.cfm/programs-and-events/conferences-and-symposia/third-symposium-on-advances-in-modeling-and-analysis-using-python/)"
   ]
  },
  {
   "cell_type": "code",
   "execution_count": null,
   "metadata": {
    "collapsed": true
   },
   "outputs": [],
   "source": []
  }
 ],
 "metadata": {
  "kernelspec": {
   "display_name": "Python 3",
   "language": "python",
   "name": "python3"
  },
  "language_info": {
   "codemirror_mode": {
    "name": "ipython",
    "version": 3
   },
   "file_extension": ".py",
   "mimetype": "text/x-python",
   "name": "python",
   "nbconvert_exporter": "python",
   "pygments_lexer": "ipython3",
   "version": "3.6.0"
  }
 },
 "nbformat": 4,
 "nbformat_minor": 1
}
