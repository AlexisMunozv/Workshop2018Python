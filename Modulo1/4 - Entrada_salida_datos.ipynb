{
 "cells": [
  {
   "cell_type": "markdown",
   "metadata": {},
   "source": [
    "# Python para Geociencias\n",
    "\n",
    "### Víctor Rojas\n",
    "#### vr.rojaspozo@gmail.com\n",
    "\n",
    "Esto es parte de las notas de [**Python para Geociencias**](https://github.com/vrrp/Workshop2018Python).\n",
    "\n",
    "# **https://github.com/vrrp/**"
   ]
  },
  {
   "cell_type": "markdown",
   "metadata": {},
   "source": [
    "# 4. Entrada y salida de datos\n",
    "En la última década se ha incrementado las fuentes desde las que se puede obtener y desplegar información (datos) que un sistema informatico consume, gestiona y genera. \n",
    "En Python existe una gran variedad de métodos para presentar la salida de datos, los cuales pueden ser impresos de manera legible para los humanos, o escritos a un archivo para su uso futuro. En este capítulo se tratará algunas de las posibilidades.\n"
   ]
  },
  {
   "cell_type": "markdown",
   "metadata": {},
   "source": [
    "## 4.1. Formateo de datos de salida\n",
    "\n",
    "Es importante tener el control de la salida de los datos ya se a través de la pantalla"
   ]
  },
  {
   "cell_type": "code",
   "execution_count": 25,
   "metadata": {
    "scrolled": true
   },
   "outputs": [
    {
     "name": "stdout",
     "output_type": "stream",
     "text": [
      "keys =  dict_keys(['region', 'superficie', 'altura', 'lat', 'lon'])\n",
      "values = dict_values(['costa', '2672km2', 154, -12, -77])\n",
      "items = dict_items([('region', 'costa'), ('superficie', '2672km2'), ('altura', 154), ('lat', -12), ('lon', -77)])\n",
      "\n",
      "Lima\n",
      "----\n",
      "La region es  costa\n",
      "La superficie es  2672km2\n",
      "La altura es  154\n",
      "La lat es  -12\n",
      "La lon es  -77\n",
      "\n",
      "\n",
      "region-->costa\n",
      "superficie-->2672km2\n",
      "altura-->154\n",
      "lat-->-12\n",
      "lon-->-77\n"
     ]
    }
   ],
   "source": [
    "lima = {\"region\":\"costa\",\"superficie\":\"2672km2\",\"altura\": 154, \"lat\": -12, \"lon\":-77}\n",
    "\n",
    "keys  = lima.keys()\n",
    "values= lima.values()\n",
    "items = lima.items()\n",
    "\n",
    "print(\"keys = \",keys)\n",
    "print(\"values =\", values)\n",
    "print(\"items =\", items)\n",
    "\n",
    "print(\"\\nLima\")\n",
    "print(\"-\"*len(\"Lima\"))\n",
    "\n",
    "# Primera forma\n",
    "for i,j in items:\n",
    "    print('La {0} es  {1}'.format(i , j))  \n",
    "    \n",
    "# Segunda forma\n",
    "#print(\"\\nnelem-keys =\", len(keys))\n",
    "#print(\"nelem-values =\", len(values))\n",
    "myzip = zip(keys, values)\n",
    "#print(type(myzip))\n",
    "print(\"\\n\")\n",
    "for ik, iv in myzip:\n",
    "    print('{0}-->{1}'.format(ik , iv))  \n",
    "                "
   ]
  },
  {
   "cell_type": "code",
   "execution_count": 26,
   "metadata": {},
   "outputs": [
    {
     "name": "stdout",
     "output_type": "stream",
     "text": [
      "region     --> costa\n",
      "superficie --> 2672km2\n",
      "altura     --> 154\n",
      "lat        --> -12\n",
      "lon        --> -77\n"
     ]
    }
   ],
   "source": [
    "for i,j in items:\n",
    "    print('{0:10} --> {1:1}'.format(i , j)) "
   ]
  },
  {
   "cell_type": "code",
   "execution_count": 45,
   "metadata": {},
   "outputs": [
    {
     "name": "stdout",
     "output_type": "stream",
     "text": [
      " 1      1       1\n",
      " 2      4       8\n",
      " 3      9      27\n",
      " 4     16      64\n",
      " 5     25     125\n",
      " 6     36     216\n",
      " 7     49     343\n",
      " 8     64     512\n",
      " 9     81     729\n",
      "10    100    1000\n",
      "\n",
      "a1 = [1, 2, 3, 4, 5, 6, 7, 8, 9, 10]\n",
      "a2 = [1, 4, 9, 16, 25, 36, 49, 64, 81, 100]\n",
      "a3 = [1, 8, 27, 64, 125, 216, 343, 512, 729, 1000]\n",
      " 1      1       1\n",
      " 2      4       8\n",
      " 3      9      27\n",
      " 4     16      64\n",
      " 5     25     125\n",
      " 6     36     216\n",
      " 7     49     343\n",
      " 8     64     512\n",
      " 9     81     729\n",
      "10    100    1000\n"
     ]
    }
   ],
   "source": [
    "for x in range(1,11):\n",
    "    print('{0:2} {1:6} {2:7}'.format(x, x * x, x * x * x))\n",
    "\n",
    "\n",
    "a1= list(range(1,11))\n",
    "a2=[]; a3=[]\n",
    "\n",
    "for ia1 in a1:\n",
    "    a2.append(ia1**2)\n",
    "    a3.append(ia1**3)\n",
    "print(\"\\na1 =\", a1)\n",
    "print(\"a2 =\", a2)\n",
    "print(\"a3 =\", a3)\n",
    "for ia1, ia2, ia3 in zip(a1,a2,a3):\n",
    "   print('{0:2} {1:6} {2:7}'.format(ia1, ia2, ia3))\n",
    "    \n",
    "        "
   ]
  },
  {
   "cell_type": "markdown",
   "metadata": {},
   "source": [
    "## 4.2. Salida de datos \n",
    "A nivel de informática existen una gran variedad de formatos de salida de archivos de datos, los cuales contienen información (datos) relevantes a un compo determinado. En Python la forma estandar de salida de datos es a través de la pantalla. Para lo cual se usa la función **print(arg1, arg2..., arg_n )**, mostrando en pantalla el contenido de una o más variables de manera temporal. Por otra parte la función **open(arg1, arg2)** permite crear un archivo en formato plano y almacenarlo me manera permanente en el disco duro. Es importante considerar que los argumentos **arg1, arg2** son de tipo cadena de caracteres.\n",
    "\n",
    "#### Ejempo:\n",
    "* Abrir fichero para escribir desde cero : **f = open (\"nombreArchivo.txt\", \"w\")**\n",
    "* Abrir fichero para añadir al final : **f = open (\"nombreArchivo.txt\", \"a\")**\n",
    "\n"
   ]
  },
  {
   "cell_type": "code",
   "execution_count": 65,
   "metadata": {},
   "outputs": [
    {
     "name": "stdout",
     "output_type": "stream",
     "text": [
      "Se crearon los archivos correctamente\n"
     ]
    }
   ],
   "source": [
    "lons = 90\n",
    "lats = 21\n",
    "\"\"\"\n",
    "#f = open('./data/lonlat_1forma.txt', 'w') # para Windows\n",
    "f = open('./data/lonlat_1forma.txt', 'w') # para Linux\n",
    "#f.write('{0:2d},{1:3d}\\n'.format(lons, lats))\n",
    "f.write('{0},{1}\\n'.format(\"lons\", \"lats\"))\n",
    "f.write('{0},{1}\\n'.format(lons, lats))\n",
    "f.close()\n",
    "print(\"Se crearon los archivos correctamente\")\n",
    "      \n",
    "\"\"\"\n",
    "# Segunda forma\n",
    "with open('./data/lonlat_2forma.txt', 'w') as f:\n",
    "    f.write('{0:2d} {1:3d}\\n'.format(lons, lats))\n",
    "f.close()\n",
    "print(\"Se crearon los archivos correctamente\")\n",
    "      \n",
    "  \n",
    "\n"
   ]
  },
  {
   "cell_type": "code",
   "execution_count": 75,
   "metadata": {},
   "outputs": [
    {
     "name": "stdout",
     "output_type": "stream",
     "text": [
      "nElem-lons = 11\n",
      "nElem-lats = 11\n",
      "0 NE/lons/lats:  est1 -77 3\n",
      "1 NE/lons/lats:  est2 -79 1\n",
      "2 NE/lons/lats:  est3 -80 -1\n",
      "3 NE/lons/lats:  est4 -80 -3\n",
      "4 NE/lons/lats:  est5 -81 -5\n",
      "5 NE/lons/lats:  est6 -80 -7\n",
      "6 NE/lons/lats:  est7 -79 -9\n",
      "7 NE/lons/lats:  est8 -78 -11\n",
      "8 NE/lons/lats:  est9 -77 -13\n",
      "9 NE/lons/lats:  est10 -76 -15\n",
      "10 NE/lons/lats:  est11 -73 -17\n",
      "Se crearon los archivos correctamente...!!!\n"
     ]
    }
   ],
   "source": [
    "lons = [-77,-79,-80,-80,-81,-80,-79,-78,-77,-76,-73]\n",
    "lats = range(3,-18,-2)\n",
    "ne=[\"est1\", \"est2\", \"est3\", \"est4\", \"est5\", \"est6\", \n",
    "           \"est7\", \"est8\", \"est9\", \"est10\", \"est11\"]\n",
    "\n",
    "print(\"nElem-lons =\", len(lons))\n",
    "print(\"nElem-lats =\", len(lats))\n",
    "\n",
    "f = open('./data/latlon_estacionesAut.txt', 'a')\n",
    "f.write('{0:2} {1:3} {2:2}\\n'.format(\"NE\", \"lons\", \"lats\"))\n",
    "for i in range(len(lons)):\n",
    "    #f.write('{0:},{1:}\\n'.format(lons[i], lats[i]))\n",
    "    f.write('{0:2} {1:3d} {2:2}\\n'.format(ne[i],lons[i], lats[i]))\n",
    "    print(i, \"NE/lons/lats: \",ne[i], lons[i], lats[i])\n",
    "f.close()\n",
    "print(\"Se crearon los archivos correctamente...!!!\")\n",
    "\n"
   ]
  },
  {
   "cell_type": "markdown",
   "metadata": {},
   "source": [
    "#### Ejercicio 01:\n",
    "Escribir un programa que genere los transectos longitudinales **(A, B, C)** como muestra la siguiente figura.\n",
    "<img  height=\"200\" src=\"util/area-estudio.png\">"
   ]
  },
  {
   "cell_type": "code",
   "execution_count": 81,
   "metadata": {},
   "outputs": [
    {
     "name": "stdout",
     "output_type": "stream",
     "text": [
      "Se crearon los archivos correctamente...!!!\n"
     ]
    }
   ],
   "source": [
    "lons = [-88,-85,-82]\n",
    "lats = range(-23,2,1)\n",
    "ne=[\"a\", \"b\", \"c\"]\n",
    "\n",
    "for itr in range(len(ne)):\n",
    "    #nameTracer =\"./data/latlon_tracer_\"+ne[itr]+\".txt\"\n",
    "    f = open(\"./data/latlon_tracer_\"+ne[itr]+\".txt\", 'a')\n",
    "    f.write('{0:2} {1:3}\\n'.format(\"lons\", \"lats\"))\n",
    "    for ilat in lats:\n",
    "        f.write('{0:2} {1:3d}\\n'.format(lons[itr], lats[i]))\n",
    "f.close()\n",
    "print(\"Se crearon los archivos correctamente...!!!\")"
   ]
  },
  {
   "cell_type": "markdown",
   "metadata": {},
   "source": [
    "## 4.3. Entrada de datos\n",
    "En Python existen dos formas de ingresar datos a la memoria RAM del ordenador para su posterior procesamiento. La primera forma es conocida como la **entrada estádar** con la instrucción **input()** . La isntrucción **input** es una función que captura los caracteres provenientes de **entrada estándar** (el teclado). Por otra parte la función **open(arg1, arg2)** permite cargar o levantar un archivo en formato plano desde el disco duro. Es importante considerar que los argumentos **arg1, arg2** son de tipo cadena de caracteres.\n",
    "\n",
    "#### Ejempo:\n",
    "* Abrir fichero de lectura : **f = open (\"nombreArchivo.txt\", mode=\"r\", encoding=\"utf-8\")**"
   ]
  },
  {
   "cell_type": "code",
   "execution_count": 98,
   "metadata": {},
   "outputs": [
    {
     "name": "stdout",
     "output_type": "stream",
     "text": [
      "<class 'str'>\n",
      "5\n",
      "65 1\n",
      "\n",
      "<class 'list'>\n",
      "['65', '1']\n",
      "651\n",
      "[65.0, 1.0]\n",
      "\n",
      "s = a + b = 65.0 + 1.0 = 66.0 \n"
     ]
    }
   ],
   "source": [
    "#f = open(\"./data/lonlat_1forma.txt\", mode=\"r\", encoding=\"utf-8\")\n",
    "f = open(\"./data/lonlat_1forma.txt\", \"r\")\n",
    "data = f.read()\n",
    "f.close()\n",
    "print(type(data))\n",
    "print(len(data))\n",
    "print(data)\n",
    "\n",
    "data=data.replace(\"\\n\", \"\").split()\n",
    "print(type(data))\n",
    "print(data)\n",
    "a=data[0]\n",
    "b=data[1]\n",
    "s = a + b\n",
    "print(s)\n",
    "dataNum = []\n",
    "for i in data:\n",
    "    dataNum.append(float(i))\n",
    "print(dataNum)   \n",
    "\n",
    "a, b =dataNum[0],dataNum[1]\n",
    "s = a + b\n",
    "print(\"\\ns = a + b = {0} + {1} = {2} \".format(a,b,s))\n"
   ]
  },
  {
   "cell_type": "code",
   "execution_count": null,
   "metadata": {},
   "outputs": [],
   "source": []
  },
  {
   "cell_type": "code",
   "execution_count": 74,
   "metadata": {},
   "outputs": [
    {
     "name": "stdout",
     "output_type": "stream",
     "text": [
      " -6.46244812  5.87695599  1005.99438\n",
      " -6.46244812  5.87695599  1005.99438\n",
      " -6.46244812  5.87695599  1005.99438\n",
      " -6.46244812  5.87695599  1005.99438\n",
      " -6.46244812  5.87695599  1005.99438\n",
      " -6.46244812  5.87695599  1005.99438\n",
      " -6.46244812  5.87695599  1005.99438\n",
      " -6.46244812  5.87695599  1005.99438\n",
      " -6.46244812  5.87695599  1005.99438\n",
      " -6.46244812  5.87695599  1005.99438\n",
      " -6.46244812  5.87695599  1005.99438\n",
      " -6.46244812  5.87695599  1005.99438\n",
      " -6.46244812  5.87695599  1005.99438\n",
      " -6.46244812  5.87695599  1005.99438\n",
      " -6.46244812  5.87695599  1005.99438\n",
      " -6.46244812  5.87695599  1005.99438\n",
      " -6.46244812  5.87695599  1005.99438\n",
      " -6.46244812  5.87695599  1005.99438\n",
      " -6.46244812  5.87695599  1005.99438\n",
      " -6.46244812  5.87695599  1005.99438\n",
      "\n",
      "740\n",
      "<class 'str'>\n"
     ]
    }
   ],
   "source": [
    "f = open(\"./data/uv_p.dat\", \"r\")\n",
    "data = f.read()\n",
    "\n",
    "print(data)\n",
    "print(len(data))\n",
    "print(type(data))\n"
   ]
  },
  {
   "cell_type": "code",
   "execution_count": 111,
   "metadata": {},
   "outputs": [
    {
     "name": "stdout",
     "output_type": "stream",
     "text": [
      "[' -6.46244812  5.87695599  1005.99438\\n', ' -6.46244812  5.87695599  1005.99438\\n', ' -6.46244812  5.87695599  1005.99438\\n', ' -6.46244812  5.87695599  1005.99438\\n', ' -6.46244812  5.87695599  1005.99438\\n', ' -6.46244812  5.87695599  1005.99438\\n', ' -6.46244812  5.87695599  1005.99438\\n', ' -6.46244812  5.87695599  1005.99438\\n', ' -6.46244812  5.87695599  1005.99438\\n', ' -6.46244812  5.87695599  1005.99438\\n', ' -6.46244812  5.87695599  1005.99438\\n', ' -6.46244812  5.87695599  1005.99438\\n', ' -6.46244812  5.87695599  1005.99438\\n', ' -6.46244812  5.87695599  1005.99438\\n', ' -6.46244812  5.87695599  1005.99438\\n', ' -6.46244812  5.87695599  1005.99438\\n', ' -6.46244812  5.87695599  1005.99438\\n', ' -6.46244812  5.87695599  1005.99438\\n', ' -6.46244812  5.87695599  1005.99438\\n', ' -6.46244812  5.87695599  1005.99438\\n']\n",
      "\n",
      "\n",
      "u= [-6.46244812, -6.46244812, -6.46244812, -6.46244812, -6.46244812, -6.46244812, -6.46244812, -6.46244812, -6.46244812, -6.46244812, -6.46244812, -6.46244812, -6.46244812, -6.46244812, -6.46244812, -6.46244812, -6.46244812, -6.46244812, -6.46244812, -6.46244812]\n",
      "\n",
      "v= [5.87695599, 5.87695599, 5.87695599, 5.87695599, 5.87695599, 5.87695599, 5.87695599, 5.87695599, 5.87695599, 5.87695599, 5.87695599, 5.87695599, 5.87695599, 5.87695599, 5.87695599, 5.87695599, 5.87695599, 5.87695599, 5.87695599, 5.87695599]\n",
      "\n",
      "p= [1005.99438, 1005.99438, 1005.99438, 1005.99438, 1005.99438, 1005.99438, 1005.99438, 1005.99438, 1005.99438, 1005.99438, 1005.99438, 1005.99438, 1005.99438, 1005.99438, 1005.99438, 1005.99438, 1005.99438, 1005.99438, 1005.99438, 1005.99438]\n",
      "\n",
      "\n",
      "[-6.46244812, -6.46244812, -6.46244812, -6.46244812, -6.46244812, -6.46244812, -6.46244812, -6.46244812, -6.46244812, -6.46244812, -6.46244812, -6.46244812, -6.46244812, -6.46244812, -6.46244812, -6.46244812, -6.46244812, -6.46244812, -6.46244812, -6.46244812, 5.87695599, 5.87695599, 5.87695599, 5.87695599, 5.87695599, 5.87695599, 5.87695599, 5.87695599, 5.87695599, 5.87695599, 5.87695599, 5.87695599, 5.87695599, 5.87695599, 5.87695599, 5.87695599, 5.87695599, 5.87695599, 5.87695599, 5.87695599]\n",
      "suv2 =  [-0.5854921300000004, -0.5854921300000004, -0.5854921300000004, -0.5854921300000004, -0.5854921300000004, -0.5854921300000004, -0.5854921300000004, -0.5854921300000004, -0.5854921300000004, -0.5854921300000004, -0.5854921300000004, -0.5854921300000004, -0.5854921300000004, -0.5854921300000004, -0.5854921300000004, -0.5854921300000004, -0.5854921300000004, -0.5854921300000004, -0.5854921300000004, -0.5854921300000004]\n"
     ]
    }
   ],
   "source": [
    "f = open(\"./data/uv_p.dat\", \"r\")\n",
    "data = f.readlines()\n",
    "\n",
    "print(data)\n",
    "\n",
    "aa=[];u=[]; v=[];p=[]\n",
    "for ilinea in data:\n",
    "    l = ilinea.replace(\"\\n\",\"\").split()\n",
    "    #print(l)\n",
    "    u.append(float(l[0]))\n",
    "    v.append(float(l[1]))\n",
    "    p.append(float(l[2]))\n",
    "print(\"\\n\")   \n",
    "print(\"u=\",u)\n",
    "print(\"\\nv=\",v)\n",
    "print(\"\\np=\",p)\n",
    "\n",
    "suv1 = u+v\n",
    "print(\"\\n\")\n",
    "print(suv1)\n",
    "\n",
    "# suma de los elementos de dos listas\n",
    "suv2=[]\n",
    "for i in range(len(u)):\n",
    "    suv2.append(u[i]+v[i])\n",
    "\n",
    "print(\"suv2 = \", suv2)"
   ]
  },
  {
   "cell_type": "code",
   "execution_count": 112,
   "metadata": {},
   "outputs": [
    {
     "data": {
      "text/plain": [
       "-0.5854921300000004"
      ]
     },
     "execution_count": 112,
     "metadata": {},
     "output_type": "execute_result"
    }
   ],
   "source": [
    "-6.46244812+5.87695599\n"
   ]
  },
  {
   "cell_type": "code",
   "execution_count": null,
   "metadata": {},
   "outputs": [],
   "source": []
  }
 ],
 "metadata": {
  "kernelspec": {
   "display_name": "Python 3",
   "language": "python",
   "name": "python3"
  },
  "language_info": {
   "codemirror_mode": {
    "name": "ipython",
    "version": 3
   },
   "file_extension": ".py",
   "mimetype": "text/x-python",
   "name": "python",
   "nbconvert_exporter": "python",
   "pygments_lexer": "ipython3",
   "version": "3.6.4"
  }
 },
 "nbformat": 4,
 "nbformat_minor": 2
}
