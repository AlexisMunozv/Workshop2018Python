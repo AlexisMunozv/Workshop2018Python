{
 "cells": [
  {
   "cell_type": "markdown",
   "metadata": {},
   "source": [
    "# Python para Geociencias\n",
    "\n",
    "### Víctor Rojas\n",
    "#### vr.rojaspozo@gmail.com\n",
    "\n",
    "Esto es parte de las notas de [**Python para Geociencias**](https://github.com/vrrp/Workshop2018Python)                                                            "
   ]
  },
  {
   "cell_type": "markdown",
   "metadata": {},
   "source": [
    "# 5. Funciones\n",
    "En Python, el término función tiene un significado más que sólo una función matemática. Una función es una colección de sentencias que puede ejecutarse una y otra vez. Este abstracción obedece a la filosofía de reutilizar código en diferentes programas. Puede enviar variables a la función para influir en lo que está siendo calculado por las instrucciones en la función, y la función puede devolverle objetos nuevos. Las funciones también se utilizan a menudo para dividir un programa largo en piezas más pequeñas y manejables, por lo que el programa y su propio pensamiento sobre él se vuelven más claros. Python viene con un amplio conjunto de funciones **(math, range, len, find, replace, split, join, os, sys,...etc)**.\n"
   ]
  },
  {
   "cell_type": "markdown",
   "metadata": {},
   "source": [
    "## 5.1. Palabras reservadas def y return\n",
    "\n",
    "Las funciones en Python, inician con la palabra reservada **def**, seguido por el nombre de la función, y entre paréntesis uno o más argumentos. Mietras que la palabra **return** devuelve el resultado de la función. De manera general una función se inicia con la palabra **def** y finalizar con la palabra **return**.\n",
    "\n",
    "\n"
   ]
  },
  {
   "cell_type": "code",
   "execution_count": 10,
   "metadata": {},
   "outputs": [
    {
     "name": "stdout",
     "output_type": "stream",
     "text": [
      "c =  8\n",
      "d =  19\n"
     ]
    }
   ],
   "source": [
    "def suma(a,b):\n",
    "    s = a+b\n",
    "    return s\n",
    "    \n",
    "\n",
    "c = suma(3,5)\n",
    "print(\"c = \", c)\n",
    "\n",
    "d = suma(33,-14)\n",
    "print(\"d = \", d)"
   ]
  },
  {
   "cell_type": "markdown",
   "metadata": {},
   "source": [
    "En el siguiente caso, la función **calcula_media_desviación(*ss)** contiene un sólo argimento **(*args)**, lo cual significa que en dicha función se puede ingresar una cantidad variable de argumentos y el intérprete de Python  creará una tupla con el número de variables numéricas siguiendo el orden declarado de manera consecutiva."
   ]
  },
  {
   "cell_type": "code",
   "execution_count": 12,
   "metadata": {},
   "outputs": [
    {
     "name": "stdout",
     "output_type": "stream",
     "text": [
      "ss =  (3, 5, 10, 12, 13)\n",
      "Datos: 3 5 10 12\n",
      "Media: 8.6\n",
      "Desviación típica: 3.9293765408777004\n",
      "Programa terminado\n"
     ]
    }
   ],
   "source": [
    "def calcula_media_desviacion(*ss):\n",
    "    total = 0\n",
    "    print(\"ss = \", ss)\n",
    "    # calcula media\n",
    "    for i in ss:\n",
    "        total += i\n",
    "    media = total / len(ss)\n",
    "    \n",
    "    #calcula std\n",
    "    total = 0\n",
    "    for i in ss:\n",
    "        total += (i - media) ** 2\n",
    "    desviacion = (total / len(ss)) ** 0.5\n",
    "    return media, desviacion\n",
    "\n",
    "a, b, c, d,e = 3, 5, 10, 12,13\n",
    "media, desviacion_tipica = calcula_media_desviacion(a, b, c, d,e)\n",
    "print(f\"Datos: {a} {b} {c} {d}\")\n",
    "print(f\"Media: {media}\")\n",
    "print(f\"Desviación típica: {desviacion_tipica}\")\n",
    "print(\"Programa terminado\")"
   ]
  },
  {
   "cell_type": "code",
   "execution_count": 17,
   "metadata": {},
   "outputs": [
    {
     "name": "stdout",
     "output_type": "stream",
     "text": [
      "10 °C -->  283 K\n",
      "10°C equivale a 50.0 F\n"
     ]
    }
   ],
   "source": [
    "def c2kf(C,convert2):\n",
    "    if convert2==\"K\":\n",
    "        K = C + 273\n",
    "        return K\n",
    "    elif convert2==\"F\":\n",
    "        F = (9/5)*C +32\n",
    "        return F\n",
    "\n",
    "K = c2kf(10,\"K\")   \n",
    "print(\"10 °C --> \",K, \"K\")\n",
    "\n",
    "F = c2kf(10,\"F\")   \n",
    "print(\"{0}°C equivale a {1} F\".format(10, F))"
   ]
  },
  {
   "cell_type": "code",
   "execution_count": 18,
   "metadata": {},
   "outputs": [
    {
     "name": "stdout",
     "output_type": "stream",
     "text": [
      "discriminante = -8\n",
      "La ecuación no tiene soluciones reales\n",
      "discriminante = -8\n",
      "La ecuación no tiene soluciones reales\n"
     ]
    }
   ],
   "source": [
    "def solEq2(a,b,c):\n",
    "    # Determinar el discriminante usando la ecuación (2)\n",
    "    discriminante = b**2 - 4*a*c\n",
    "    print(\"discriminante =\", discriminante)\n",
    "    \n",
    "    # Determinando las solucioines x1 y x2\n",
    "    import math \n",
    "    if discriminante >0:\n",
    "        x1 = (-b + math.sqrt(discriminante) )/(2*a)\n",
    "        x2 = (-b - math.sqrt(discriminante) )/(2*a)\n",
    "        \n",
    "        print(\"x1 = \", x1)\n",
    "        print(\"x2 = \", x2)\n",
    "        \n",
    "        print(\"\\n\")\n",
    "        print(a,\"(\",x1,\"**2) +\",  b,\"(\",x1,\") +\", c, \" = \", a*x1**2 + b*x1 + c)\n",
    "        print(a,\"(\",x2,\"**2) +\",  b,\"(\",x2,\") +\", c, \" = \", a*x2**2 + b*x2 + c)\n",
    "        return x1,x2\n",
    "    \n",
    "    elif discriminante ==0:\n",
    "        x1 = (-b + math.sqrt(discriminante) )/(2*a)\n",
    "        x2 = x1\n",
    "        print(\"x1,2= \", x2)\n",
    "        print(\"\\n\")\n",
    "        print(a,\"(\",x1,\"**2) +\",  b,\"(\",x1,\") +\", c, \" = \", a*x1**2 + b*x1 + c)\n",
    "        print(a,\"(\",x2,\"**2) +\",  b,\"(\",x2,\") +\", c, \" = \", a*x2**2 + b*x2 + c)\n",
    "        return x1,x2\n",
    "    else:\n",
    "        print(\"La ecuación no tiene soluciones reales\")\n",
    "        return 0,0\n",
    "        \n",
    "        \n",
    "    \n",
    "\n",
    "s1,s2 = solEq2(3,2,1)\n",
    "s1,s2 = solEq2(3,2,1)\n"
   ]
  },
  {
   "cell_type": "markdown",
   "metadata": {
    "collapsed": true
   },
   "source": [
    "Para crear una lista de números iniciando en un determinado valor y finalizando en otro valor, con un incremento determinado, similar a la función **range**. Definiremos la función **makeList** con tres argumentos, de la siguiente forma:\n",
    "\n",
    "**def makeList**(inicio, fin, inc)\n"
   ]
  },
  {
   "cell_type": "code",
   "execution_count": 9,
   "metadata": {},
   "outputs": [
    {
     "name": "stdout",
     "output_type": "stream",
     "text": [
      "lats =  [-23, -22.5, -22.0, -21.5, -21.0, -20.5, -20.0, -19.5, -19.0, -18.5, -18.0, -17.5, -17.0, -16.5, -16.0, -15.5, -15.0, -14.5, -14.0, -13.5, -13.0, -12.5, -12.0, -11.5, -11.0, -10.5, -10.0, -9.5, -9.0, -8.5, -8.0, -7.5, -7.0, -6.5, -6.0, -5.5, -5.0, -4.5, -4.0, -3.5, -3.0, -2.5, -2.0, -1.5, -1.0, -0.5, 0.0, 0.5, 1.0, 1.5, 2.0, 2.5, 3.0, 3.5, 4.0, 4.5, 5.0, 5.5, 6.0, 6.5, 7.0, 7.5, 8.0, 8.5, 9.0, 9.5, 10.0]\n",
      "\n",
      "lons =  [-90, -89.5, -89.0, -88.5, -88.0, -87.5, -87.0, -86.5, -86.0, -85.5, -85.0, -84.5, -84.0, -83.5, -83.0, -82.5, -82.0, -81.5, -81.0, -80.5, -80.0, -79.5, -79.0, -78.5, -78.0, -77.5, -77.0, -76.5, -76.0, -75.5, -75.0, -74.5, -74.0, -73.5, -73.0, -72.5, -72.0, -71.5, -71.0, -70.5, -70.0, -69.5, -69.0, -68.5, -68.0, -67.5, -67.0, -66.5, -66.0, -65.5, -65.0]\n",
      "\n",
      " \n",
      "    Genera una lista de valores iniciando en [inicio] hasta [fin], con un incremento [inc]\n",
      "    \n",
      "    \n"
     ]
    }
   ],
   "source": [
    "def makeList(inicio, fin, inc):\n",
    "    \"\"\"\n",
    "    Genera una lista de valores iniciando en [inicio] hasta [fin], con un incremento [inc]\n",
    "    \n",
    "    \"\"\"\n",
    "    valor= inicio\n",
    "    lista = []\n",
    "    while valor<=fin:\n",
    "        lista.append(valor)\n",
    "        valor = valor + inc\n",
    "    return lista\n",
    "lats = makeList(-23,10,0.5)\n",
    "print(\"lats = \", lats)\n",
    "\n",
    "lons = makeList(-90,-65,0.5)\n",
    "print(\"\\nlons = \", lons)\n",
    "print(\"\\n Documenta\", makeList.__doc__)"
   ]
  },
  {
   "cell_type": "markdown",
   "metadata": {},
   "source": [
    "## 5.1. Doc Strings\n",
    "Hay una convención en python para introducir documentación. La documentación es conocido  como un **doc string**, el cual puede contener una pequeña descripción del propósito de la función, explicando los diferentes argumentos y el valor de retorno o resultado de la función. En una sesión interactiva  desde el shell de Python **IPython** es común ilustrar la forma adecuada de usar el código. Usualmente el **Doc strings** va entre triple comilla **\"\"\"**, el cual permite escribir varias líneas a manera de comentario. "
   ]
  },
  {
   "cell_type": "code",
   "execution_count": 10,
   "metadata": {
    "collapsed": true
   },
   "outputs": [],
   "source": [
    "def eqRecta(x0, y0, x1, y1):\n",
    "    \"\"\"\n",
    "    Calcula la pendiente (a) y el intersecto (b) de una recta a partir de dos\n",
    "    pustos (x0, y0) y (x1, y1) que pertenecen a dicha recta.\n",
    "         \n",
    "    x0, y0: Un punto sobre la recta (floats).\n",
    "    x1, y1: Otro punto sobre la recta (floats).\n",
    "    retorna: los coeficientes  a, b (floats) para la recta (y=a*x+b).\n",
    "    \"\"\"\n",
    "    a = (y1 - y0)/float(x1 - x0)\n",
    "    b = y0 - a*x0\n",
    "    return a, b"
   ]
  },
  {
   "cell_type": "code",
   "execution_count": 11,
   "metadata": {},
   "outputs": [
    {
     "name": "stdout",
     "output_type": "stream",
     "text": [
      "\n",
      "    Calcula la pendiente (a) y el intersecto (b) de una recta a partir de dos\n",
      "    pustos (x0, y0) y (x1, y1) que pertenecen a dicha recta.\n",
      "         \n",
      "    x0, y0: Un punto sobre la recta (floats).\n",
      "    x1, y1: Otro punto sobre la recta (floats).\n",
      "    retorna: los coeficientes  a, b (floats) para la recta (y=a*x+b).\n",
      "    \n"
     ]
    }
   ],
   "source": [
    "print(eqRecta.__doc__)"
   ]
  },
  {
   "cell_type": "code",
   "execution_count": 49,
   "metadata": {},
   "outputs": [
    {
     "name": "stdout",
     "output_type": "stream",
     "text": [
      "[253]\n",
      "[-4.0]\n"
     ]
    }
   ],
   "source": [
    "def c2kf(CC):\n",
    "    i=0\n",
    "    KK=[]; FF=[]\n",
    "    while i < len(CC):\n",
    "        C = CC[i]\n",
    "        K = CC[i] + 273\n",
    "        F = (9.0/5)*C + 32\n",
    "        KK.append(K)\n",
    "        FF.append(F)\n",
    "        #print('%3d %5d %5.1f' %(C, K, F))\n",
    "        i += 1\n",
    "    return KK, FF\n",
    "\n",
    "to = time.clock()\n",
    "CC = [-20, -15, -10, -5, 0, 5, 10, 15, 20, 25, 30, 35, 40]\n",
    "\n",
    "kk, ff = c2kf(CC)\n",
    "print(kk)\n",
    "print(ff)\n",
    "\n",
    "\n"
   ]
  },
  {
   "cell_type": "markdown",
   "metadata": {},
   "source": [
    "## 5.1. Entradas y salidas de una función\n",
    "Es una convención en Python que los argumentos de una función representan los datos de entrada, mientras que el valor del objeto que retorna, representa el dato de salida de la función.\n",
    "### Ejemplo:\n",
    "Escribir un programa que calcule la derivada de una funcion **f(x)**\n",
    "<img  height=\"200\" src=\"util/derivada.png\">"
   ]
  },
  {
   "cell_type": "code",
   "execution_count": 21,
   "metadata": {},
   "outputs": [
    {
     "name": "stdout",
     "output_type": "stream",
     "text": [
      "4.0000010006480125\n"
     ]
    }
   ],
   "source": [
    "def diff2nd(f, x, h=1E-6):\n",
    "    r = (f(x+h) - f(x))/float(h)\n",
    "    return r\n",
    "\n",
    "def y(x):\n",
    "    return x**2\n",
    "\n",
    "x = 2\n",
    "dy = diff2nd(y,x)\n",
    "print(dy)"
   ]
  },
  {
   "cell_type": "code",
   "execution_count": 40,
   "metadata": {},
   "outputs": [
    {
     "name": "stdout",
     "output_type": "stream",
     "text": [
      "f2 =  0.11000000000000001\n",
      "f3 =  1.11\n",
      "f4 =  -3.999\n"
     ]
    }
   ],
   "source": [
    "def f(x, a=1, b=1, c=3):\n",
    "    y = a*x**2 + b*x + c\n",
    "    return y\n",
    "\n",
    "f1 = f(0)\n",
    "x2 = 0.1\n",
    "f2 = f(x2, c=0)\n",
    "print(\"f2 = \", f2)\n",
    "\n",
    "f3 = f(x2, c=1, a=10, b=0.1)\n",
    "print(\"f3 = \",  f3)\n",
    "\n",
    "f4 = f(c=-5, b=10, a=0.1, x=x2)\n",
    "print(\"f4 = \", f4)\n"
   ]
  },
  {
   "cell_type": "code",
   "execution_count": 43,
   "metadata": {},
   "outputs": [
    {
     "name": "stdout",
     "output_type": "stream",
     "text": [
      "areaC =  9\n",
      "areaR =  12\n"
     ]
    }
   ],
   "source": [
    "def area(b,h=None):\n",
    "    \n",
    "    if h is not None:\n",
    "        a=b*h\n",
    "    else:\n",
    "        a=b**2\n",
    "    return a\n",
    "areaC = area(3)\n",
    "print(\"areaC = \", areaC)\n",
    "\n",
    "areaR = area(3,4)\n",
    "print(\"areaR = \", areaR)"
   ]
  },
  {
   "cell_type": "code",
   "execution_count": null,
   "metadata": {
    "collapsed": true
   },
   "outputs": [],
   "source": []
  }
 ],
 "metadata": {
  "kernelspec": {
   "display_name": "Python 3",
   "language": "python",
   "name": "python3"
  },
  "language_info": {
   "codemirror_mode": {
    "name": "ipython",
    "version": 3
   },
   "file_extension": ".py",
   "mimetype": "text/x-python",
   "name": "python",
   "nbconvert_exporter": "python",
   "pygments_lexer": "ipython3",
   "version": "3.6.4"
  }
 },
 "nbformat": 4,
 "nbformat_minor": 2
}
