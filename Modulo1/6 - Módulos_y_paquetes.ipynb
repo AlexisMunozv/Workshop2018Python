{
 "cells": [
  {
   "cell_type": "markdown",
   "metadata": {},
   "source": [
    "# Python para Geociencias\n",
    "\n",
    "### Víctor Rojas\n",
    "#### vr.rojaspozo@gmail.com\n",
    "\n",
    "Esto es parte de las notas de [**Python para Geociencias**](https://github.com/vrrp/Workshop2018Python)                                                            "
   ]
  },
  {
   "cell_type": "markdown",
   "metadata": {},
   "source": [
    "# 6. Módulos y paquetes\n",
    "\n",
    "En la práctica, una aplicación típicamente consiste de múltiples archivos fuente. Y un proyecto en Python frecuentemente consiste de multiples módulos. Los **módulos** permiten organizar código, facilitando el mantenimiento y lectura de un proyecto. Mientras que los **paquetes** son carpetas (directorios) que contienen módulos."
   ]
  },
  {
   "cell_type": "markdown",
   "metadata": {},
   "source": [
    "## 6.1. Forma de importar módulos y paquetes"
   ]
  },
  {
   "cell_type": "code",
   "execution_count": 16,
   "metadata": {
    "scrolled": true
   },
   "outputs": [
    {
     "name": "stdout",
     "output_type": "stream",
     "text": [
      "<class 'module'>\n",
      "['MAError', 'MaskError', 'MaskType', 'MaskedArray', '__all__', '__builtins__', '__cached__', '__doc__', '__file__', '__loader__', '__name__', '__package__', '__path__', '__spec__', '_numpy_tester', 'abs', 'absolute', 'absolute_import', 'add', 'all', 'allclose', 'allequal', 'alltrue', 'amax', 'amin', 'angle', 'anom', 'anomalies', 'any', 'append', 'apply_along_axis', 'apply_over_axes', 'arange', 'arccos', 'arccosh', 'arcsin', 'arcsinh', 'arctan', 'arctan2', 'arctanh', 'argmax', 'argmin', 'argsort', 'around', 'array', 'asanyarray', 'asarray', 'atleast_1d', 'atleast_2d', 'atleast_3d', 'average', 'bench', 'bitwise_and', 'bitwise_or', 'bitwise_xor', 'bool_', 'ceil', 'choose', 'clip', 'clump_masked', 'clump_unmasked', 'column_stack', 'common_fill_value', 'compress', 'compress_cols', 'compress_nd', 'compress_rowcols', 'compress_rows', 'compressed', 'concatenate', 'conjugate', 'convolve', 'copy', 'core', 'corrcoef', 'correlate', 'cos', 'cosh', 'count', 'count_masked', 'cov', 'cumprod', 'cumsum', 'default_fill_value', 'diag', 'diagflat', 'diagonal', 'diff', 'divide', 'division', 'dot', 'dstack', 'dump', 'dumps', 'ediff1d', 'empty', 'empty_like', 'equal', 'exp', 'expand_dims', 'extras', 'fabs', 'filled', 'fix_invalid', 'flatnotmasked_contiguous', 'flatnotmasked_edges', 'flatten_mask', 'flatten_structured_array', 'floor', 'floor_divide', 'fmod', 'frombuffer', 'fromflex', 'fromfunction', 'getdata', 'getmask', 'getmaskarray', 'greater', 'greater_equal', 'harden_mask', 'hsplit', 'hstack', 'hypot', 'identity', 'ids', 'in1d', 'indices', 'inner', 'innerproduct', 'intersect1d', 'isMA', 'isMaskedArray', 'is_mask', 'is_masked', 'isarray', 'isin', 'left_shift', 'less', 'less_equal', 'load', 'loads', 'log', 'log10', 'log2', 'logical_and', 'logical_not', 'logical_or', 'logical_xor', 'make_mask', 'make_mask_descr', 'make_mask_none', 'mask_cols', 'mask_or', 'mask_rowcols', 'mask_rows', 'masked', 'masked_all', 'masked_all_like', 'masked_array', 'masked_equal', 'masked_greater', 'masked_greater_equal', 'masked_inside', 'masked_invalid', 'masked_less', 'masked_less_equal', 'masked_not_equal', 'masked_object', 'masked_outside', 'masked_print_option', 'masked_singleton', 'masked_values', 'masked_where', 'max', 'maximum', 'maximum_fill_value', 'mean', 'median', 'min', 'minimum', 'minimum_fill_value', 'mod', 'mr_', 'multiply', 'mvoid', 'ndim', 'negative', 'nomask', 'nonzero', 'not_equal', 'notmasked_contiguous', 'notmasked_edges', 'ones', 'outer', 'outerproduct', 'polyfit', 'power', 'print_function', 'prod', 'product', 'ptp', 'put', 'putmask', 'rank', 'ravel', 'remainder', 'repeat', 'reshape', 'resize', 'right_shift', 'round', 'round_', 'row_stack', 'set_fill_value', 'setdiff1d', 'setxor1d', 'shape', 'sin', 'sinh', 'size', 'soften_mask', 'sometrue', 'sort', 'sqrt', 'squeeze', 'std', 'subtract', 'sum', 'swapaxes', 'take', 'tan', 'tanh', 'test', 'trace', 'transpose', 'true_divide', 'union1d', 'unique', 'vander', 'var', 'vstack', 'where', 'zeros']\n",
      "\n",
      "=============\n",
      "Masked Arrays\n",
      "=============\n",
      "\n",
      "Arrays sometimes contain invalid or missing data.  When doing operations\n",
      "on such arrays, we wish to suppress invalid values, which is the purpose masked\n",
      "arrays fulfill (an example of typical use is given below).\n",
      "\n",
      "For example, examine the following array:\n",
      "\n",
      ">>> x = np.array([2, 1, 3, np.nan, 5, 2, 3, np.nan])\n",
      "\n",
      "When we try to calculate the mean of the data, the result is undetermined:\n",
      "\n",
      ">>> np.mean(x)\n",
      "nan\n",
      "\n",
      "The mean is calculated using roughly ``np.sum(x)/len(x)``, but since\n",
      "any number added to ``NaN`` [1]_ produces ``NaN``, this doesn't work.  Enter\n",
      "masked arrays:\n",
      "\n",
      ">>> m = np.ma.masked_array(x, np.isnan(x))\n",
      ">>> m\n",
      "masked_array(data = [2.0 1.0 3.0 -- 5.0 2.0 3.0 --],\n",
      "      mask = [False False False  True False False False  True],\n",
      "      fill_value=1e+20)\n",
      "\n",
      "Here, we construct a masked array that suppress all ``NaN`` values.  We\n",
      "may now proceed to calculate the mean of the other values:\n",
      "\n",
      ">>> np.mean(m)\n",
      "2.6666666666666665\n",
      "\n",
      ".. [1] Not-a-Number, a floating point value that is the result of an\n",
      "       invalid operation.\n",
      "\n",
      ".. moduleauthor:: Pierre Gerard-Marchant\n",
      ".. moduleauthor:: Jarrod Millman\n",
      "\n",
      "\n"
     ]
    }
   ],
   "source": [
    "\"\"\"\n",
    "import sys\n",
    "\n",
    "print(type(sys))\n",
    "\n",
    "print(sys.path)\n",
    "print(\"\\n\", dir(sys))\n",
    "\n",
    "from sys import version_info as rr\n",
    "\n",
    "print(type(rr))\n",
    "print(dir(rr))\n",
    "print(rr.__doc__)\n",
    "\"\"\"\n",
    "import numpy as np\n",
    "\n",
    "print(type(np))\n",
    "#print(\"\\n\", dir(np))\n",
    "\n",
    "#zeros = np.zeros\n",
    "#print(dir(zeros))\n",
    "#print(zeros.__doc__)\n",
    "\n",
    "#ones = np.ones\n",
    "#print(dir(ones))\n",
    "#print(ones.__doc__)\n",
    "\n",
    "mask = np.ma\n",
    "print(dir(mask))\n",
    "print(mask.__doc__)"
   ]
  },
  {
   "cell_type": "markdown",
   "metadata": {},
   "source": [
    "## 6.2. Ejecutar módulos como script\n",
    "cuando se ejecuta un módulo de Python con :\n",
    "\n",
    "** $ python fib.py [argumento]**\n",
    "\n",
    "el código en el módulo será ejecutado, tal como si lo hubieras importado, pero con $__name__$ con el valor de $__main__$. Esto significa que agregado el siguiente código al final del módulo:\n",
    "\n",
    "if __name__ == \"__main__\":\n",
    "\n",
    "    import sys\n",
    "    \n",
    "    fib(int(sys.argv[1]))\n",
    "  \n",
    "Además, si importamos el módulo **fib.py** en otro módulo, el bloque de código **if** no se ejecuta.\n",
    "    \n",
    "### Ejemplo:\n",
    "Usar el módulo **fib.py** que se encuentra en el directorio **proyectos**"
   ]
  },
  {
   "cell_type": "markdown",
   "metadata": {},
   "source": [
    "## 6.3. Documentar módulos\n",
    "\n",
    "Para documentar un módulo, se usa las triples comillas, que permite establecer como comentarios todas las líneas que se encuentran entre ellas."
   ]
  },
  {
   "cell_type": "code",
   "execution_count": 18,
   "metadata": {},
   "outputs": [
    {
     "name": "stdout",
     "output_type": "stream",
     "text": [
      "\n",
      "    Genera una lista de valores iniciando en [inicio] hasta [fin], \n",
      "    con un incremento [inc].\n",
      "    \n",
      "    Sintaxis:\n",
      "        makeList(inicio, fin, inc)\n",
      "    \n",
      "    Uso :\n",
      "        lats = makeList(-23,10,1)\n",
      "    \n",
      "    Out:\n",
      "    lats =  [-23, -22, -21, -20, -19, -18, -17, -16, \n",
      "             -15, -14, -13, -12, -11, -10, -9, -8, -7, \n",
      "             -6, -5, -4, -3, -2, -1, 0, 1, 2, 3, 4, 5, 6, \n",
      "             7, 8, 9, 10]    \n",
      "    \n",
      "lats =  [-23, -22, -21, -20, -19, -18, -17, -16, -15, -14, -13, -12, -11, -10, -9, -8, -7, -6, -5, -4, -3, -2, -1, 0, 1, 2, 3, 4, 5, 6, 7, 8, 9, 10]\n",
      "\n",
      "lons =  [-90, -89.5, -89.0, -88.5, -88.0, -87.5, -87.0, -86.5, -86.0, -85.5, -85.0, -84.5, -84.0, -83.5, -83.0, -82.5, -82.0, -81.5, -81.0, -80.5, -80.0, -79.5, -79.0, -78.5, -78.0, -77.5, -77.0, -76.5, -76.0, -75.5, -75.0, -74.5, -74.0, -73.5, -73.0, -72.5, -72.0, -71.5, -71.0, -70.5, -70.0, -69.5, -69.0, -68.5, -68.0, -67.5, -67.0, -66.5, -66.0, -65.5, -65.0]\n"
     ]
    }
   ],
   "source": [
    "def makeList(inicio, fin, inc):\n",
    "    \"\"\"\n",
    "    Genera una lista de valores iniciando en [inicio] hasta [fin], \n",
    "    con un incremento [inc].\n",
    "    \n",
    "    Sintaxis:\n",
    "        makeList(inicio, fin, inc)\n",
    "    \n",
    "    Uso :\n",
    "        lats = makeList(-23,10,1)\n",
    "    \n",
    "    Out:\n",
    "    lats =  [-23, -22, -21, -20, -19, -18, -17, -16, \n",
    "             -15, -14, -13, -12, -11, -10, -9, -8, -7, \n",
    "             -6, -5, -4, -3, -2, -1, 0, 1, 2, 3, 4, 5, 6, \n",
    "             7, 8, 9, 10]    \n",
    "    \"\"\"\n",
    "    valor= inicio\n",
    "    lista = []\n",
    "    while valor<=fin:\n",
    "        lista.append(valor)\n",
    "        valor = valor + inc\n",
    "    return lista\n",
    "\n",
    "\n",
    "print(makeList.__doc__)\n",
    "\n",
    "lats = makeList(-23,10,1)\n",
    "print(\"lats = \", lats)\n",
    "\n",
    "lons = makeList(-90,-65,0.5)\n",
    "print(\"\\nlons = \", lons)\n"
   ]
  },
  {
   "cell_type": "markdown",
   "metadata": {},
   "source": [
    "## Busqueda de módulos"
   ]
  },
  {
   "cell_type": "code",
   "execution_count": 20,
   "metadata": {},
   "outputs": [
    {
     "name": "stdout",
     "output_type": "stream",
     "text": [
      "<class 'module'>\n",
      "\n",
      " ['__displayhook__', '__doc__', '__excepthook__', '__interactivehook__', '__loader__', '__name__', '__package__', '__spec__', '__stderr__', '__stdin__', '__stdout__', '_clear_type_cache', '_current_frames', '_debugmallocstats', '_getframe', '_home', '_mercurial', '_xoptions', 'abiflags', 'api_version', 'argv', 'base_exec_prefix', 'base_prefix', 'builtin_module_names', 'byteorder', 'call_tracing', 'callstats', 'copyright', 'displayhook', 'dont_write_bytecode', 'exc_info', 'excepthook', 'exec_prefix', 'executable', 'exit', 'flags', 'float_info', 'float_repr_style', 'get_asyncgen_hooks', 'get_coroutine_wrapper', 'getallocatedblocks', 'getcheckinterval', 'getdefaultencoding', 'getdlopenflags', 'getfilesystemencodeerrors', 'getfilesystemencoding', 'getprofile', 'getrecursionlimit', 'getrefcount', 'getsizeof', 'getswitchinterval', 'gettrace', 'hash_info', 'hexversion', 'implementation', 'int_info', 'intern', 'is_finalizing', 'last_traceback', 'last_type', 'last_value', 'maxsize', 'maxunicode', 'meta_path', 'modules', 'path', 'path_hooks', 'path_importer_cache', 'platform', 'prefix', 'ps1', 'ps2', 'ps3', 'set_asyncgen_hooks', 'set_coroutine_wrapper', 'setcheckinterval', 'setdlopenflags', 'setprofile', 'setrecursionlimit', 'setswitchinterval', 'settrace', 'stderr', 'stdin', 'stdout', 'thread_info', 'version', 'version_info', 'warnoptions']\n",
      "88\n",
      "0 __displayhook__\n",
      "1 __doc__\n",
      "2 __excepthook__\n",
      "3 __interactivehook__\n",
      "4 __loader__\n",
      "5 __name__\n",
      "6 __package__\n",
      "7 __spec__\n",
      "8 __stderr__\n",
      "9 __stdin__\n",
      "10 __stdout__\n",
      "11 _clear_type_cache\n",
      "12 _current_frames\n",
      "13 _debugmallocstats\n",
      "14 _getframe\n",
      "15 _home\n",
      "16 _mercurial\n",
      "17 _xoptions\n",
      "18 abiflags\n",
      "19 api_version\n",
      "20 argv\n",
      "21 base_exec_prefix\n",
      "22 base_prefix\n",
      "23 builtin_module_names\n",
      "24 byteorder\n",
      "25 call_tracing\n",
      "26 callstats\n",
      "27 copyright\n",
      "28 displayhook\n",
      "29 dont_write_bytecode\n",
      "30 exc_info\n",
      "31 excepthook\n",
      "32 exec_prefix\n",
      "33 executable\n",
      "34 exit\n",
      "35 flags\n",
      "36 float_info\n",
      "37 float_repr_style\n",
      "38 get_asyncgen_hooks\n",
      "39 get_coroutine_wrapper\n",
      "40 getallocatedblocks\n",
      "41 getcheckinterval\n",
      "42 getdefaultencoding\n",
      "43 getdlopenflags\n",
      "44 getfilesystemencodeerrors\n",
      "45 getfilesystemencoding\n",
      "46 getprofile\n",
      "47 getrecursionlimit\n",
      "48 getrefcount\n",
      "49 getsizeof\n",
      "50 getswitchinterval\n",
      "51 gettrace\n",
      "52 hash_info\n",
      "53 hexversion\n",
      "54 implementation\n",
      "55 int_info\n",
      "56 intern\n",
      "57 is_finalizing\n",
      "58 last_traceback\n",
      "59 last_type\n",
      "60 last_value\n",
      "61 maxsize\n",
      "62 maxunicode\n",
      "63 meta_path\n",
      "64 modules\n",
      "65 path\n",
      "66 path_hooks\n",
      "67 path_importer_cache\n",
      "68 platform\n",
      "69 prefix\n",
      "70 ps1\n",
      "71 ps2\n",
      "72 ps3\n",
      "73 set_asyncgen_hooks\n",
      "74 set_coroutine_wrapper\n",
      "75 setcheckinterval\n",
      "76 setdlopenflags\n",
      "77 setprofile\n",
      "78 setrecursionlimit\n",
      "79 setswitchinterval\n",
      "80 settrace\n",
      "81 stderr\n",
      "82 stdin\n",
      "83 stdout\n",
      "84 thread_info\n",
      "85 version\n",
      "86 version_info\n",
      "87 warnoptions\n"
     ]
    },
    {
     "data": {
      "text/plain": [
       "'\\n# Módulo [geos]\\nimport geos\\nprint(type(geos))\\n#print(geos.path)\\nprint(\"\\n\", dir(geos))\\n\\nprint(len(dir(geos)))\\nfor i in range(len(dir(geos))):\\n    print(i, dir(geos)[i])\\n'"
      ]
     },
     "execution_count": 20,
     "metadata": {},
     "output_type": "execute_result"
    }
   ],
   "source": [
    "# Módulo [sys]\n",
    "import sys\n",
    "print(type(sys))\n",
    "#print(sys.path)\n",
    "print(\"\\n\", dir(sys))\n",
    "\n",
    "print(len(dir(sys)))\n",
    "for i in range(len(dir(sys))):\n",
    "    print(i, dir(sys)[i])"
   ]
  },
  {
   "cell_type": "code",
   "execution_count": 11,
   "metadata": {},
   "outputs": [
    {
     "name": "stdout",
     "output_type": "stream",
     "text": [
      "['__abs__', '__add__', '__and__', '__bool__', '__ceil__', '__class__', '__delattr__', '__dir__', '__divmod__', '__doc__', '__eq__', '__float__', '__floor__', '__floordiv__', '__format__', '__ge__', '__getattribute__', '__getnewargs__', '__gt__', '__hash__', '__index__', '__init__', '__init_subclass__', '__int__', '__invert__', '__le__', '__lshift__', '__lt__', '__mod__', '__mul__', '__ne__', '__neg__', '__new__', '__or__', '__pos__', '__pow__', '__radd__', '__rand__', '__rdivmod__', '__reduce__', '__reduce_ex__', '__repr__', '__rfloordiv__', '__rlshift__', '__rmod__', '__rmul__', '__ror__', '__round__', '__rpow__', '__rrshift__', '__rshift__', '__rsub__', '__rtruediv__', '__rxor__', '__setattr__', '__sizeof__', '__str__', '__sub__', '__subclasshook__', '__truediv__', '__trunc__', '__xor__', 'bit_length', 'conjugate', 'denominator', 'from_bytes', 'imag', 'numerator', 'real', 'to_bytes']\n"
     ]
    }
   ],
   "source": [
    "from sys import maxsize\n",
    "\n",
    "print(dir(maxsize))"
   ]
  },
  {
   "cell_type": "markdown",
   "metadata": {},
   "source": [
    "## Generar módulos\n"
   ]
  },
  {
   "cell_type": "code",
   "execution_count": 24,
   "metadata": {},
   "outputs": [
    {
     "name": "stdout",
     "output_type": "stream",
     "text": [
      "['__builtins__', '__cached__', '__doc__', '__file__', '__loader__', '__name__', '__package__', '__spec__', 'movMRU', 'movMRUV']\n",
      "\n",
      "MRU\n",
      "---\n",
      "d =  4 ( 3 ) =  12\n",
      "\n",
      "MRUV\n",
      "---\n",
      "d =  25.5\n"
     ]
    }
   ],
   "source": [
    "import sys\n",
    "pathdir =\"/home/proyectos/pyproyect/workshopSenamhi/2018/Modulo1/proyectos\"\n",
    "sys.path.append(pathdir)\n",
    "\n",
    "import cinematica\n",
    "\n",
    "print(dir(cinematica))\n",
    "#print(cinematica.movMRU.__doc__)\n",
    "#print(cinematica.movMRUV.__doc__)\n",
    "#print(help(cinematica))\n",
    "\n",
    "d1 = cinematica.movMRU(3,4)\n",
    "d2 = cinematica.movMRUV(3,4,3)\n"
   ]
  },
  {
   "cell_type": "code",
   "execution_count": 25,
   "metadata": {},
   "outputs": [
    {
     "name": "stdout",
     "output_type": "stream",
     "text": [
      "37.5\n"
     ]
    }
   ],
   "source": [
    "dtotal = d1 +d2\n",
    "print(dtotal)"
   ]
  },
  {
   "cell_type": "code",
   "execution_count": 27,
   "metadata": {},
   "outputs": [
    {
     "name": "stdout",
     "output_type": "stream",
     "text": [
      "['__builtins__', '__cached__', '__doc__', '__file__', '__loader__', '__name__', '__package__', '__spec__', 'get_range', 'save_files']\n",
      "Help on module get_iodata:\n",
      "\n",
      "NAME\n",
      "    get_iodata\n",
      "\n",
      "DESCRIPTION\n",
      "    :Autor:\n",
      "           Víctor R. Rojas \n",
      "           E-mail: vr.rojaspozo@gmail.com\n",
      "    :Moculo:\n",
      "        get_iodata    \n",
      "    :Proporciona:\n",
      "        1. get_range\n",
      "        2. save_files\n",
      "\n",
      "FUNCTIONS\n",
      "    get_range(inicio, fin, inc)\n",
      "        Genera un rango  de valores en una lista:\n",
      "        Uso:\n",
      "        lista = get_range(2,12,0.5)\n",
      "    \n",
      "    save_files(lats, lons, saveName)\n",
      "        Genera un archivo plano (ASCII) de dos columnas en un directorio\n",
      "        \n",
      "        uso:\n",
      "            save_files(lats, lons, save)\n",
      "        \n",
      "        Donde:\n",
      "            [lats] y [lons] son variables de tipo lista y de igual número de\n",
      "            elementos\n",
      "        \n",
      "            [saveName] es una cadena de  caracteres.\n",
      "\n",
      "FILE\n",
      "    /home/proyectos/pyproyect/workshopSenamhi/2018/Modulo1/proyectos/get_iodata.py\n",
      "\n",
      "\n",
      "None\n"
     ]
    }
   ],
   "source": [
    "import sys\n",
    "pathdir =\"/home/data/prycts/pyprojects/workshop/senamhi/2018/Workshop2018Python-master/Modulo1/proyectos\"\n",
    "sys.path.append(pathdir)\n",
    "\n",
    "import get_iodata as io\n",
    "print(dir(io))\n",
    "print(help(io))"
   ]
  },
  {
   "cell_type": "code",
   "execution_count": 28,
   "metadata": {
    "scrolled": true
   },
   "outputs": [
    {
     "name": "stdout",
     "output_type": "stream",
     "text": [
      "47\n",
      "47\n"
     ]
    }
   ],
   "source": [
    "lats = io.get_range(-23,0,0.5)\n",
    "print(len(lats))\n",
    "\n",
    "lons = io. get_range(-90,-67,0.5)\n",
    "print(len(lons)) "
   ]
  },
  {
   "cell_type": "code",
   "execution_count": 29,
   "metadata": {},
   "outputs": [
    {
     "name": "stdout",
     "output_type": "stream",
     "text": [
      "./data/latlon_peru_usandomodulos.txt se creo sin problema...!\n"
     ]
    }
   ],
   "source": [
    "saveName = \"latlon_peru_usandomodulos.txt\"\n",
    "path = \"./data/\"\n",
    "io.save_files(lats, lons, path+saveName)"
   ]
  },
  {
   "cell_type": "code",
   "execution_count": null,
   "metadata": {
    "collapsed": true
   },
   "outputs": [],
   "source": []
  }
 ],
 "metadata": {
  "kernelspec": {
   "display_name": "Python 3",
   "language": "python",
   "name": "python3"
  },
  "language_info": {
   "codemirror_mode": {
    "name": "ipython",
    "version": 3
   },
   "file_extension": ".py",
   "mimetype": "text/x-python",
   "name": "python",
   "nbconvert_exporter": "python",
   "pygments_lexer": "ipython3",
   "version": "3.6.4"
  }
 },
 "nbformat": 4,
 "nbformat_minor": 2
}
