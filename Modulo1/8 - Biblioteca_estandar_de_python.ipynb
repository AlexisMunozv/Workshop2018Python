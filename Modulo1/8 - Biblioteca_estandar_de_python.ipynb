{
 "cells": [
  {
   "cell_type": "markdown",
   "metadata": {},
   "source": [
    "# Python para Geociencias\n",
    "\n",
    "### Víctor Rojas\n",
    "#### vr.rojaspozo@gmail.com\n",
    "\n",
    "Esto es parte de las notas de [**Python para Geociencias**](https://github.com/vrrp/Workshop2018Python)  "
   ]
  },
  {
   "cell_type": "markdown",
   "metadata": {},
   "source": [
    "# 8. Bibliotecas estándar de Python\n",
    "Python trae consigo por defecto paquetes y módulos especializados, con los cuales es posible realizar tareas específicas como: la interfaz al sistema operativo, administración de paths (directorios), generar fechas, operaciones matemáticas y acceso a internet."
   ]
  },
  {
   "cell_type": "markdown",
   "metadata": {},
   "source": [
    "## 8.1. Interfaz al sistema operativo\n",
    "El módulo **os** permite interactuar con el sistema operativo, con acciones como:\n",
    "\n",
    "**(A)** Listar el contenido de un directorio. \n",
    "\n",
    "**(B)** Asignar paths a variables .\n",
    "\n",
    "**(C)** Cambiar de directorio.\n",
    "\n",
    "**(D)** Ejecutar comandos básicos shell Linux.\n",
    "\n",
    "Acontinuación se encuentran ejemplos prácticos de su utilización.\n",
    "\n",
    "### (A) Listar el contenido de un directorio. \n",
    "\n",
    "El método **listdir()** que pertenece al módulo **os**, lista todos los elementes del directorio donde se ejecuto el programa y devuelve un lista. Mientras que, **listdir(path+dir)**  lista los elementos de un directorio **dir** que se encuentra en la ruta **path**, esto es de manera general. Donde **path** y **dir** son de tipo cadena de caracteres.\n"
   ]
  },
  {
   "cell_type": "code",
   "execution_count": 1,
   "metadata": {
    "collapsed": false
   },
   "outputs": [
    {
     "name": "stdout",
     "output_type": "stream",
     "text": [
      "Estos archivos y directorios pertencen al directorio Modulo1, \n",
      "path, donde se ejecutó el programa\n",
      "1 - Introducción.ipynb\n",
      "2 - Estructura_y_control_de_datos.ipynb\n",
      "3 - Control_de_flujos  .ipynb\n",
      "util\n",
      ".ipynb_checkpoints\n",
      "data\n",
      "4 - Entrada_salida_datos.ipynb\n",
      "5 - Funciones.ipynb\n",
      "proyectos\n",
      "6 - Módulos_y_paquetes.ipynb\n",
      "7 - Programación_orientada_a_objetos_POO.ipynb\n",
      "8 - Biblioteca_estandar_de_python.ipynb\n",
      "\n",
      "Archivos del directorio ./data:\n",
      "--------------------------------\n",
      ".ipynb_checkpoints\n",
      "lonlat_1forma.txt\n",
      "lonlat_2forma.txt\n",
      "latlon_estacionesAut.txt\n",
      "uv_p.dat\n",
      "latlon_peru.txt\n",
      "newdir1\n",
      "\n",
      "Archivos del directorio ./proyectos:\n",
      "-------------------------------------\n",
      ".ipynb_checkpoints\n",
      "cinematica.py\n",
      "get_iodata.py\n",
      "fibo.py\n",
      "fib.txt\n",
      "__pycache__\n",
      "newdir2\n",
      "\n",
      "Archivos del directorio ./util:\n",
      "--------------------------------\n",
      "core.png\n",
      "ecosys.png\n",
      "imagen.png\n",
      "area-estudio.png\n",
      "derivada.png\n",
      "pj.jpg\n",
      "newdir3\n"
     ]
    }
   ],
   "source": [
    "import os # importamos el módulo [os]\n",
    "\n",
    "#print(os.uname())\n",
    "print(\"\"\"Estos archivos y directorios pertencen al directorio Modulo1, \n",
    "path, donde se ejecutó el programa\"\"\")\n",
    "listdir = os.listdir()\n",
    "for i in listdir:\n",
    "    print(i)\n",
    "\n",
    "\n",
    "path = \"./\" \n",
    "list_data = os.listdir(path+\"data\")\n",
    "list_proyectos = os.listdir(path+\"proyectos\")\n",
    "list_util = os.listdir(path+\"util\")\n",
    "print(\"\\nArchivos del directorio ./data:\")\n",
    "print(\"-\"*len(\"\\nArchivos del directorio ./data:\"))\n",
    "for i in list_data:\n",
    "    print(i)\n",
    "\n",
    "print(\"\\nArchivos del directorio ./proyectos:\")\n",
    "print(\"-\"*len(\"\\nArchivos del directorio ./proyectos:\"))\n",
    "for i in list_proyectos:\n",
    "    print(i)\n",
    "\n",
    "print(\"\\nArchivos del directorio ./util:\")\n",
    "print(\"-\"*len(\"\\nArchivos del directorio ./util:\"))\n",
    "for i in list_util:\n",
    "    print(i)"
   ]
  },
  {
   "cell_type": "markdown",
   "metadata": {},
   "source": [
    "### (B) Asignar path a variables\n",
    "\n",
    "Dentro del módulo **os** se encuentra el método **getcwd()**, que permite extraer de manera automática la ruta del directorio actual donde se está ejecutando el programa. por ejemplo:"
   ]
  },
  {
   "cell_type": "code",
   "execution_count": 2,
   "metadata": {
    "collapsed": false
   },
   "outputs": [
    {
     "name": "stdout",
     "output_type": "stream",
     "text": [
      "Directorio o path desde donde se está ejecutando el programa\n",
      "------------------------------------------------------------\n",
      "/home/data/prycts/pyprojects/workshop/senamhi/2018/Workshop2018Python-master/Modulo1\n"
     ]
    }
   ],
   "source": [
    "import os # importamos el módulo [os]\n",
    "\n",
    "# Extraer el path del directorio actual y asignarlo a \n",
    "# la variable [pathNow]\n",
    "pathNow = os.getcwd()\n",
    "print(\"Directorio o path desde donde se está ejecutando el programa\")\n",
    "print(\"-\"*len(\"Directorio o path desde donde se está ejecutando el programa\"))\n",
    "print(pathNow)"
   ]
  },
  {
   "cell_type": "markdown",
   "metadata": {},
   "source": [
    "### (C) Cambiar de directorio\n",
    "Asimismo, el módulo **os** contiene el método **chdir(path)**, el cual cambia del path actual a otro path específico, además, es necesario que **[path]** sea absoluto y no relativo, por ejemplo:"
   ]
  },
  {
   "cell_type": "code",
   "execution_count": 3,
   "metadata": {
    "collapsed": false
   },
   "outputs": [
    {
     "name": "stdout",
     "output_type": "stream",
     "text": [
      "Directorio actual:  /home/data/prycts/pyprojects/workshop/senamhi/2018/Workshop2018Python-master/Modulo1\n",
      "Directorio:  /home/data/prycts/pyprojects/workshop/senamhi/2018/Workshop2018Python-master/Modulo1/data\n",
      ".ipynb_checkpoints\n",
      "lonlat_1forma.txt\n",
      "lonlat_2forma.txt\n",
      "latlon_estacionesAut.txt\n",
      "uv_p.dat\n",
      "latlon_peru.txt\n",
      "newdir1\n",
      "\n",
      "\n",
      "Directorio:  /home/data/prycts/pyprojects/workshop/senamhi/2018/Workshop2018Python-master/Modulo1/proyectos\n",
      ".ipynb_checkpoints\n",
      "cinematica.py\n",
      "get_iodata.py\n",
      "fibo.py\n",
      "fib.txt\n",
      "__pycache__\n",
      "newdir2\n",
      "\n",
      "\n",
      "Directorio:  /home/data/prycts/pyprojects/workshop/senamhi/2018/Workshop2018Python-master/Modulo1/util\n",
      "core.png\n",
      "ecosys.png\n",
      "imagen.png\n",
      "area-estudio.png\n",
      "derivada.png\n",
      "pj.jpg\n",
      "newdir3\n",
      "\n",
      "\n"
     ]
    }
   ],
   "source": [
    "import os # importamos el módulo [os]\n",
    "\n",
    "# Extraer el path del directorio actual y asignarlo a \n",
    "# la variable [pathNow]\n",
    "#pathNow = os.getcwd()\n",
    "print(\"Directorio actual: \", pathNow)\n",
    "\n",
    "# Usando el método [chdir] cambiaremos al path de los directorios [data], [proyectos] y [util]\n",
    "# que se encuentran en el directorio actual.\n",
    "directorios = [\"data\", \"proyectos\", \"util\"]\n",
    "\n",
    "for idir in directorios:\n",
    "    path =pathNow+\"/\"+ idir\n",
    "    os.chdir(path)\n",
    "    print(\"Directorio: \",os.getcwd())\n",
    "    for ifiles in os.listdir():\n",
    "        print(ifiles)\n",
    "    print(\"\\n\")  \n",
    "    os.chdir(pathNow)\n"
   ]
  },
  {
   "cell_type": "markdown",
   "metadata": {},
   "source": [
    "### (D) Crear directorios\n",
    "Otros métodos útiles que posee el módulo **os** son **path** y **makedirs**. Los cuales permiten hacer eficiente la gestión de directorios. Por ejemplo, crearemos los directorios **[\"newdir1\", \"newdir2\", \"newdir3\"]** dentro de los directorios **[\"data\", \"proyectos\", \"util\"]**, respectivamente. Donde el intérprete de python realizará primero una consulta, si no existe el directorio, python creará el directorio, caso contrario solo pasará por alto la instrucción."
   ]
  },
  {
   "cell_type": "code",
   "execution_count": 5,
   "metadata": {
    "collapsed": false
   },
   "outputs": [
    {
     "name": "stdout",
     "output_type": "stream",
     "text": [
      "Directorio actual:  /home/data/prycts/pyprojects/workshop/senamhi/2018/Workshop2018Python-master/Modulo1\n",
      "\n",
      ".....Todos los directorios se crearon sin problemas!!!\n"
     ]
    }
   ],
   "source": [
    "import os # importamos el módulo [os]\n",
    "\n",
    "# Extraer el path del directorio actual y asignarlo a \n",
    "# la variable [pathNow]\n",
    "#pathNow = os.getcwd()\n",
    "print(\"Directorio actual: \", pathNow)\n",
    "\n",
    "# Usando el método [chdir] cambiaremos al path de los directorios [data], [proyectos] y [util]\n",
    "# que se encuentran en el directorio actual.\n",
    "nowdir = [\"data\", \"proyectos\", \"util\"]\n",
    "newdir = [\"newdir1\", \"newdir2\", \"newdir3\"]\n",
    "\n",
    "for idir, inewdir in zip(nowdir,newdir):\n",
    "    path =pathNow+\"/\"+ idir\n",
    "    if not os.path.exists(path+\"/\"+inewdir):\n",
    "        os.makedirs(path+\"/\"+inewdir)\n",
    "        \n",
    "print(\"\\n.....Todos los directorios se crearon sin problemas!!!\")\n",
    "\n",
    "os.chdir(pathNow)  \n"
   ]
  },
  {
   "cell_type": "markdown",
   "metadata": {},
   "source": [
    "### (D) Ejecutar comandos básicos Shell de Linux\n",
    "Finalmente, el método **system** del módulo **os** permite ejecutar comandos básicos Shell de Linux, como **chmod, chown**. Por ejemplo, daremos todos los permisos a los todos los directorios que acabamos de crear **[\"newdir1\", \"newdir2\", \"newdir3\"]**."
   ]
  },
  {
   "cell_type": "code",
   "execution_count": 6,
   "metadata": {
    "collapsed": false
   },
   "outputs": [
    {
     "name": "stdout",
     "output_type": "stream",
     "text": [
      "Directorio actual:  /home/data/prycts/pyprojects/workshop/senamhi/2018/Workshop2018Python-master/Modulo1\n",
      "Directorio:  /home/data/prycts/pyprojects/workshop/senamhi/2018/Workshop2018Python-master/Modulo1/data\n",
      "\n",
      "\n",
      "\n",
      "....Se cambiaron los permisos del directorio: ['newdir1', 'newdir2', 'newdir3']\n",
      "Directorio:  /home/data/prycts/pyprojects/workshop/senamhi/2018/Workshop2018Python-master/Modulo1/proyectos\n",
      "\n",
      "\n",
      "\n",
      "....Se cambiaron los permisos del directorio: ['newdir1', 'newdir2', 'newdir3']\n",
      "Directorio:  /home/data/prycts/pyprojects/workshop/senamhi/2018/Workshop2018Python-master/Modulo1/util\n",
      "\n",
      "\n",
      "\n",
      "....Se cambiaron los permisos del directorio: ['newdir1', 'newdir2', 'newdir3']\n"
     ]
    }
   ],
   "source": [
    "import os # importamos el módulo [os]\n",
    "\n",
    "# Extraer el path del directorio actual y asignarlo a \n",
    "# la variable [pathNow]\n",
    "#pathNow = os.getcwd()\n",
    "print(\"Directorio actual: \", pathNow)\n",
    "\n",
    "# Usando el método [chdir] cambiaremos al path de los directorios [data], [proyectos] y [util]\n",
    "# que se encuentran en el directorio actual.\n",
    "nowdir = [\"data\", \"proyectos\", \"util\"]\n",
    "newdir = [\"newdir1\", \"newdir2\", \"newdir3\"]\n",
    "\n",
    "for idir,inewdir in zip(nowdir, newdir):\n",
    "    path =pathNow+\"/\"+ idir\n",
    "    os.chdir(path)\n",
    "    print(\"Directorio: \",os.getcwd())\n",
    "    os.system(\"chmod -R 777 \"+ inewdir )\n",
    "\n",
    "    print(\"\\n\")  \n",
    "    print(\"\\n....Se cambiaron los permisos del directorio:\", newdir)\n",
    "    os.chdir(pathNow)"
   ]
  },
  {
   "cell_type": "markdown",
   "metadata": {},
   "source": [
    "## 8.2. Administración de Paths\n",
    "Otro módulo de python de gran utilidad es **sys**. este módulo proporciona el método **path**, quién permite agregar paths al interprete de python. Por ejemplo, agregaremos al PYTHONPATH la ruta/path del directorio específico **proyectos**. Esto hace posible que cualquier paquete o módulo que se encuentre en el directorio **proyectos** podrán ser invocados temporalmente desde cualquier otro directorio donde se ejecute un programa de python. Entonces podremos usar el **cinematica.py** que se encuentra en el directorio **proyectos**"
   ]
  },
  {
   "cell_type": "code",
   "execution_count": 11,
   "metadata": {
    "collapsed": false
   },
   "outputs": [
    {
     "name": "stdout",
     "output_type": "stream",
     "text": [
      "\n",
      "\n",
      "Help on module cinematica:\n",
      "\n",
      "NAME\n",
      "    cinematica\n",
      "\n",
      "DESCRIPTION\n",
      "    :Autor:\n",
      "           Víctor R. Rojas \n",
      "           E-mail: vr.rojaspozo@gmail.com\n",
      "    \n",
      "    :Moculo:\n",
      "        cinematica\n",
      "    \n",
      "    :Proporciona:\n",
      "        1. movMRU\n",
      "        2. movMRUV\n",
      "\n",
      "FUNCTIONS\n",
      "    movMRU(t, v)\n",
      "        Movimiento rectilineo uniforme\n",
      "        Uso:\n",
      "            d = movMRU(t,v)\n",
      "        \n",
      "        Donde:\n",
      "        t : tiempo (s)\n",
      "        v : velocidad (m/s)\n",
      "        d : distancia recorrida (m)\n",
      "    \n",
      "    movMRUV(t, v, a)\n",
      "        Movimiento rectilineo uniforme variado\n",
      "        Uso:\n",
      "            d = movMRUV(t,v)\n",
      "        \n",
      "        Donde:\n",
      "        t : tiempo (s)\n",
      "        v : velocidad (m/s)\n",
      "        a : aceleración (m/s2)\n",
      "        d : distancia recorrida (m)\n",
      "\n",
      "FILE\n",
      "    /home/data/prycts/pyprojects/workshop/senamhi/2018/Workshop2018Python-master/Modulo1/proyectos/cinematica.py\n",
      "\n",
      "\n"
     ]
    }
   ],
   "source": [
    "import sys\n",
    "\n",
    "sys.path\n",
    "pathdir =\"/home/data/prycts/pyprojects/workshop/senamhi/2018/Workshop2018Python-master/Modulo1/proyectos\"\n",
    "sys.path.append(pathdir)\n",
    "\n",
    "print(\"\\n\")\n",
    "sys.path\n",
    "\n",
    "import cinematica\n",
    "help(cinematica)\n"
   ]
  },
  {
   "cell_type": "markdown",
   "metadata": {},
   "source": [
    "## 8.3. Fechas\n",
    "El módulo **datetime** permite generar fechas y presentarlos en diferentes formatos, tanto de manera simple como compleja. Por ejemplo:"
   ]
  },
  {
   "cell_type": "code",
   "execution_count": 4,
   "metadata": {
    "collapsed": false
   },
   "outputs": [
    {
     "name": "stdout",
     "output_type": "stream",
     "text": [
      "\n",
      "El día de hoy es:  2018-08-29 \n",
      "\n",
      "date      Juliano date\n",
      "01-01-2000 730120 2000-01-01\n",
      "02-01-2000 730121 2000-01-02\n",
      "03-01-2000 730122 2000-01-03\n",
      "04-01-2000 730123 2000-01-04\n",
      "05-01-2000 730124 2000-01-05\n",
      "06-01-2000 730125 2000-01-06\n",
      "07-01-2000 730126 2000-01-07\n",
      "08-01-2000 730127 2000-01-08\n",
      "09-01-2000 730128 2000-01-09\n",
      "10-01-2000 730129 2000-01-10\n",
      "11-01-2000 730130 2000-01-11\n",
      "12-01-2000 730131 2000-01-12\n",
      "13-01-2000 730132 2000-01-13\n",
      "14-01-2000 730133 2000-01-14\n",
      "15-01-2000 730134 2000-01-15\n",
      "16-01-2000 730135 2000-01-16\n",
      "17-01-2000 730136 2000-01-17\n",
      "18-01-2000 730137 2000-01-18\n",
      "19-01-2000 730138 2000-01-19\n",
      "20-01-2000 730139 2000-01-20\n",
      "21-01-2000 730140 2000-01-21\n",
      "22-01-2000 730141 2000-01-22\n",
      "23-01-2000 730142 2000-01-23\n",
      "24-01-2000 730143 2000-01-24\n",
      "25-01-2000 730144 2000-01-25\n",
      "26-01-2000 730145 2000-01-26\n",
      "27-01-2000 730146 2000-01-27\n",
      "28-01-2000 730147 2000-01-28\n",
      "29-01-2000 730148 2000-01-29\n",
      "30-01-2000 730149 2000-01-30\n",
      "31-01-2000 730150 2000-01-31\n",
      "01-02-2000 730151 2000-02-01\n",
      "02-02-2000 730152 2000-02-02\n",
      "03-02-2000 730153 2000-02-03\n",
      "04-02-2000 730154 2000-02-04\n",
      "05-02-2000 730155 2000-02-05\n",
      "06-02-2000 730156 2000-02-06\n",
      "07-02-2000 730157 2000-02-07\n",
      "08-02-2000 730158 2000-02-08\n",
      "09-02-2000 730159 2000-02-09\n",
      "10-02-2000 730160 2000-02-10\n",
      "11-02-2000 730161 2000-02-11\n",
      "12-02-2000 730162 2000-02-12\n",
      "13-02-2000 730163 2000-02-13\n",
      "14-02-2000 730164 2000-02-14\n",
      "15-02-2000 730165 2000-02-15\n",
      "16-02-2000 730166 2000-02-16\n",
      "17-02-2000 730167 2000-02-17\n",
      "18-02-2000 730168 2000-02-18\n",
      "19-02-2000 730169 2000-02-19\n",
      "20-02-2000 730170 2000-02-20\n",
      "21-02-2000 730171 2000-02-21\n",
      "22-02-2000 730172 2000-02-22\n",
      "23-02-2000 730173 2000-02-23\n",
      "24-02-2000 730174 2000-02-24\n",
      "25-02-2000 730175 2000-02-25\n",
      "26-02-2000 730176 2000-02-26\n",
      "27-02-2000 730177 2000-02-27\n",
      "28-02-2000 730178 2000-02-28\n",
      "29-02-2000 730179 2000-02-29\n",
      "01-03-2000 730180 2000-03-01\n",
      "02-03-2000 730181 2000-03-02\n",
      "03-03-2000 730182 2000-03-03\n",
      "04-03-2000 730183 2000-03-04\n",
      "05-03-2000 730184 2000-03-05\n",
      "06-03-2000 730185 2000-03-06\n",
      "07-03-2000 730186 2000-03-07\n",
      "08-03-2000 730187 2000-03-08\n",
      "09-03-2000 730188 2000-03-09\n",
      "10-03-2000 730189 2000-03-10\n",
      "11-03-2000 730190 2000-03-11\n",
      "12-03-2000 730191 2000-03-12\n",
      "13-03-2000 730192 2000-03-13\n",
      "14-03-2000 730193 2000-03-14\n",
      "15-03-2000 730194 2000-03-15\n",
      "16-03-2000 730195 2000-03-16\n",
      "17-03-2000 730196 2000-03-17\n",
      "18-03-2000 730197 2000-03-18\n",
      "19-03-2000 730198 2000-03-19\n",
      "20-03-2000 730199 2000-03-20\n",
      "21-03-2000 730200 2000-03-21\n",
      "22-03-2000 730201 2000-03-22\n",
      "23-03-2000 730202 2000-03-23\n",
      "24-03-2000 730203 2000-03-24\n",
      "25-03-2000 730204 2000-03-25\n",
      "26-03-2000 730205 2000-03-26\n",
      "27-03-2000 730206 2000-03-27\n",
      "28-03-2000 730207 2000-03-28\n",
      "29-03-2000 730208 2000-03-29\n",
      "30-03-2000 730209 2000-03-30\n"
     ]
    }
   ],
   "source": [
    "import datetime as dt\n",
    "\n",
    "hoy = dt.date.today()\n",
    "print(\"\\nEl día de hoy es: \", hoy, \"\\n\")\n",
    "\n",
    "# Generar series de tiempo\n",
    "ifecha = dt.datetime.strptime(\"01-01-2000\", \"%d-%m-%Y\")\n",
    "ffecha = dt.datetime.strptime(\"31-03-2000\", \"%d-%m-%Y\")\n",
    "\n",
    "serieTemporal = [ifecha + dt.timedelta(days=x) for x in range(0, (ffecha-ifecha).days)]\n",
    "\n",
    "# Se imprime en pantalla dos formas en fecha normal (primera columna de cadena de caracteres) \n",
    "# y en día juliano(serie ordinal, segunda columna de cadena de caracteres).\n",
    "print(\"{0:9} {1:5} {2}\".format(\"date\", \"Juliano\", \"date\"))\n",
    "for ifecha in serieTemporal:   \n",
    "   print(ifecha.strftime(\"%d-%m-%Y\"), ifecha.toordinal(), ifecha.strftime(\"%Y-%m-%d\"))"
   ]
  },
  {
   "cell_type": "markdown",
   "metadata": {},
   "source": [
    "## 8.4. Matemáticas\n",
    "El módulo **math** permite el acceso a las funciones matematicas. Por ejemplo: funciones trigonometricas y sus inversas, función exponencial, función logarítmica, el cuadrado de un número, la raiz cuadrada de un número y el valor del número pi."
   ]
  },
  {
   "cell_type": "code",
   "execution_count": 54,
   "metadata": {
    "collapsed": false
   },
   "outputs": [
    {
     "name": "stdout",
     "output_type": "stream",
     "text": [
      "['__doc__', '__file__', '__loader__', '__name__', '__package__', '__spec__', 'acos', 'acosh', 'asin', 'asinh', 'atan', 'atan2', 'atanh', 'ceil', 'copysign', 'cos', 'cosh', 'degrees', 'e', 'erf', 'erfc', 'exp', 'expm1', 'fabs', 'factorial', 'floor', 'fmod', 'frexp', 'fsum', 'gamma', 'gcd', 'hypot', 'inf', 'isclose', 'isfinite', 'isinf', 'isnan', 'ldexp', 'lgamma', 'log', 'log10', 'log1p', 'log2', 'modf', 'nan', 'pi', 'pow', 'radians', 'sin', 'sinh', 'sqrt', 'tan', 'tanh', 'tau', 'trunc']\n",
      "atanh(x)\n",
      "\n",
      "Return the inverse hyperbolic tangent of x.\n",
      "pi = 3.141592653589793\n",
      "Numeros elevados a un exponente int y float\n",
      "5**2 = 25\n",
      "5**3 = 125\n",
      "5**4 = 625\n",
      "25**0.5 = 5.0\n",
      "\n",
      "Raiz de un número \n",
      "25**(1/2)= 5.0\n",
      "\n",
      "e = 2.718281828459045\n",
      "Ln(e) = 1.0\n",
      "\n",
      "Logaritmo de 15 en base 10\n",
      "1.1760912590556813\n",
      "\n",
      "Logaritmo de 10 en base 10\n",
      "1.0\n"
     ]
    }
   ],
   "source": [
    "import math\n",
    "\n",
    "print(dir(math))\n",
    "print(math.atanh.__doc__)\n",
    "\n",
    "pi_val = math .pi\n",
    "print(\"pi =\", pi_val)\n",
    "\n",
    "# Numeros elevados a un exponente int y float\n",
    "print(\"Numeros elevados a un exponente int y float\")\n",
    "print(\"5**2 =\", pow(5,2))\n",
    "print(\"5**3 =\", pow(5,3))\n",
    "print(\"5**4 =\", pow(5,4))\n",
    "print(\"25**0.5 =\", pow(25,0.5))\n",
    "\n",
    "# Raiz de un número \n",
    "print(\"\\nRaiz de un número \")\n",
    "print(\"25**(1/2)=\", math.sqrt(25)) \n",
    "\n",
    "# Número neperiano (e)\n",
    "e = math.e\n",
    "print(\"\\ne =\", e)\n",
    "\n",
    "# Logaritmo neperiano de (e)\n",
    "print(\"Ln(e) =\", math.log(e))\n",
    "\n",
    "# Logaritmo de x en base 10\n",
    "print(\"\\nLogaritmo de 15 en base 10\")\n",
    "x=15\n",
    "print(math.log10(x))\n",
    "\n",
    "print(\"\\nLogaritmo de 10 en base 10\")\n",
    "y=10\n",
    "print(math.log10(y))\n"
   ]
  },
  {
   "cell_type": "markdown",
   "metadata": {},
   "source": [
    "## 8.5. Acceso a internet\n",
    "El módulo **urllib.request** permite acceder a la red internet y procesar sus protocolos para traer data de la URLs. Por ejemplo: hacer un programa que permita extraer los **METAR** de los diferentes aeródromos del Perú. Ver fiura\n",
    "<img src=\"util/aerodPeru.png\" alt=\"Smiley face\" height=\"450\" width=\"450\">\n",
    "Figura: Tomado de: http://www.corpac.gob.pe/app/Meteorologia/tiempo/reportemetar.php\n"
   ]
  },
  {
   "cell_type": "code",
   "execution_count": null,
   "metadata": {
    "collapsed": false
   },
   "outputs": [
    {
     "name": "stdout",
     "output_type": "stream",
     "text": [
      "201808290000Z 16012KT 9999 OVC017 17/1 22010KT TEMPO 2919/2921 34012KT FEW023CB\n",
      "201808290100Z 16009KT 9999 SCT007 OVC014 17/14 012 14/10 Q1015 NOSIG\n"
     ]
    }
   ],
   "source": [
    "# Agregar path del directorio donde se encuentra el módulo getmetar.py\n",
    "import sys\n",
    "pathdir =\"/home/data/prycts/pyprojects/workshop/senamhi/2018/Workshop2018Python-master/Modulo1/proyectos/getmetar\"\n",
    "sys.path.append(pathdir)\n",
    "\n",
    "# Importar el módulo getmetar.py como gm.\n",
    "import getmetar as gm\n",
    "\n",
    "# Crear un diccionario con los ID de algunos aeródromos del Perú\n",
    "idPeru  = {\"tumbes\":\"spme\",\n",
    "\t\t   \"iquitos\":\"spqt\",\n",
    "           \"talara\":\"spyl\",\n",
    "\t\t   \"piura\":\"spur\",\n",
    "\t\t   \"andahuaylas\":\"sphy\",\n",
    "\t\t   \"lima\":\"spjc\"\n",
    "\t\t   }\n",
    "# Generar pediódo de días y horas del cual se extraerá los metar.\n",
    "days = range(29,30,1)\n",
    "hours= range(0,15,1)\n",
    "\n",
    "# Elegir el aerodromo\n",
    "ID = idPeru[\"lima\"]\n",
    "\n",
    "# Descargar y almacenaren en la PC de manera permante los metar en archivo de texto\n",
    "f = open('./data/metar_'+ID+'.txt', 'a')\n",
    "for iday in days:\n",
    "\tfor ihour in hours:\n",
    "\t\tmetarData = gm.getMetar(2018,8,iday,ihour,ID)\n",
    "\t\tprint(metarData)\n",
    "\t\tf.write(\"{0}\\n\".format(metarData))\n",
    "\n",
    "f.close()\n",
    "print(\"Se crearon los archivos correctamente...!!!\")"
   ]
  },
  {
   "cell_type": "code",
   "execution_count": null,
   "metadata": {
    "collapsed": true
   },
   "outputs": [],
   "source": []
  }
 ],
 "metadata": {
  "kernelspec": {
   "display_name": "Python 3",
   "language": "python",
   "name": "python3"
  },
  "language_info": {
   "codemirror_mode": {
    "name": "ipython",
    "version": 3
   },
   "file_extension": ".py",
   "mimetype": "text/x-python",
   "name": "python",
   "nbconvert_exporter": "python",
   "pygments_lexer": "ipython3",
   "version": "3.6.0"
  }
 },
 "nbformat": 4,
 "nbformat_minor": 2
}
