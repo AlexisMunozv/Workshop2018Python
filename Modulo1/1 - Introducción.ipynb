{
 "cells": [
  {
   "cell_type": "markdown",
   "metadata": {
    "slideshow": {
     "slide_type": "slide"
    }
   },
   "source": [
    "# Python para Geociencias"
   ]
  },
  {
   "cell_type": "markdown",
   "metadata": {
    "slideshow": {
     "slide_type": "fragment"
    }
   },
   "source": [
    "### Víctor Rojas\n",
    "#### vr.rojaspozo@gmail.com"
   ]
  },
  {
   "cell_type": "markdown",
   "metadata": {
    "slideshow": {
     "slide_type": "skip"
    }
   },
   "source": [
    "Esto es parte de las notas de [**Python para Geociencias**](https://github.com/vrrp/Workshop2018Python)."
   ]
  },
  {
   "cell_type": "markdown",
   "metadata": {},
   "source": [
    "# www.github.com/vrrp"
   ]
  },
  {
   "cell_type": "markdown",
   "metadata": {
    "slideshow": {
     "slide_type": "slide"
    }
   },
   "source": [
    "# Porque usar python?"
   ]
  },
  {
   "cell_type": "markdown",
   "metadata": {
    "slideshow": {
     "slide_type": "fragment"
    }
   },
   "source": [
    "## - Es fácil de aprender, fácil de leer y potente para desarrollar"
   ]
  },
  {
   "cell_type": "markdown",
   "metadata": {
    "slideshow": {
     "slide_type": "fragment"
    }
   },
   "source": [
    "Python se caraceriza por tener módulos y paquetes incluidos, esto significa que dentro de la instalación básica del lenguaje, ya se encuentran incluidas muchas funciones que ayudan a realizar tareas complejas sin la necesidad de instalar paquetes ó módulos adicionales de terceros.\n",
    "\n",
    "La sintaxis que ofrece Python es una de sus características más notorias. En Python, un bloque de código interno (condicionales,loops), se crea a través de indentaciones, lo que fuerza al desarrollador a indentar su código fuente garantizando una sintaxis ordenada y ordenada."
   ]
  },
  {
   "cell_type": "markdown",
   "metadata": {
    "slideshow": {
     "slide_type": "slide"
    }
   },
   "source": [
    "##  - Es libre y de código abierto. "
   ]
  },
  {
   "cell_type": "markdown",
   "metadata": {
    "slideshow": {
     "slide_type": "fragment"
    }
   },
   "source": [
    "Python cuenta con licencia Python Software Foundation License, licencia muy parecida a la de GPL, con la excepción de que se puede distribuir los binarios del lenguaje sin tener que anexar las fuentes.\n",
    "\n",
    "La General license Public (GLP), permite a los usuarios usar modificar y redistribuir el software sin restricción alguna y garantizar la no apropiación del software."
   ]
  },
  {
   "cell_type": "markdown",
   "metadata": {
    "slideshow": {
     "slide_type": "slide"
    }
   },
   "source": [
    "## - Es multiplataforma."
   ]
  },
  {
   "cell_type": "markdown",
   "metadata": {
    "slideshow": {
     "slide_type": "fragment"
    }
   },
   "source": [
    "Python es un lenguaje de programación interpretado y es compatible con cualquier tipo de sistema operativo (Linux, Mac y Windows) que integre su interpretador. Asimismo, es posible utilizar ejecutables compilados en Fortran, C++ y Java."
   ]
  },
  {
   "cell_type": "markdown",
   "metadata": {
    "slideshow": {
     "slide_type": "slide"
    }
   },
   "source": [
    "## - Es un lenguaje de propósito general."
   ]
  },
  {
   "cell_type": "markdown",
   "metadata": {
    "slideshow": {
     "slide_type": "fragment"
    }
   },
   "source": [
    "Python no sólo es multiplataforma, sino que también tiene la capacidad  y potencia para desarrollar aplicaciones web, apps y base de datos. Para estos fines Python cuenta con frameworks, los cuales permiten desarrollar algoritmos científicos de cálculo avanzado, hasta el desarrollo de juegos. Cabe resaltar que empresas prestigiosas, utilizan Python para programar todo tipo de aplicaciones y servicios. Los usuarios más distinguidos son Google, YouTube o Facebook."
   ]
  },
  {
   "cell_type": "markdown",
   "metadata": {
    "slideshow": {
     "slide_type": "slide"
    }
   },
   "source": [
    "# Desventajas:"
   ]
  },
  {
   "cell_type": "markdown",
   "metadata": {
    "slideshow": {
     "slide_type": "fragment"
    }
   },
   "source": [
    "## - Hay una base pequeña de código heredada"
   ]
  },
  {
   "cell_type": "markdown",
   "metadata": {
    "slideshow": {
     "slide_type": "fragment"
    }
   },
   "source": [
    "Fortran y Matlab vienen siendo usados hace décadas, y tiene muchas bibliotecas para todo tipo de necesidades científicas. Aunque ahora la gran mayoría están siendo  cubiertas por módulos de python."
   ]
  },
  {
   "cell_type": "markdown",
   "metadata": {
    "slideshow": {
     "slide_type": "slide"
    }
   },
   "source": [
    "## - Es lento"
   ]
  },
  {
   "cell_type": "markdown",
   "metadata": {
    "slideshow": {
     "slide_type": "fragment"
    }
   },
   "source": [
    "Para un número grande de iteraciones si no se usa vectorización, [Cython](http://www.cython.org/) ó [numba](https://numba.pydata.org/).  "
   ]
  },
  {
   "cell_type": "markdown",
   "metadata": {
    "slideshow": {
     "slide_type": "slide"
    }
   },
   "source": [
    "Más lecturas acerca del tema:\n",
    "\n",
    "*  [10 Reasons Python Rocks for Research (And a Few Reasons it Doesn’t)](http://www.stat.washington.edu/~hoytak/blog/whypython.html)\n",
    "*  [I used Matlab. Now I use Python](http://stevetjoa.com/305/)\n",
    "*  [Eight Advantages of Python Over Matlab](http://phillipmfeldman.org/Python/Advantages_of_Python_Over_Matlab.html)"
   ]
  },
  {
   "cell_type": "markdown",
   "metadata": {
    "slideshow": {
     "slide_type": "slide"
    }
   },
   "source": [
    "# Usando Python en Ciencias de la Tierra"
   ]
  },
  {
   "cell_type": "markdown",
   "metadata": {
    "slideshow": {
     "slide_type": "fragment"
    }
   },
   "source": [
    "Lin, J. W.-B. (2012). [**Why Python Is the Next Wave in Earth Sciences Computing**](http://journals.ametsoc.org/doi/full/10.1175/BAMS-D-12-00148.1). *Bulletin of the American Meteorological Society*, 93(12), 1823–1824. doi:10.1175/BAMS-D-12-00148.1"
   ]
  },
  {
   "cell_type": "markdown",
   "metadata": {
    "slideshow": {
     "slide_type": "fragment"
    }
   },
   "source": [
    "* A pesar de que ha existido durante dos décadas, explotó en uso en las ciencias atmosféricas hace solo unos años después de que la comunidad de desarrollo convergiera en los paquetes científicos estándar (por ejemplo, manejo de matrices) necesarios para el trabajo de las ciencias atmosféricas.\n",
    "\n",
    "\n",
    "* Flujo de trabajo mucho más robusto y flexible. Todo, desde la descarga de datos hasta el análisis de datos, la visualización y, finalmente, la redacción de un documento, puede realizarse en un solo entorno."
   ]
  },
  {
   "cell_type": "markdown",
   "metadata": {
    "slideshow": {
     "slide_type": "slide"
    }
   },
   "source": [
    "* La capacidad de acceder a innovaciones de industrias ajenas a las ciencias de la Tierra (computación en la nube, big data, informática móvil).\n",
    "\n",
    "- El apoyo institucional incluye grupos en el Programa Laboratorio Nacional Lawrence Livermore para el Diagnóstico e Intercomparación de Modelos Climáticos, el Laboratorio de Sistemas Informáticos de NCAR y el Centro de Datos Atmosféricos Británicos."
   ]
  },
  {
   "cell_type": "markdown",
   "metadata": {
    "slideshow": {
     "slide_type": "slide"
    }
   },
   "source": [
    "# El ecosistema Python\n",
    "\n",
    "<img  height=\"200\" src=\"util/imagen.png\">"
   ]
  },
  {
   "cell_type": "markdown",
   "metadata": {
    "slideshow": {
     "slide_type": "fragment"
    }
   },
   "source": [
    "# Instalar Python 3\n",
    "\n",
    "\n",
    "1. Descargar el código fuente de [**Python 3**](https://www.python.org/).\n",
    "2. Ejecutar en un terminal:\n",
    "    ###### $ tar xf Python-3.7.0.tar.xz   \n",
    "    \n",
    "    ###### $ cd Python-3.7.0              \n",
    "        \n",
    "    ###### $ ./configure\n",
    "    \n",
    "    ###### $ make\n",
    "    \n",
    "    ###### $ sudo make altinstall\n",
    "3. \n",
    "\n",
    "\n"
   ]
  },
  {
   "cell_type": "markdown",
   "metadata": {
    "collapsed": true
   },
   "source": [
    "# Instalar Anaconda 3\n",
    "1. Descargar el código fuente de [**Anaconda 3**](https://www.anaconda.com/).\n",
    "2. Ejecutar en un terminal:\n",
    "   #### $ sh Anaconda3-5.1.0-Linux-x86_64.sh\n"
   ]
  },
  {
   "cell_type": "markdown",
   "metadata": {
    "collapsed": true
   },
   "source": [
    "# Instalar paquetes adicionales usando conda\n",
    "\n",
    "### 0. Ver todos los paquetes compilados por Anaconda\n",
    "$ conda list\n",
    "\n",
    "### 1. Instalar netCDF4\n",
    "\n",
    "$ conda install -c conda-forge netcdf4\n",
    "\n",
    "### 2. Instalar basemap\n",
    "\n",
    "$ conda install -c conda-forge basemap\n",
    "\n",
    "### 3. Install basemap hires\n",
    "\n",
    "$ conda install -c conda-forge basemap-data-hires"
   ]
  },
  {
   "cell_type": "markdown",
   "metadata": {},
   "source": [
    "# Instalar gdal usando conda"
   ]
  },
  {
   "cell_type": "code",
   "execution_count": null,
   "metadata": {
    "collapsed": true
   },
   "outputs": [],
   "source": []
  }
 ],
 "metadata": {
  "kernelspec": {
   "display_name": "Python 3",
   "language": "python",
   "name": "python3"
  },
  "language_info": {
   "codemirror_mode": {
    "name": "ipython",
    "version": 3
   },
   "file_extension": ".py",
   "mimetype": "text/x-python",
   "name": "python",
   "nbconvert_exporter": "python",
   "pygments_lexer": "ipython3",
   "version": "3.6.0"
  }
 },
 "nbformat": 4,
 "nbformat_minor": 1
}
