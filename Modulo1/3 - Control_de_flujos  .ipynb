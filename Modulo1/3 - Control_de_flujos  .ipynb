{
 "cells": [
  {
   "cell_type": "markdown",
   "metadata": {},
   "source": [
    "# Python para Geociencias"
   ]
  },
  {
   "cell_type": "markdown",
   "metadata": {},
   "source": [
    "### Víctor Rojas\n",
    "#### vr.rojaspozo@gmail.com"
   ]
  },
  {
   "cell_type": "markdown",
   "metadata": {},
   "source": [
    "Esto es parte de las notas de [**Python para Geociencias**](https://github.com/vrrp/Workshop2018Python)."
   ]
  },
  {
   "cell_type": "markdown",
   "metadata": {},
   "source": [
    "# 3. Control de flujos\n",
    "Las estructuras de control de flujos, son bloques de código que permite agrupar instrucciones de manera supervisada. En este capítulo, hablaremos sobre dos tipos:\n",
    "* Control de flujo condicionales: \n",
    "* Control de flujo iterativos\n",
    "\n",
    "Antes de hablar de estructuras de control de flujo en Python, es importante hablar de indentación.\n",
    "## Indentación\n",
    "Es un tipo de notación utilizado para mejorar la legibilidad del código fuente por parte de los programadores, teniendo en cuenta que los compiladores o intérpretes raramente cosideran los espacios en blanco entre las sentencias de sus programas.\n",
    "En la sintaxis de Python no se encuentra **(begin)** o **(end)** explicitos, **ni llaves que marquen dónde empieza o termina su código**. El único delimitador son dos puntos **(:)** y el sangrado del propio código. \n",
    "## Encoding\n",
    "El encoding (o codificación de caracteres) es otro de los elementos del lenguaje que no pueden omitirse a la hora de hablar de estructuras de control de flujos. El encoding no es más que una directiva que se coloca al inicio de un archivo de Python, a fin de indicar al sistema, la codificación de caracteres utilizada en el archivo."
   ]
  },
  {
   "cell_type": "markdown",
   "metadata": {
    "collapsed": true
   },
   "source": [
    "### # -*- coding: utf-8 -*-"
   ]
  },
  {
   "cell_type": "markdown",
   "metadata": {},
   "source": [
    "## 3.1. Control de flujos condicionales\n",
    "Estos tipos de control de flujos permiten evaluar condicionales para que el programa se ejecute de diferentes formas, ya sea que se ejecute un fragmento de código u otro, dependiendo del resultado de las condicionales (**True**, **False**).\n",
    "\n",
    "La acción de evaluar condicionales es parte de nuestra vida cotidiana y, sucede de manera mucho más frecuente de lo que creemos. Por ejemplo, antes de cruzar una avenida primero evaluamos el estado en que se encuentra el semáforo, si la luz del semáforo es rojo, no cruzamos la pista, pero si la luz es de color verde, si cruzamos la pista. Por lo tanto, en este caso muy familiar, nuestra acción está determinada por el resultado de evaluar el estado del semáforo.\n",
    "\n",
    "| Símbolo | Significado   | Ejemplo | Resultado |\n",
    "|------|------|------|------|\n",
    "|   **==**  | Igual que | 4 **==** 18 | False |\n",
    "|   **!=**  | Distinto que | rojo **! =** verde | True |\n",
    "|   **<**  | Menor que | 12 **<** 30 | True |\n",
    "|   **>**  | Mayor que | 3 **>** 21 | False |\n",
    "|   **<=**  | Menor o igual que | 30 **<=** 30 | True |\n",
    "|   **>=**  | Mayor o igual que | 3 **>=** 5 | False |\n",
    "\n",
    "Para evaluar más de una condición simultáneamente, se utilizan operadores lógicos:\n",
    "\n",
    "| Operador | Ejemplo   | Explicación | Resultado |\n",
    "|------|------|------|------|\n",
    "|   and  | 5 == 7 **and** 7 > 12  | False **and** False | False |\n",
    "|   or  | 12 == 12 **or** 15 < 7  | True **or** False | True |\n",
    "\n",
    "Los flujos condicionales, se definen mediante el uso de tres palabras reservadas: **if**, **elif** y **else**."
   ]
  },
  {
   "cell_type": "markdown",
   "metadata": {},
   "source": [
    "### Ejemplos:"
   ]
  },
  {
   "cell_type": "code",
   "execution_count": 3,
   "metadata": {
    "collapsed": false
   },
   "outputs": [
    {
     "name": "stdout",
     "output_type": "stream",
     "text": [
      "El medio ambiente esta muy frío!!!\n"
     ]
    }
   ],
   "source": [
    "temp = [15, 22, 30]\n",
    "\n",
    "i=0\n",
    "val = temp[i]\n",
    "\n",
    "if 12 <= val < 22: \n",
    "    print(\"El medio ambiente esta muy frío!!!\")\n",
    "elif val == 22:\n",
    "    print(\"El medio ambiente presenta condiciones normales\")\n",
    "elif val > 22:\n",
    "    print(\"El medio ambiente está cálido!!!!\")\n",
    "else: (\" es otro planeta\")"
   ]
  },
  {
   "cell_type": "code",
   "execution_count": 8,
   "metadata": {
    "collapsed": false
   },
   "outputs": [
    {
     "name": "stdout",
     "output_type": "stream",
     "text": [
      "Temperatura \t=  15 °C \n",
      "estado suelo \t=  charcos\n",
      " Faltan datos\n"
     ]
    }
   ],
   "source": [
    "temp = [15, 22, 30]\n",
    "suelo= [\"seco\", \"humedo\", \"charcos\"]\n",
    "\n",
    "valtemp = temp[0]\n",
    "valsuelo= suelo[2]\n",
    "\n",
    "print(\"Temperatura \\t= \", valtemp, \"°C\",\"\\nestado suelo \\t= \", valsuelo)\n",
    "\n",
    "if 12<= valtemp < 22 and valsuelo ==\"seco\": \n",
    "    print(\"Cielo despejado\")\n",
    "    \n",
    "elif valtemp == 22 or valsuelo == \"humedo\":\n",
    "    print(\"lluvia leve\")\n",
    "    \n",
    "elif valtemp > 22 and valsuelo==\"charcos\":\n",
    "    print(\"lluvia severa\")\n",
    "    \n",
    "else: print(\" Faltan datos\")"
   ]
  },
  {
   "cell_type": "markdown",
   "metadata": {},
   "source": [
    "Anidado usando **if**:"
   ]
  },
  {
   "cell_type": "code",
   "execution_count": 67,
   "metadata": {
    "collapsed": false
   },
   "outputs": [
    {
     "name": "stdout",
     "output_type": "stream",
     "text": [
      "Es un número positivo\n"
     ]
    }
   ],
   "source": [
    "numero = 9\n",
    "if numero>=0:\n",
    "    if numero ==0:\n",
    "        print(\"Cero\")\n",
    "    else: print(\"Es un número positivo\")\n",
    "else: print(\"Es un número negativo\")"
   ]
  },
  {
   "cell_type": "code",
   "execution_count": 9,
   "metadata": {
    "collapsed": false
   },
   "outputs": [
    {
     "name": "stdout",
     "output_type": "stream",
     "text": [
      "No es un número, sino es una cadena\n"
     ]
    }
   ],
   "source": [
    "val = \"-3\"\n",
    "\n",
    "if type(val) is float:\n",
    "    if val < 0:\n",
    "        print(\"Es un número real negativo\")\n",
    "    elif val > 0:\n",
    "        print(\"Es un número real positivo\")\n",
    "if type(val) is int:\n",
    "    if val < 0:\n",
    "        print(\"Es un número entero negativo\")\n",
    "    elif val > 0:\n",
    "        print(\"Es un número entero positivo\")\n",
    "else: print(\"No es un número, sino es una cadena\")\n",
    "        "
   ]
  },
  {
   "cell_type": "markdown",
   "metadata": {},
   "source": [
    "## Solución de una ecuación de segundo grado\n",
    "### $\\mathbf{a}x^{2} + \\mathbf{b}x + \\mathbf{c}$  ...... (1)\n",
    "\n",
    "### Discriminante de una ecuación de segundo grado: ($\\Delta$)\n",
    "\n",
    "### $\\Delta = \\mathbf{b} ^{2} - 4\\mathbf{a}\\mathbf{c}$ ..... (2)\n",
    "\n",
    "### $\\mathbf{x_{1}} = \\frac{- b + \\sqrt{\\Delta}}{2a}$\n",
    "\n",
    "### $\\mathbf{x_{2}} = \\frac{- b - \\sqrt{\\Delta}}{2a}$\n",
    "\n",
    "Donde:  $\\mathbf{x_{1}}$ y $\\mathbf{x_{2}}$, son las soluciones de la ecuación  $\\mathbf{(1)}$\n",
    "\n",
    "#### Condiciones\n",
    "\n",
    "#### si $\\Delta > 0 $, existen dos soluciones\n",
    "\n",
    "#### si $\\Delta = 0 $, existen una única solución\n",
    "\n",
    "#### si $\\Delta < 0 $, existen no existen soluciones reales"
   ]
  },
  {
   "cell_type": "code",
   "execution_count": 20,
   "metadata": {
    "collapsed": false
   },
   "outputs": [
    {
     "name": "stdout",
     "output_type": "stream",
     "text": [
      "Solución de una ecuación de segundo grado\n",
      "\n",
      "ax**2 + bx + c\n",
      "\n",
      "a= 2\n",
      "b= 5\n",
      "c= 1\n",
      "discriminante = 17.0\n",
      "x1 =  -0.21922359359558485\n",
      "x2 =  -2.2807764064044154\n",
      "\n",
      "\n",
      "2.0 ( -0.21922359359558485 **2) + 5.0 ( -0.21922359359558485 ) + 1.0  =  0.0\n",
      "2.0 ( -2.2807764064044154 **2) + 5.0 ( -2.2807764064044154 ) + 1.0  =  1.7763568394002505e-15\n"
     ]
    }
   ],
   "source": [
    "print(\"Solución de una ecuación de segundo grado\\n\")\n",
    "print(\"ax**2 + bx + c\\n\")\n",
    "\n",
    "a = float(input(\"a= \"))\n",
    "b = float(input(\"b= \"))\n",
    "c = float(input(\"c= \"))\n",
    "\n",
    "# Determinar el discriminante usando la ecuación (2)\n",
    "discriminante = b**2 - 4*a*c\n",
    "print(\"discriminante =\", discriminante)\n",
    "\n",
    "# Determinando las solucioines x1 y x2\n",
    "import math \n",
    "if discriminante >0:\n",
    "    x1 = (-b + math.sqrt(discriminante) )/(2*a)\n",
    "    x2 = (-b - math.sqrt(discriminante) )/(2*a)\n",
    "    \n",
    "    print(\"x1 = \", x1)\n",
    "    print(\"x2 = \", x2)\n",
    "\n",
    "elif discriminante ==0:\n",
    "    x1 = (-b + math.sqrt(discriminante) )/(2*a)\n",
    "    x2 = x1\n",
    "    print(\"x1,2= \", x2)\n",
    "\n",
    "else: print(\"La ecuación no tiene soluciones reales\")\n",
    "print(\"\\n\")\n",
    "print(a,\"(\",x1,\"**2) +\",  b,\"(\",x1,\") +\", c, \" = \", a*x1**2 + b*x1 + c)\n",
    "    \n",
    "print(a,\"(\",x2,\"**2) +\",  b,\"(\",x2,\") +\", c, \" = \", a*x2**2 + b*x2 + c)\n"
   ]
  },
  {
   "cell_type": "markdown",
   "metadata": {},
   "source": [
    "\n",
    "### MRU y MRUV\n",
    "\n",
    "MRU: Movimiento rectilinio uniforne\n",
    "\n",
    "$a=0$\n",
    "\n",
    "**$d = v_{o} \\times t$**\n",
    "\n",
    "MRUV: Movimiento rectilinio uniforme variado\n",
    "\n",
    "$a\\not=0$\n",
    "\n",
    "$d = v_{o} \\times t \\pm \\frac{1}{2}a\\times t^{2}$\n",
    "\n"
   ]
  },
  {
   "cell_type": "code",
   "execution_count": 31,
   "metadata": {
    "collapsed": false
   },
   "outputs": [
    {
     "name": "stdout",
     "output_type": "stream",
     "text": [
      "Condiciones iniciales\n",
      "t = 2\n",
      "v = 3\n",
      "a = 4\n",
      "\n",
      "MRUV\n",
      "----\n",
      "d =  14.0\n"
     ]
    }
   ],
   "source": [
    "print(\"Condiciones iniciales\")\n",
    "t = float(input(\"t = \"))\n",
    "v = float(input(\"v = \"))\n",
    "a = float(input(\"a = \"))\n",
    "\n",
    "if a==0:\n",
    "    print(\"\\nMRU\")\n",
    "    print(\"-\"*len(\"MRU\"))\n",
    "    \n",
    "    d = v*t\n",
    "    print(\"d = \",v , \"(\", t, \") = \", d)\n",
    "else:\n",
    "    print(\"\\nMRUV\")\n",
    "    print(\"-\"*len(\"MRUV\"))\n",
    "    \n",
    "    d = v*t + 1/2*a*t**2\n",
    "    print(\"d = \", d)"
   ]
  },
  {
   "cell_type": "markdown",
   "metadata": {},
   "source": [
    "## 3.2. Control de flujos iterativos\n",
    "\n",
    "A diferencia de las estructuras de control condicionales, las iterativas, permiten ejecutar un mismo código, de manera repetida, mientras se cumpla una condición.\n",
    "\n",
    "Cuando los datos se recolectan en una objeto (tuplas, listas, diccionarios, arrays y/o matrices), a menudo queremos realizar la misma operación en cada elemento del objeto. Para lo cual, tenemos que recorrer todos los elementos del objeto.\n",
    "\n",
    "En Python se dispone de dos estructuras cíclicas:\n",
    "* El bucle **for**\n",
    "* El bucle **while**"
   ]
  },
  {
   "cell_type": "markdown",
   "metadata": {},
   "source": [
    "### range()\n",
    "El tipo range es una lista inmutable de números enteros en sucesión aritmética. El tipo **range** se crea llamando al tipo de datos con uno, dos o tres argumentos numéricos, como si fuera una función.\n",
    "\n",
    "El tipo **range()** con un único argmento se escribe **range(n)** y crea una lista de **n** números enteros consecutivos que empieza en 0 y finaliza en **n-1**"
   ]
  },
  {
   "cell_type": "code",
   "execution_count": 23,
   "metadata": {
    "collapsed": false
   },
   "outputs": [
    {
     "name": "stdout",
     "output_type": "stream",
     "text": [
      "a =  [0, 1, 2, 3, 4, 5, 6, 7, 8, 9]\n",
      "<class 'range'>\n",
      "\n",
      "b =  [1, 2, 3, 4, 5, 6, 7, 8, 9]\n",
      "<class 'range'>\n",
      "\n",
      "c =  [1, 4, 7]\n",
      "<class 'range'>\n"
     ]
    }
   ],
   "source": [
    "a=range(10)\n",
    "print(\"a = \",list(a))\n",
    "print(type(a))\n",
    "\n",
    "\n",
    "b=range(1,10)\n",
    "print(\"\\nb = \",list(b))\n",
    "print(type(b))\n",
    "\n",
    "c=range(1,10,3)\n",
    "print(\"\\nc = \",list(c))\n",
    "print(type(c))"
   ]
  },
  {
   "cell_type": "markdown",
   "metadata": {},
   "source": [
    "### 3.2.1 El bucle for\n",
    "\n",
    "La sentencia **for** en Python difiere un poco de lo que uno puede estar acostumbrado en otros lenguajes. En lugar de siempre iterar sobre una progresión aritmética de números (como en Pascal) o darle al usuario la posibilidad de definir tanto el paso de la iteración como la condición de fin (como en C), la sentencia **for** de Python itera sobre los ítems de cualquier secuencia (una lista o una cadena de texto), en el orden que aparecen en la secuencia. Por ejemplo:"
   ]
  },
  {
   "cell_type": "markdown",
   "metadata": {},
   "source": [
    "#### El bucle for en cadenas"
   ]
  },
  {
   "cell_type": "code",
   "execution_count": 37,
   "metadata": {
    "collapsed": false
   },
   "outputs": [
    {
     "name": "stdout",
     "output_type": "stream",
     "text": [
      "ncaracteres=  19\n",
      "0 B\n",
      "1 i\n",
      "2 e\n",
      "3 n\n",
      "4 v\n",
      "5 e\n",
      "6 n\n",
      "7 i\n",
      "8 d\n",
      "9 o\n",
      "10  \n",
      "11 a\n",
      "12 ñ\n",
      "13 o\n",
      "14  \n",
      "15 2\n",
      "16 0\n",
      "17 1\n",
      "18 8\n"
     ]
    }
   ],
   "source": [
    "cadena = \"Bienvenido año 2018\"\n",
    "ncaracteres = len(cadena)\n",
    "print(\"ncaracteres= \", ncaracteres)\n",
    "\n",
    "for i in range(ncaracteres):\n",
    "    print(i, cadena[i])\n"
   ]
  },
  {
   "cell_type": "code",
   "execution_count": 26,
   "metadata": {
    "collapsed": false
   },
   "outputs": [
    {
     "name": "stdout",
     "output_type": "stream",
     "text": [
      "ncaracteres=  19\n",
      "B\n",
      "i\n",
      "e\n",
      "n\n",
      "v\n",
      "e\n",
      "n\n",
      "i\n",
      "d\n",
      "o\n",
      " \n",
      "a\n",
      "ñ\n",
      "o\n",
      " \n",
      "2\n",
      "0\n",
      "1\n",
      "8\n"
     ]
    }
   ],
   "source": [
    "cadena = \"Bienvenido año 2018\"\n",
    "ncaracteres = len(cadena)\n",
    "print(\"ncaracteres= \", ncaracteres)\n",
    "\n",
    "for i in cadena:\n",
    "    print(i)\n",
    "    "
   ]
  },
  {
   "cell_type": "markdown",
   "metadata": {},
   "source": [
    "#### El bucle for con tuplas"
   ]
  },
  {
   "cell_type": "code",
   "execution_count": 4,
   "metadata": {
    "collapsed": false
   },
   "outputs": [
    {
     "name": "stdout",
     "output_type": "stream",
     "text": [
      "Primera forma\n",
      "-------------\n",
      "0 1\n",
      "1 a\n",
      "2 34.55\n",
      "3 (3+4j)\n",
      "4 Hello world!\n",
      "\n",
      "Segunda forma\n",
      "--------------\n",
      "1\n",
      "a\n",
      "34.55\n",
      "(3+4j)\n",
      "Hello world!\n"
     ]
    }
   ],
   "source": [
    "t = (1, 'a', 34.55, 3 + 4j, 'Hello world!')\n",
    "n_elem = len(t)\n",
    "\n",
    "# Primera forma\n",
    "print(\"Primera forma\")\n",
    "print(\"-\"*len(\"Primera forma\"))\n",
    "for i in range(n_elem):\n",
    "    print(i, t[i])\n",
    "\n",
    "# Segunda Forma\n",
    "print(\"\\nSegunda forma\")\n",
    "print(\"-\"*len(\"\\nSegunda forma\"))\n",
    "for i in t:\n",
    "    print(i)"
   ]
  },
  {
   "cell_type": "markdown",
   "metadata": {},
   "source": [
    "#### El bucle for con listas"
   ]
  },
  {
   "cell_type": "code",
   "execution_count": 5,
   "metadata": {
    "collapsed": false
   },
   "outputs": [
    {
     "name": "stdout",
     "output_type": "stream",
     "text": [
      "Primera forma\n",
      "-------------\n",
      "0 1\n",
      "1 a\n",
      "2 34.55\n",
      "3 (3+4j)\n",
      "4 Hello world!\n",
      "\n",
      "Segunda forma\n",
      "--------------\n",
      "1\n",
      "a\n",
      "34.55\n",
      "(3+4j)\n",
      "Hello world!\n"
     ]
    }
   ],
   "source": [
    "l = [1, 'a', 34.55, 3 + 4j, 'Hello world!']\n",
    "n_elem = len(l)\n",
    "\n",
    "# Primera forma\n",
    "print(\"Primera forma\")\n",
    "print(\"-\"*len(\"Primera forma\"))\n",
    "for i in range(n_elem):\n",
    "    print(i, l[i])\n",
    "\n",
    "# Segunda Forma\n",
    "print(\"\\nSegunda forma\")\n",
    "print(\"-\"*len(\"\\nSegunda forma\"))\n",
    "for i in l:\n",
    "    print(i)"
   ]
  },
  {
   "cell_type": "markdown",
   "metadata": {},
   "source": [
    "#### El bucle for con diccionarios"
   ]
  },
  {
   "cell_type": "code",
   "execution_count": 36,
   "metadata": {
    "collapsed": false
   },
   "outputs": [
    {
     "name": "stdout",
     "output_type": "stream",
     "text": [
      "dict_keys(['region', 'superficie', 'altura', 'lat', 'lon'])\n",
      "dict_values(['costa', '2672km2', 154, -12, -77])\n",
      "dict_items([('region', 'costa'), ('superficie', '2672km2'), ('altura', 154), ('lat', -12), ('lon', -77)])\n",
      "\n",
      "Lima\n",
      "---- \n",
      "\n",
      "region --> costa\n",
      "superficie --> 2672km2\n",
      "altura --> 154\n",
      "lat --> -12\n",
      "lon --> -77\n"
     ]
    }
   ],
   "source": [
    "lima = {\"region\":\"costa\",\"superficie\":\"2672km2\",\"altura\": 154, \"lat\": -12, \"lon\":-77}\n",
    "\n",
    "keys  = lima.keys()\n",
    "values= lima.values()\n",
    "items = lima.items()\n",
    "print(keys)\n",
    "print(values)\n",
    "print(items)\n",
    "\n",
    "print(\"\\nLima\")\n",
    "print(\"-\"*len(\"Lima\"), \"\\n\")\n",
    "\n",
    "for i,j in items:\n",
    "    print('{0} --> {1}'.format(i , j))    "
   ]
  },
  {
   "cell_type": "markdown",
   "metadata": {},
   "source": [
    "### Iteraciones de multiples variables usando el bucle: for"
   ]
  },
  {
   "cell_type": "code",
   "execution_count": 17,
   "metadata": {
    "collapsed": false
   },
   "outputs": [
    {
     "name": "stdout",
     "output_type": "stream",
     "text": [
      "airTemp  22.0 °C\n",
      "sst  27.0 °C\n",
      "asst  1.5 °C\n",
      "rain  30.0 mm/day\n",
      "uwind  10.0 m/s\n",
      "vwind  20.0 m/s\n",
      "presión  1005.0 hPa\n"
     ]
    }
   ],
   "source": [
    "var = [\"airTemp\", \"sst\", \"asst\", \"rain\", \"uwind\", \"vwind\", \"presión\"]\n",
    "val = [22, 27,1.5, 30,10,20,1005]\n",
    "unit= [\"°C\", \"°C\", \"°C\", \"mm/day\", \"m/s\", \"m/s\", \"hPa\"]\n",
    "\n",
    "for ivar, ival, iunit in zip(var, val, unit):\n",
    "    #print(ivar,\"\\t\", ival,\"\\t\", iunit)\n",
    "    print('{0} {1: 1.1f} {2}'.format(ivar, ival, iunit))\n",
    "    "
   ]
  },
  {
   "cell_type": "code",
   "execution_count": 1,
   "metadata": {
    "collapsed": false
   },
   "outputs": [
    {
     "name": "stdout",
     "output_type": "stream",
     "text": [
      "a= True\n",
      "1 airTemp -->  22.0 °C\n",
      "2 sst -->  27.0 °C\n",
      "3 asst -->  1.5 °C\n",
      "4 rain -->  30.0 mm/day\n",
      "5 uwind -->  10.0 m/s\n",
      "6 vwind -->  20.0 m/s\n",
      "7 presión -->  1005.0 hPa\n"
     ]
    }
   ],
   "source": [
    "var = [\"airTemp\", \"sst\", \"asst\", \"rain\", \"uwind\", \"vwind\", \"presión\"]\n",
    "val = [22, 27,1.5, 30,10,20,1005]\n",
    "unit= [\"°C\", \"°C\", \"°C\", \"mm/day\", \"m/s\", \"m/s\", \"hPa\"]\n",
    "\n",
    "a= len(var) == len(val) and len(var)== len(unit)\n",
    "print(\"a=\", a)\n",
    "\n",
    "if a == True:\n",
    "    for i in range(len(var)):\n",
    "        print(i+1,'{0} --> {1: 1.1f} {2}'.format(var[i], val[i], unit[i]))\n",
    "else :\n",
    "    for ivar, ival, iunit in zip(var, val, unit):\n",
    "        #print(ivar,\"\\t\", ival,\"\\t\", iunit)\n",
    "        print('{0} --> {1: 1.1f} {2}'.format(ivar, ival, iunit))\n",
    "    "
   ]
  },
  {
   "cell_type": "markdown",
   "metadata": {},
   "source": [
    "### División en Python"
   ]
  },
  {
   "cell_type": "code",
   "execution_count": 52,
   "metadata": {
    "collapsed": false
   },
   "outputs": [
    {
     "name": "stdout",
     "output_type": "stream",
     "text": [
      "a =  2.3333333333333335\n",
      "b =  2\n",
      "c =  1\n"
     ]
    }
   ],
   "source": [
    "a = 7/3\n",
    "b = 7//3\n",
    "c = 7%3\n",
    "\n",
    "print(\"a = \", a)\n",
    "print(\"b = \", b)\n",
    "print(\"c = \", c)"
   ]
  },
  {
   "cell_type": "markdown",
   "metadata": {},
   "source": [
    "### Crear listas usando for, if : forma simplificada"
   ]
  },
  {
   "cell_type": "code",
   "execution_count": 44,
   "metadata": {
    "collapsed": false
   },
   "outputs": [
    {
     "name": "stdout",
     "output_type": "stream",
     "text": [
      "[0, 1, 4, 9, 16, 25]\n",
      "<class 'list'>\n"
     ]
    }
   ],
   "source": [
    "lista1 = [x for x in range(6)]\n",
    "print(lista1)\n",
    "print(type(lista1))"
   ]
  },
  {
   "cell_type": "code",
   "execution_count": 49,
   "metadata": {
    "collapsed": false
   },
   "outputs": [
    {
     "name": "stdout",
     "output_type": "stream",
     "text": [
      "[1, 3, 5, 7, 9, 11]\n",
      "<class 'list'>\n"
     ]
    }
   ],
   "source": [
    "lista2 = [2*x + 1 for x in range(6)]\n",
    "print(lista2)\n",
    "print(type(lista2))"
   ]
  },
  {
   "cell_type": "code",
   "execution_count": 21,
   "metadata": {
    "collapsed": false
   },
   "outputs": [
    {
     "name": "stdout",
     "output_type": "stream",
     "text": [
      "lista3 =  [0, 1, 2, 3, 4, 5]\n",
      "lista4 =  [1, 3, 5]\n",
      "lista5 =  [0, 2, 4]\n"
     ]
    }
   ],
   "source": [
    "lista3 = [x for x in range(6)]\n",
    "lista4 = [x for x in range(6) if x%2 == 1]\n",
    "lista5 = [x for x in range(6) if x%2 == 0]\n",
    "\n",
    "print(\"lista3 = \",lista3)\n",
    "print(\"lista4 = \", lista4)\n",
    "print(\"lista5 = \", lista5)"
   ]
  },
  {
   "cell_type": "markdown",
   "metadata": {},
   "source": [
    "### Crear listas usando for, if : forma extensa o tradicional"
   ]
  },
  {
   "cell_type": "code",
   "execution_count": 33,
   "metadata": {
    "collapsed": false
   },
   "outputs": [
    {
     "name": "stdout",
     "output_type": "stream",
     "text": [
      "lista1 =  [0, 1, 2, 3, 4, 5, 6, 7, 8, 9, 10, 11, 12, 13, 14, 15, 16, 17, 18, 19]\n",
      "lista2 =  []\n",
      "lista2 =  [3, 4, 5, 6, 7, 8, 9, 10]\n"
     ]
    }
   ],
   "source": [
    "lista1 = list(range(20))\n",
    "lista2 = []\n",
    "print(\"lista1 = \", lista1)\n",
    "print(\"lista2 = \", lista2)\n",
    "\n",
    "for i in lista1:\n",
    "    if 2 < i < 11:\n",
    "        lista2.append(i)\n",
    "    else: pass\n",
    "    \n",
    "print(\"lista2 = \", lista2)"
   ]
  },
  {
   "cell_type": "markdown",
   "metadata": {},
   "source": [
    "### Crear diccionarios usando for, if: forma simplificada"
   ]
  },
  {
   "cell_type": "code",
   "execution_count": 28,
   "metadata": {
    "collapsed": false
   },
   "outputs": [
    {
     "name": "stdout",
     "output_type": "stream",
     "text": [
      "dic1 =  {0: 0, 1: 1, 2: 4, 3: 9, 4: 16, 5: 25}\n",
      "dic2 =  {1: 1, 3: 9, 5: 25}\n",
      "dic3 =  {1: 1, 3: 9, 4: 16, 5: 25}\n"
     ]
    }
   ],
   "source": [
    "dic1 = {x: x*x for x in range(6)}\n",
    "print(\"dic1 = \",dic1)\n",
    "\n",
    "dic2 = {x: x*x for x in range(6) if x%2==1 }\n",
    "print(\"dic2 = \",dic2)\n",
    "\n",
    "dic3 = {x: x*x for x in range(6) if x%2==1 or x%3==1}\n",
    "print(\"dic3 = \", dic3)"
   ]
  },
  {
   "cell_type": "markdown",
   "metadata": {},
   "source": [
    "### Crear diccionarios usando for, if: forma extensa o tradicional"
   ]
  },
  {
   "cell_type": "code",
   "execution_count": 29,
   "metadata": {
    "collapsed": false
   },
   "outputs": [
    {
     "name": "stdout",
     "output_type": "stream",
     "text": [
      "dic2 =  {0: 0, 1: 1, 2: 4, 3: 9, 4: 16, 5: 25}\n",
      "dic3 =  {1: 1, 3: 9, 4: 16, 5: 25}\n"
     ]
    }
   ],
   "source": [
    "dic2 = {}\n",
    "for x in range(6):\n",
    "   dic2[x] = x*x\n",
    "\n",
    "print(\"dic2 = \", dic2)\n",
    "\n",
    "# usando condicionales\n",
    "dic3 = {}\n",
    "for x in range(6):\n",
    "    if x%2==1 or x%3==1:\n",
    "        dic3[x] = x*x\n",
    "\n",
    "print(\"dic3 = \", dic3)"
   ]
  },
  {
   "cell_type": "markdown",
   "metadata": {},
   "source": [
    "### Manipulando los elementos de un diccionario"
   ]
  },
  {
   "cell_type": "code",
   "execution_count": 11,
   "metadata": {
    "collapsed": false
   },
   "outputs": [
    {
     "name": "stdout",
     "output_type": "stream",
     "text": [
      "keys =  dict_keys(['Jan', 'Feb', 'Mar', 'Apr', 'May', 1, 2, 3, 4, 5])\n",
      "values =  dict_values([1, 2, 3, 4, 5, 'Jan', 'Feb', 'Mar', 'Apr', 'May'])\n",
      "\n",
      "kk =  ['Jan', 'Feb', 'Mar', 'Apr', 'May', 1, 2, 3, 4, 5]\n"
     ]
    }
   ],
   "source": [
    "numMonths = {'Jan':1, 'Feb':2, 'Mar':3, 'Apr':4, 'May':5,\n",
    "              1:'Jan', 2:'Feb', 3:'Mar', 4:'Apr', 5:'May'}\n",
    "\n",
    "keys  = numMonths.keys()\n",
    "values= numMonths.values()\n",
    "\n",
    "print('keys = ', keys)\n",
    "print('values = ', values)\n",
    "\n",
    "kk = []\n",
    "for ikk in numMonths:\n",
    "    kk.append(ikk)\n",
    "print(\"\\nkk = \", kk)"
   ]
  },
  {
   "cell_type": "markdown",
   "metadata": {
    "collapsed": true
   },
   "source": [
    "### 3.2.1 El bucle while\n",
    "\n",
    "El bucle **while** es un tipo de estructura que repite una tarea hasta que se cumpla la condición dada.\n",
    "\n",
    "En el loop **while**, se debe definir una condición específica que le indique al programa que deje de repetir la tarea. Cada vez que el programa completa la tarea, verifica la condición para decidir si detener o realizar la tarea.\n",
    "\n",
    "#### Ejemplos:"
   ]
  },
  {
   "cell_type": "code",
   "execution_count": 34,
   "metadata": {
    "collapsed": false
   },
   "outputs": [
    {
     "name": "stdout",
     "output_type": "stream",
     "text": [
      "1\n",
      "3\n",
      "6\n",
      "10\n",
      "15\n",
      "21\n",
      "28\n",
      "36\n",
      "45\n",
      "55\n",
      "--------------------\n",
      "sum =  55\n"
     ]
    }
   ],
   "source": [
    "n = 10\n",
    "\n",
    "# inicializa la  suma y el contador\n",
    "sum = 0\n",
    "i = 1\n",
    "\n",
    "while i <= n:\n",
    "    sum = sum + i\n",
    "    i = i+1    # actualiza el contador\n",
    "    print(sum)\n",
    "print(\"-\"*20)\n",
    "print(\"sum = \", sum)"
   ]
  },
  {
   "cell_type": "code",
   "execution_count": 25,
   "metadata": {
    "collapsed": false
   },
   "outputs": [
    {
     "name": "stdout",
     "output_type": "stream",
     "text": [
      "  C    K     F\n",
      "--------------------\n",
      "-20   253  -4.0\n",
      "-15   258   5.0\n",
      "-10   263  14.0\n",
      " -5   268  23.0\n",
      "  0   273  32.0\n",
      "  5   278  41.0\n",
      " 10   283  50.0\n",
      " 15   288  59.0\n",
      " 20   293  68.0\n",
      " 25   298  77.0\n",
      " 30   303  86.0\n",
      " 35   308  95.0\n",
      " 40   313 104.0\n"
     ]
    }
   ],
   "source": [
    "CC = [-20, -15, -10, -5, 0, 5, 10, 15, 20, 25, 30, 35, 40]\n",
    "i = 0\n",
    "print('  C    K     F')\n",
    "print(\"-\"*20)\n",
    "\n",
    "while i < len(CC):\n",
    "    C = CC[i]\n",
    "    K = CC[i] + 273\n",
    "    F = (9.0/5)*C + 32\n",
    "    print('%3d %5d %5.1f' %(C, K, F))\n",
    "    i += 1\n",
    "\n",
    "# Completar ejercicio!!!!"
   ]
  },
  {
   "cell_type": "code",
   "execution_count": 28,
   "metadata": {
    "collapsed": false
   },
   "outputs": [
    {
     "name": "stdout",
     "output_type": "stream",
     "text": [
      "Agregar variable: asst\n",
      "Agregar variable: sss\n",
      "Agregar variable: sst\n",
      "Agregar variable: wind\n",
      "['asst', 'sss', 'sst', 'wind']\n"
     ]
    }
   ],
   "source": [
    "name = 'temp'\n",
    "varName = []\n",
    "while name != 'wind':\n",
    "    name = input('Agregar variable: ')\n",
    "    varName.append(name)\n",
    "    \n",
    "print(varName)\n",
    "    \n",
    "    "
   ]
  },
  {
   "cell_type": "code",
   "execution_count": 2,
   "metadata": {
    "collapsed": false
   },
   "outputs": [
    {
     "name": "stdout",
     "output_type": "stream",
     "text": [
      "Agregar variable: sst\n",
      "Agregar variable: asst\n",
      "Agregar variable: prc\n",
      "Agregar variable: h\n",
      "Agregar variable: lw\n",
      "Agregar variable: sw\n",
      "Agregar variable: wind\n",
      "['sst', 'asst', 'prc', 'h', 'lw', 'sw']\n"
     ]
    }
   ],
   "source": [
    "varName = []\n",
    "while True:\n",
    "    name = input('Agregar variable: ')\n",
    "    if name==\"wind\":\n",
    "        break\n",
    "    else:\n",
    "        varName.append(name)\n",
    "    \n",
    "print(varName)"
   ]
  },
  {
   "cell_type": "code",
   "execution_count": 1,
   "metadata": {
    "collapsed": false
   },
   "outputs": [
    {
     "name": "stdout",
     "output_type": "stream",
     "text": [
      "Usuario: Victor\n",
      "contraseña: python3\n",
      "Acceso concedido\n"
     ]
    }
   ],
   "source": [
    "while True:\n",
    "    name = input(\"Usuario: \")\n",
    "    if name != 'Victor':\n",
    "        print(\"Este usuario no exite!!!, intentelo nuevamente...\")\n",
    "        continue\n",
    "    \n",
    "    passwd = input('contraseña: ')\n",
    "    if passwd == 'python3':\n",
    "        break\n",
    "print('Acceso concedido')"
   ]
  },
  {
   "cell_type": "code",
   "execution_count": null,
   "metadata": {
    "collapsed": true
   },
   "outputs": [],
   "source": []
  }
 ],
 "metadata": {
  "kernelspec": {
   "display_name": "Python 3",
   "language": "python",
   "name": "python3"
  },
  "language_info": {
   "codemirror_mode": {
    "name": "ipython",
    "version": 3
   },
   "file_extension": ".py",
   "mimetype": "text/x-python",
   "name": "python",
   "nbconvert_exporter": "python",
   "pygments_lexer": "ipython3",
   "version": "3.6.0"
  }
 },
 "nbformat": 4,
 "nbformat_minor": 2
}
